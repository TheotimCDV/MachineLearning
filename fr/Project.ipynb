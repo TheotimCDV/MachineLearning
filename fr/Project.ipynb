{
 "cells": [
  {
   "cell_type": "code",
   "execution_count": 1,
   "id": "addc4958-37f6-4dc6-94cb-0d40bcc19ccd",
   "metadata": {
    "tags": []
   },
   "outputs": [],
   "source": [
    "# Mon projet\n"
   ]
  },
  {
   "cell_type": "code",
   "execution_count": 4,
   "id": "00bcdfd2-0222-4a32-b605-d126ce761f6f",
   "metadata": {
    "tags": []
   },
   "outputs": [],
   "source": [
    "a = 12"
   ]
  },
  {
   "cell_type": "code",
   "execution_count": 5,
   "id": "23fa5212-7572-4181-9e6b-e1ce4fcef1ab",
   "metadata": {
    "tags": []
   },
   "outputs": [],
   "source": [
    "b = 10\n",
    "c = a*b"
   ]
  },
  {
   "cell_type": "code",
   "execution_count": 6,
   "id": "abe9f57b-d072-456d-9eef-e798d512a739",
   "metadata": {
    "tags": []
   },
   "outputs": [
    {
     "name": "stdout",
     "output_type": "stream",
     "text": [
      "12\n",
      "10\n",
      "120\n"
     ]
    }
   ],
   "source": [
    "print(a)\n",
    "print(b)\n",
    "print(c)"
   ]
  },
  {
   "cell_type": "code",
   "execution_count": 9,
   "id": "8c03218a-f1ef-4d0e-a859-2b1049d825ee",
   "metadata": {
    "tags": []
   },
   "outputs": [
    {
     "data": {
      "text/plain": [
       "10"
      ]
     },
     "execution_count": 9,
     "metadata": {},
     "output_type": "execute_result"
    }
   ],
   "source": [
    "c"
   ]
  },
  {
   "cell_type": "code",
   "execution_count": 8,
   "id": "5ef0bb96-5a5c-42fd-88ac-f72769b611b2",
   "metadata": {
    "tags": []
   },
   "outputs": [],
   "source": [
    "c = 10"
   ]
  },
  {
   "cell_type": "code",
   "execution_count": null,
   "id": "428dab5c-5179-484a-92a8-e0843142bc6a",
   "metadata": {},
   "outputs": [],
   "source": []
  }
 ],
 "metadata": {
  "kernelspec": {
   "display_name": "Python 3 (ipykernel)",
   "language": "python",
   "name": "python3"
  },
  "language_info": {
   "codemirror_mode": {
    "name": "ipython",
    "version": 3
   },
   "file_extension": ".py",
   "mimetype": "text/x-python",
   "name": "python",
   "nbconvert_exporter": "python",
   "pygments_lexer": "ipython3",
   "version": "3.11.5"
  }
 },
 "nbformat": 4,
 "nbformat_minor": 5
}
