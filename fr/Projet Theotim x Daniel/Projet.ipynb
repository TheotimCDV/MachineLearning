{
 "cells": [
  {
   "cell_type": "code",
   "execution_count": 1,
   "id": "2246367a-648f-4da2-a7ac-ef732c4f3cfd",
   "metadata": {
    "tags": []
   },
   "outputs": [
    {
     "name": "stdout",
     "output_type": "stream",
     "text": [
      "Requirement already satisfied: sparqlwrapper in c:\\users\\squin\\anaconda3\\lib\\site-packages (2.0.0)\n",
      "Requirement already satisfied: rdflib>=6.1.1 in c:\\users\\squin\\anaconda3\\lib\\site-packages (from sparqlwrapper) (7.1.3)\n",
      "Requirement already satisfied: pyparsing<4,>=2.1.0 in c:\\users\\squin\\anaconda3\\lib\\site-packages (from rdflib>=6.1.1->sparqlwrapper) (3.0.9)\n"
     ]
    }
   ],
   "source": [
    "!pip install sparqlwrapper"
   ]
  },
  {
   "cell_type": "code",
   "execution_count": 2,
   "id": "49a12d76-ad9b-4ac4-bd9d-1968a5c25262",
   "metadata": {
    "tags": []
   },
   "outputs": [
    {
     "name": "stdout",
     "output_type": "stream",
     "text": [
      "                                     Game           Label  \\\n",
      "0  http://www.wikidata.org/entity/Q177491        Breakout   \n",
      "1  http://www.wikidata.org/entity/Q349413       Homefront   \n",
      "2  http://www.wikidata.org/entity/Q216293            Pong   \n",
      "3  http://www.wikidata.org/entity/Q216995  Super Mario 64   \n",
      "4  http://www.wikidata.org/entity/Q264678          X-Moto   \n",
      "\n",
      "                                               Image  \n",
      "0  http://commons.wikimedia.org/wiki/Special:File...  \n",
      "1  http://commons.wikimedia.org/wiki/Special:File...  \n",
      "2  http://commons.wikimedia.org/wiki/Special:File...  \n",
      "3  http://commons.wikimedia.org/wiki/Special:File...  \n",
      "4  http://commons.wikimedia.org/wiki/Special:File...  \n"
     ]
    }
   ],
   "source": [
    "import sys\n",
    "import pandas as pd\n",
    "from SPARQLWrapper import SPARQLWrapper, JSON\n",
    "\n",
    "endpoint_url = \"https://query.wikidata.org/sparql\"\n",
    "\n",
    "# SPARQL Query\n",
    "query = \"\"\"\n",
    "SELECT DISTINCT ?game ?gameLabel ?image\n",
    "WHERE {\n",
    "  ?game wdt:P31/wdt:P279* wd:Q7889.  # Sélectionne les jeux vidéo\n",
    "  ?game wdt:P18 ?image.              # Récupère les images associées\n",
    "  FILTER (STRENDS(LCASE(STR(?image)), \".jpg\"))  # Garde uniquement les fichiers PNG\n",
    "  SERVICE wikibase:label { bd:serviceParam wikibase:language \"fr\". }  # Récupère les labels en français\n",
    "}\n",
    "LIMIT 150\n",
    "\"\"\"\n",
    "\n",
    "def get_results(endpoint_url, query):\n",
    "    \"\"\" Exécute la requête SPARQL et retourne les résultats en JSON \"\"\"\n",
    "    try:\n",
    "        user_agent = \"WDQS-example Python/%s.%s\" % (\n",
    "            sys.version_info[0],\n",
    "            sys.version_info[1],\n",
    "        )\n",
    "        sparql = SPARQLWrapper(endpoint_url, agent=user_agent)\n",
    "        sparql.setQuery(query)\n",
    "        sparql.setReturnFormat(JSON)\n",
    "        return sparql.query().convert()\n",
    "    except Exception as e:\n",
    "        print(f\"\\u274c Erreur lors de la requête SPARQL : {e}\")\n",
    "        return None\n",
    "\n",
    "# Exécuter la requête\n",
    "results = get_results(endpoint_url, query)\n",
    "\n",
    "# Stocker les résultats dans un tableau\n",
    "if results:\n",
    "    data = []\n",
    "    for result in results[\"results\"][\"bindings\"]:\n",
    "        game = result[\"game\"][\"value\"] if \"game\" in result else \"N/A\"\n",
    "        label = result[\"gameLabel\"][\"value\"] if \"gameLabel\" in result else \"N/A\"\n",
    "        image = result[\"image\"][\"value\"] if \"image\" in result else \"N/A\"\n",
    "        data.append((game, label, image))\n",
    "\n",
    "    # Convertir en DataFrame Pandas\n",
    "    df = pd.DataFrame(data, columns=[\"Game\", \"Label\", \"Image\"])\n",
    "    print(df.head())  # Afficher les 5 premières lignes du DataFrame\n",
    "    \n",
    "array = []\n",
    "results = get_results(endpoint_url, query)\n",
    "\n",
    "for result in results[\"results\"][\"bindings\"]:\n",
    "    array.append(\n",
    "        (\n",
    "            result[\"game\"][\"value\"],\n",
    "            result[\"gameLabel\"][\"value\"],\n",
    "            result[\"image\"][\"value\"],\n",
    "        )\n",
    "    )\n"
   ]
  },
  {
   "cell_type": "code",
   "execution_count": 3,
   "id": "7e033627-6088-4c6d-8aaa-c7813895c416",
   "metadata": {
    "tags": []
   },
   "outputs": [
    {
     "data": {
      "text/html": [
       "<div>\n",
       "<style scoped>\n",
       "    .dataframe tbody tr th:only-of-type {\n",
       "        vertical-align: middle;\n",
       "    }\n",
       "\n",
       "    .dataframe tbody tr th {\n",
       "        vertical-align: top;\n",
       "    }\n",
       "\n",
       "    .dataframe thead th {\n",
       "        text-align: right;\n",
       "    }\n",
       "</style>\n",
       "<table border=\"1\" class=\"dataframe\">\n",
       "  <thead>\n",
       "    <tr style=\"text-align: right;\">\n",
       "      <th></th>\n",
       "      <th>Game</th>\n",
       "      <th>Label</th>\n",
       "      <th>Image</th>\n",
       "    </tr>\n",
       "  </thead>\n",
       "  <tbody>\n",
       "    <tr>\n",
       "      <th>0</th>\n",
       "      <td>http://www.wikidata.org/entity/Q177491</td>\n",
       "      <td>Breakout</td>\n",
       "      <td>http://commons.wikimedia.org/wiki/Special:File...</td>\n",
       "    </tr>\n",
       "    <tr>\n",
       "      <th>1</th>\n",
       "      <td>http://www.wikidata.org/entity/Q349413</td>\n",
       "      <td>Homefront</td>\n",
       "      <td>http://commons.wikimedia.org/wiki/Special:File...</td>\n",
       "    </tr>\n",
       "    <tr>\n",
       "      <th>2</th>\n",
       "      <td>http://www.wikidata.org/entity/Q216293</td>\n",
       "      <td>Pong</td>\n",
       "      <td>http://commons.wikimedia.org/wiki/Special:File...</td>\n",
       "    </tr>\n",
       "    <tr>\n",
       "      <th>3</th>\n",
       "      <td>http://www.wikidata.org/entity/Q216995</td>\n",
       "      <td>Super Mario 64</td>\n",
       "      <td>http://commons.wikimedia.org/wiki/Special:File...</td>\n",
       "    </tr>\n",
       "    <tr>\n",
       "      <th>4</th>\n",
       "      <td>http://www.wikidata.org/entity/Q264678</td>\n",
       "      <td>X-Moto</td>\n",
       "      <td>http://commons.wikimedia.org/wiki/Special:File...</td>\n",
       "    </tr>\n",
       "    <tr>\n",
       "      <th>...</th>\n",
       "      <td>...</td>\n",
       "      <td>...</td>\n",
       "      <td>...</td>\n",
       "    </tr>\n",
       "    <tr>\n",
       "      <th>145</th>\n",
       "      <td>http://www.wikidata.org/entity/Q131406722</td>\n",
       "      <td>Q131406722</td>\n",
       "      <td>http://commons.wikimedia.org/wiki/Special:File...</td>\n",
       "    </tr>\n",
       "    <tr>\n",
       "      <th>146</th>\n",
       "      <td>http://www.wikidata.org/entity/Q131406722</td>\n",
       "      <td>Q131406722</td>\n",
       "      <td>http://commons.wikimedia.org/wiki/Special:File...</td>\n",
       "    </tr>\n",
       "    <tr>\n",
       "      <th>147</th>\n",
       "      <td>http://www.wikidata.org/entity/Q131406722</td>\n",
       "      <td>Q131406722</td>\n",
       "      <td>http://commons.wikimedia.org/wiki/Special:File...</td>\n",
       "    </tr>\n",
       "    <tr>\n",
       "      <th>148</th>\n",
       "      <td>http://www.wikidata.org/entity/Q930283</td>\n",
       "      <td>EcoQuest 2 : SOS Forêt vierge</td>\n",
       "      <td>http://commons.wikimedia.org/wiki/Special:File...</td>\n",
       "    </tr>\n",
       "    <tr>\n",
       "      <th>149</th>\n",
       "      <td>http://www.wikidata.org/entity/Q2413943</td>\n",
       "      <td>The Roberta Williams Anthology</td>\n",
       "      <td>http://commons.wikimedia.org/wiki/Special:File...</td>\n",
       "    </tr>\n",
       "  </tbody>\n",
       "</table>\n",
       "<p>150 rows × 3 columns</p>\n",
       "</div>"
      ],
      "text/plain": [
       "                                          Game  \\\n",
       "0       http://www.wikidata.org/entity/Q177491   \n",
       "1       http://www.wikidata.org/entity/Q349413   \n",
       "2       http://www.wikidata.org/entity/Q216293   \n",
       "3       http://www.wikidata.org/entity/Q216995   \n",
       "4       http://www.wikidata.org/entity/Q264678   \n",
       "..                                         ...   \n",
       "145  http://www.wikidata.org/entity/Q131406722   \n",
       "146  http://www.wikidata.org/entity/Q131406722   \n",
       "147  http://www.wikidata.org/entity/Q131406722   \n",
       "148     http://www.wikidata.org/entity/Q930283   \n",
       "149    http://www.wikidata.org/entity/Q2413943   \n",
       "\n",
       "                              Label  \\\n",
       "0                          Breakout   \n",
       "1                         Homefront   \n",
       "2                              Pong   \n",
       "3                    Super Mario 64   \n",
       "4                            X-Moto   \n",
       "..                              ...   \n",
       "145                      Q131406722   \n",
       "146                      Q131406722   \n",
       "147                      Q131406722   \n",
       "148   EcoQuest 2 : SOS Forêt vierge   \n",
       "149  The Roberta Williams Anthology   \n",
       "\n",
       "                                                 Image  \n",
       "0    http://commons.wikimedia.org/wiki/Special:File...  \n",
       "1    http://commons.wikimedia.org/wiki/Special:File...  \n",
       "2    http://commons.wikimedia.org/wiki/Special:File...  \n",
       "3    http://commons.wikimedia.org/wiki/Special:File...  \n",
       "4    http://commons.wikimedia.org/wiki/Special:File...  \n",
       "..                                                 ...  \n",
       "145  http://commons.wikimedia.org/wiki/Special:File...  \n",
       "146  http://commons.wikimedia.org/wiki/Special:File...  \n",
       "147  http://commons.wikimedia.org/wiki/Special:File...  \n",
       "148  http://commons.wikimedia.org/wiki/Special:File...  \n",
       "149  http://commons.wikimedia.org/wiki/Special:File...  \n",
       "\n",
       "[150 rows x 3 columns]"
      ]
     },
     "execution_count": 3,
     "metadata": {},
     "output_type": "execute_result"
    }
   ],
   "source": [
    "dataframe = pd.DataFrame(array, columns=[\"Game\", \"Label\", \"Image\"])\n",
    "dataframe = dataframe.astype(\n",
    "    dtype={\"Game\": \"<U200\", \"Label\": \"<U200\", \"Image\": \"<U200\"}\n",
    ")\n",
    "dataframe"
   ]
  },
  {
   "cell_type": "code",
   "execution_count": 4,
   "id": "741647c7-53cb-46d9-8da6-3bc0acbf21a4",
   "metadata": {
    "tags": []
   },
   "outputs": [],
   "source": [
    "import requests\n",
    "import shutil\n",
    "import os\n",
    "\n",
    "def download_image(url, save_path=\"images\"):\n",
    "    \"\"\"\n",
    "    Télécharge une image depuis une URL et l'enregistre dans le dossier spécifié.\n",
    "    \n",
    "    :param url: URL de l'image à télécharger\n",
    "    :param save_path: Dossier où enregistrer l'image (par défaut \"images\")\n",
    "    :return: Chemin du fichier téléchargé si succès, None sinon\n",
    "    \"\"\"\n",
    "    headers = {\"User-Agent\": \"Mozilla/5.0\"}\n",
    "    \n",
    "    # Requête pour récupérer l'image\n",
    "    request = requests.get(url, allow_redirects=True, headers=headers, stream=True)\n",
    "\n",
    "    if request.status_code == 200:\n",
    "        # Crée le dossier s'il n'existe pas\n",
    "        os.makedirs(save_path, exist_ok=True)\n",
    "\n",
    "        # Récupère le nom de fichier depuis l'URL\n",
    "        filename = os.path.basename(url)\n",
    "        file_path = os.path.join(save_path, filename)\n",
    "\n",
    "        # Sauvegarde l'image\n",
    "        with open(file_path, \"wb\") as image:\n",
    "            request.raw.decode_content = True\n",
    "            shutil.copyfileobj(request.raw, image)\n",
    "        \n",
    "        print(f\"✅ Image téléchargée : {file_path}\")\n",
    "        return file_path  # Retourne le chemin de l'image sauvegardée\n",
    "\n",
    "    print(f\"❌ Échec du téléchargement : {url}\")\n",
    "    return None  # Retourne None en cas d'échec\n",
    "\n"
   ]
  },
  {
   "cell_type": "code",
   "execution_count": 5,
   "id": "8248addb-8c6a-4923-bfb7-e849c07653e2",
   "metadata": {
    "tags": []
   },
   "outputs": [
    {
     "name": "stdout",
     "output_type": "stream",
     "text": [
      "✅ Image téléchargée : images\\Screenshot-LBreakout2.jpg\n",
      "✅ Image téléchargée : images\\E3%202010%20Homefront%20booth.jpg\n",
      "✅ Image téléchargée : images\\Signed%20Pong%20Cabinet.jpg\n",
      "✅ Image téléchargée : images\\N64%20Clear%20Blue%20with%20Super%20Mario%2064%2020100603.jpg\n",
      "✅ Image téléchargée : images\\Xmoto1.jpg\n",
      "✅ Image téléchargée : images\\The%20Ball%20-%20Screenshot%2002.jpg\n",
      "✅ Image téléchargée : images\\FreeCol0%205%202%20mapboard.jpg\n",
      "✅ Image téléchargée : images\\You%20are%20standing.jpg\n",
      "✅ Image téléchargée : images\\EVE%20Online%20-%20Caldari%20Freighters.jpg\n",
      "✅ Image téléchargée : images\\.kkrieger%203.jpg\n",
      "✅ Image téléchargée : images\\Trine%20-%20Wizard%20Lift.jpg\n",
      "✅ Image téléchargée : images\\Stalkershot%202.jpg\n",
      "✅ Image téléchargée : images\\Xblast.jpg\n",
      "✅ Image téléchargée : images\\CBM64CartridgeRadarRatRace.JPG\n",
      "✅ Image téléchargée : images\\Mus%C3%A9e%20M%C3%A9canique%20205.JPG\n",
      "✅ Image téléchargée : images\\Game%26watch-donkey-kong-3.jpg\n",
      "✅ Image téléchargée : images\\Rockstar%20Games%20buses%20at%20E3%202005.jpg\n",
      "✅ Image téléchargée : images\\Festival%20du%20jeu%20video%2020080926%20044.jpg\n",
      "✅ Image téléchargée : images\\SierraOnLine-Box-KingsQuest2.jpg\n",
      "✅ Image téléchargée : images\\Cosplay%20de%20Zidane%20Tribal.jpg\n",
      "✅ Image téléchargée : images\\Atari%20Adventure%20Easter%20Egg%20on%20Atari%20%28Jakks%20Pacific%29%20Port.jpg\n",
      "✅ Image téléchargée : images\\P-38%202.jpg\n",
      "✅ Image téléchargée : images\\KOF-98%20arcade%20cabinet.jpg\n",
      "✅ Image téléchargée : images\\Tour%20Advisors.jpg\n",
      "✅ Image téléchargée : images\\Killing%20Floor%20Biohazard1.jpg\n",
      "✅ Image téléchargée : images\\Fortnite%20cosplayers%20at%20Gamescom%202017%20%283%29.jpg\n",
      "✅ Image téléchargée : images\\The%20Idolmaster%20Cinderella%20Girls%20stage%20outfits%2C%20C3HK%2020150215a.jpg\n",
      "✅ Image téléchargée : images\\Tetris%20DS%20home%20screen.jpg\n",
      "✅ Image téléchargée : images\\Second%20Life%2011th%20Birthday%20Live%20Drax%20Files%20Radio%20Hour.jpg\n",
      "✅ Image téléchargée : images\\Duo%20playing%20Wii%20Sports.jpg\n",
      "✅ Image téléchargée : images\\VectrexRG2010.jpg\n",
      "✅ Image téléchargée : images\\TuxRacerScreenshot.jpg\n",
      "✅ Image téléchargée : images\\Deskohran%C3%AD%2008-10-05%20070.jpg\n",
      "✅ Image téléchargée : images\\Assassin%27s%20Creed%20II%20by%20Reindertot.jpg\n",
      "✅ Image téléchargée : images\\The%20Sims%202%20Pets%20Life%20in%20Leipzig.jpg\n",
      "✅ Image téléchargée : images\\Space%20Invaders.JPG\n",
      "✅ Image téléchargée : images\\Space%20Invaders%20-%20Midway%27s.JPG\n",
      "✅ Image téléchargée : images\\Phoenix-1980-italy.jpg\n",
      "✅ Image téléchargée : images\\Festival%20du%20jeu%20video%2020080926%20032.jpg\n",
      "✅ Image téléchargée : images\\Bubble%20Bobble%20arcade%20machine.jpg\n",
      "✅ Image téléchargée : images\\Starcraft%20Gamescom%202017%20%2836851382835%29.jpg\n",
      "✅ Image téléchargée : images\\SauerbratenCollage.jpg\n",
      "✅ Image téléchargée : images\\Grand%20Theft%20Auto%2C%20NY%20Chinatown.jpg\n",
      "✅ Image téléchargée : images\\Keyboardmania%20Cabinet.jpg\n",
      "✅ Image téléchargée : images\\Portal%202%20pax%20prime%202010.jpg\n",
      "✅ Image téléchargée : images\\DARIUS.jpg\n",
      "✅ Image téléchargée : images\\Warzone%202100%20-%20base.jpg\n",
      "✅ Image téléchargée : images\\Ace%20Combat%206%20-%20Ace%20Edge.jpg\n",
      "✅ Image téléchargée : images\\On-Line-Systems-00-Mission-Asteroid.jpg\n",
      "✅ Image téléchargée : images\\Vglfrogger.jpg\n",
      "✅ Image téléchargée : images\\On-Line%20Systems%20-%20Time%20Zone.jpg\n",
      "✅ Image téléchargée : images\\Igromir%202008%20%283012936938%29.jpg\n",
      "✅ Image téléchargée : images\\Sims%20Stand.jpg\n",
      "✅ Image téléchargée : images\\UFO%20Alien%20Invasion%200.12%20-%20geoscape.jpg\n",
      "✅ Image téléchargée : images\\UFO%20screenshot%201.jpg\n",
      "✅ Image téléchargée : images\\Epiphany%20game%20screenshot.jpg\n",
      "✅ Image téléchargée : images\\R-Type%20video%20game%20machine.jpg\n",
      "✅ Image téléchargée : images\\MySims%20at%20EA%27s%20Booth%20%281296581850%29.jpg\n",
      "✅ Image téléchargée : images\\Screenshot%20Paradroid%20GNU.JPG\n",
      "✅ Image téléchargée : images\\%E3%83%90%E3%83%AB%E3%83%BC%E3%83%B3%E3%83%95%E3%82%A1%E3%82%A4%E3%83%88%20%E3%83%AD%E3%82%B4.jpg\n",
      "✅ Image téléchargée : images\\Festival%20du%20jeu%20video%2020080926%20032.jpg\n",
      "✅ Image téléchargée : images\\SierraOnLine-Box-KingsQuest1.jpg\n",
      "✅ Image téléchargée : images\\Whac-A-Mole-Dog.jpg\n",
      "✅ Image téléchargée : images\\Test%20Drive%20II%20%28Amiga%29.jpg\n",
      "✅ Image téléchargée : images\\Commodore%2064%20at%20Video%20Game%20Museum%20in%20Berlin%20%2845946155851%29.jpg\n",
      "✅ Image téléchargée : images\\OOlite%20Mac%20OS%20X%20screenshot.jpg\n",
      "✅ Image téléchargée : images\\Yo%20Frankie.jpg\n",
      "✅ Image téléchargée : images\\Taito%20Operation%20Thunderbolt.JPG\n",
      "✅ Image téléchargée : images\\Niveau%20de%20Blocks%20That%20Matter.jpg\n",
      "✅ Image téléchargée : images\\SierraOnLine-Box-KingsQuest5.jpg\n",
      "✅ Image téléchargée : images\\Mus%C3%A9e%20M%C3%A9canique%20017.JPG\n",
      "✅ Image téléchargée : images\\The%20Simpsons%20Arcade%20Game.jpg\n",
      "✅ Image téléchargée : images\\Spaceharrier.jpg\n",
      "✅ Image téléchargée : images\\Mus%C3%A9e%20M%C3%A9canique%20188.JPG\n",
      "✅ Image téléchargée : images\\Darksiders%20II%20girls%20at%20E3%202012%20%287166549959%29.jpg\n",
      "✅ Image téléchargée : images\\Dead%20Island%20at%20the%202011%20New%20York%20Comic%20Con%20%286254213788%29.jpg\n",
      "✅ Image téléchargée : images\\DemonAttack.jpg\n",
      "✅ Image téléchargée : images\\Mus%C3%A9e%20M%C3%A9canique%20029.JPG\n",
      "✅ Image téléchargée : images\\SierraOnLine-Box-KingsQuest6.jpg\n",
      "✅ Image téléchargée : images\\SierraOnLine-Box-KingsQuest3.jpg\n",
      "✅ Image téléchargée : images\\Cpc464.computer.750pix.jpg\n",
      "✅ Image téléchargée : images\\Missile%20Command.jpg\n",
      "✅ Image téléchargée : images\\Freddy%20Pharkas%20Frontier%20Pharmacist.jpg\n",
      "✅ Image téléchargée : images\\Flight%20of%20the%20Amazon%20Queen.jpg\n",
      "✅ Image téléchargée : images\\Daytonausa2.jpg\n",
      "✅ Image téléchargée : images\\Widelands-svn3311.jpg\n",
      "✅ Image téléchargée : images\\OpenArena-Gargoyle.jpg\n",
      "✅ Image téléchargée : images\\Tapper%20arcade%20cabinet%20-%20Bally%20Midway.jpg\n",
      "✅ Image téléchargée : images\\Gorf.JPG\n",
      "✅ Image téléchargée : images\\EB%20Games%20Expo%202015%20-%20Super%20Smash%20Bros.%20Nintendo%20Stage.JPG\n",
      "✅ Image téléchargée : images\\20070701204238.jpg\n",
      "✅ Image téléchargée : images\\Warsow%20Screenshot%201.0.jpg\n",
      "✅ Image téléchargée : images\\ParaParaParadise%202ndMIX.jpg\n",
      "✅ Image téléchargée : images\\Midnight%20Club%2C%20LA%20at%20GamesCom%20-%20Flickr%20-%20Sergey%20Galyonkin.jpg\n",
      "✅ Image téléchargée : images\\Sega%20Hang%20on%20Arcade%20Automat.jpg\n",
      "✅ Image téléchargée : images\\HERO%20Cartridge%20f%C3%BCr%20Atari%202600.jpg\n",
      "✅ Image téléchargée : images\\Rallycross%20blackwood%20lfs.jpg\n",
      "✅ Image téléchargée : images\\Midway%20%28USA%29%20Galaxian%20arcade%20machine.jpg\n",
      "✅ Image téléchargée : images\\SierraOnLine-Box-KingsQuest4.jpg\n",
      "✅ Image téléchargée : images\\December%201975%20advertisement%20for%20Gun%20Fight%20by%20Midway.jpg\n",
      "✅ Image téléchargée : images\\Screenshot%20of%20MegaGlest%20Gameplay.jpg\n",
      "✅ Image téléchargée : images\\Streetfighter%20Console.jpg\n",
      "✅ Image téléchargée : images\\DP%20Paintball%202.0%20menu%20-%20main.jpg\n",
      "✅ Image téléchargée : images\\Digger.JPG\n",
      "✅ Image téléchargée : images\\Red%20Orchestra%20Jan31st%20shot1.jpg\n",
      "✅ Image téléchargée : images\\SierraOnLine-Box-DaggerofAmonRa.jpg\n",
      "✅ Image téléchargée : images\\Cartucho%20de%20Atari%202600%20del%20juego%20Pitfall.jpg\n",
      "✅ Image téléchargée : images\\Painstation.jpg\n",
      "✅ Image téléchargée : images\\Pump%20it%20up%20cosplay%201.jpg\n",
      "✅ Image téléchargée : images\\Vsdrmario.jpg\n",
      "✅ Image téléchargée : images\\Nexuiz%20screenshot%2008.jpg\n",
      "✅ Image téléchargée : images\\Maze%20war.jpg\n",
      "✅ Image téléchargée : images\\MrDo%21.jpg\n",
      "✅ Image téléchargée : images\\View%20from%20DNF%20line%202%20%284956471292%29.jpg\n",
      "✅ Image téléchargée : images\\Microsoft%203D%20Movie%20Maker%20640x480.jpg\n",
      "✅ Image téléchargée : images\\Glest.jpg\n",
      "✅ Image téléchargée : images\\Sega%20Daytona%20USA%20Arcade.jpg\n",
      "✅ Image téléchargée : images\\Torcs-20081217104851.jpg\n",
      "✅ Image téléchargée : images\\Armagetron.jpg\n",
      "✅ Image téléchargée : images\\Video%20games%20Asteroids%20Popeye%20Klax%20Pengo.jpg\n",
      "✅ Image téléchargée : images\\QWOP%20screenshot.jpg\n",
      "✅ Image téléchargée : images\\Mus%C3%A9e%20M%C3%A9canique%20204.JPG\n",
      "✅ Image téléchargée : images\\H.R.%20Giger%E2%80%99s%20Xenomorph%20%28Ank%20Kumar%20%29%2004.jpg\n",
      "✅ Image téléchargée : images\\H.R.%20Giger%E2%80%99s%20Xenomorph%20%28Ank%20Kumar%20%29%2004.jpg\n",
      "✅ Image téléchargée : images\\Stalker%20Clear%20Sky%20screenshot%20god%20rays%2001.jpg\n",
      "✅ Image téléchargée : images\\SierraOnLine-Box-ColonelsBequest.jpg\n",
      "✅ Image téléchargée : images\\Playing%20Mario%20Kart.jpg\n",
      "✅ Image téléchargée : images\\Mastermind.jpg\n",
      "✅ Image téléchargée : images\\Mus%C3%A9e%20M%C3%A9canique%20218.JPG\n",
      "✅ Image téléchargée : images\\View%20from%20DNF%20line%20%284955869149%29.jpg\n",
      "✅ Image téléchargée : images\\S.T.A.L.K.E.R.-%20Call%20of%20Pripyat%2C%20DirectX%2011%20screenshot.jpg\n",
      "✅ Image téléchargée : images\\EZ2DJ%20Cabinet.jpg\n",
      "✅ Image téléchargée : images\\Nintendo%2064%20%2826017220053%29.jpg\n",
      "✅ Image téléchargée : images\\Kitty%20Glitter.jpg\n",
      "✅ Image téléchargée : images\\RoboBlitz%20-%20Screenshot%2001.jpg\n",
      "✅ Image téléchargée : images\\App-augmented-reality-game-gps-163042.jpg\n",
      "✅ Image téléchargée : images\\Mus%C3%A9e%20M%C3%A9canique%20185.JPG\n",
      "✅ Image téléchargée : images\\Wiifit.jpg\n",
      "✅ Image téléchargée : images\\SierraOnLine-Box-QuestforGlory.jpg\n",
      "✅ Image téléchargée : images\\Wii%20Play%20Motion%20Logo.jpg\n",
      "✅ Image téléchargée : images\\314th%20Fighter%20Squadron%20emblem.jpg\n",
      "✅ Image téléchargée : images\\TV%20Sports%20-%20Football%20-%201989%20NFL%20Season%20%28Back%20Cover%29.jpg\n",
      "✅ Image téléchargée : images\\Doom%20Utilities%20%28Front%20Cover%29.jpg\n",
      "✅ Image téléchargée : images\\Doom%20Utilities%20%28Back%20Cover%29.jpg\n",
      "✅ Image téléchargée : images\\Doom%20Utilities%20%28Spine-Sides%20Left%29.jpg\n",
      "✅ Image téléchargée : images\\Doom%20Utilities%20%28Spine-Sides%20Right%29.jpg\n",
      "✅ Image téléchargée : images\\Doom%20Utilities%20%28Inside%20Cover%20Left%20Inlay%29.jpg\n",
      "✅ Image téléchargée : images\\Doom%20Utilities%20%28Media%29.jpg\n",
      "✅ Image téléchargée : images\\SierraOnLine-Box-LostSecretoftheRainforest.jpg\n",
      "✅ Image téléchargée : images\\SierraOnLine-Box-RobertaWilliamsCollection.jpg\n"
     ]
    }
   ],
   "source": [
    "\n",
    "# Télécharger les images et stocker les chemins dans une nouvelle colonne\n",
    "dataframe[\"downloaded_image\"] = dataframe[\"Image\"].apply(lambda url: download_image(url))\n",
    "\n"
   ]
  },
  {
   "cell_type": "code",
   "execution_count": 6,
   "id": "31d304fb-c2db-4579-b924-e069b6f8120b",
   "metadata": {
    "tags": []
   },
   "outputs": [
    {
     "name": "stdout",
     "output_type": "stream",
     "text": [
      "📂 Le dossier 'images' contient 149 éléments.\n"
     ]
    }
   ],
   "source": [
    "\n",
    "def count_files_in_folder(folder_path):\n",
    "    try:\n",
    "        return len(os.listdir(folder_path))  # Compte tous les fichiers et dossiers\n",
    "    except FileNotFoundError:\n",
    "        print(\"❌ Le dossier n'existe pas.\")\n",
    "        return 0\n",
    "\n",
    "# Exemple d'utilisation\n",
    "folder = \"images\"  # Remplace par ton dossier\n",
    "count = count_files_in_folder(folder)\n",
    "print(f\"📂 Le dossier '{folder}' contient {count} éléments.\")\n"
   ]
  },
  {
   "cell_type": "code",
   "execution_count": 7,
   "id": "a7f284c9-e3b7-4824-9f65-0d00dc3cfeaa",
   "metadata": {
    "tags": []
   },
   "outputs": [
    {
     "name": "stdout",
     "output_type": "stream",
     "text": [
      "Requirement already satisfied: pillow in c:\\users\\squin\\anaconda3\\lib\\site-packages (9.4.0)\n",
      "Requirement already satisfied: exifread in c:\\users\\squin\\anaconda3\\lib\\site-packages (3.0.0)\n",
      "Note: you may need to restart the kernel to use updated packages.\n"
     ]
    }
   ],
   "source": [
    "pip install pillow exifread\n"
   ]
  },
  {
   "cell_type": "code",
   "execution_count": 8,
   "id": "461fce0e-7e24-4872-a4bb-1d9147c84c3c",
   "metadata": {
    "tags": []
   },
   "outputs": [
    {
     "name": "stdout",
     "output_type": "stream",
     "text": [
      "                                              Filename  ResolutionUnit  \\\n",
      "0    %E3%83%90%E3%83%AB%E3%83%BC%E3%83%B3%E3%83%95%...             2.0   \n",
      "1                                    .kkrieger%203.jpg             NaN   \n",
      "2                                   20070701204238.jpg             NaN   \n",
      "3              314th%20Fighter%20Squadron%20emblem.jpg             2.0   \n",
      "4                Ace%20Combat%206%20-%20Ace%20Edge.jpg             NaN   \n",
      "..                                                 ...             ...   \n",
      "143                                         Wiifit.jpg             NaN   \n",
      "144                                         Xblast.jpg             2.0   \n",
      "145                                         Xmoto1.jpg             NaN   \n",
      "146                                   Yo%20Frankie.jpg             2.0   \n",
      "147                           You%20are%20standing.jpg             NaN   \n",
      "\n",
      "     ExifOffset  YCbCrPositioning XResolution YResolution ExifVersion  \\\n",
      "0          90.0               1.0        72.0        72.0     b'0221'   \n",
      "1           NaN               NaN         NaN         NaN         NaN   \n",
      "2           NaN               NaN         NaN         NaN         NaN   \n",
      "3          78.0               NaN        72.0        72.0         NaN   \n",
      "4          50.0               NaN         NaN         NaN     b'0210'   \n",
      "..          ...               ...         ...         ...         ...   \n",
      "143         NaN               NaN         NaN         NaN         NaN   \n",
      "144       156.0               NaN        96.0        96.0         NaN   \n",
      "145         NaN               NaN         NaN         NaN         NaN   \n",
      "146       156.0               NaN        11.0        11.0         NaN   \n",
      "147         NaN               NaN         NaN         NaN         NaN   \n",
      "\n",
      "    ComponentsConfiguration FlashPixVersion  ColorSpace  ...  \\\n",
      "0       b'\\x01\\x02\\x03\\x00'         b'0100'         1.0  ...   \n",
      "1                       NaN             NaN         NaN  ...   \n",
      "2                       NaN             NaN         NaN  ...   \n",
      "3                       NaN             NaN         NaN  ...   \n",
      "4                       NaN             NaN         NaN  ...   \n",
      "..                      ...             ...         ...  ...   \n",
      "143                     NaN             NaN         NaN  ...   \n",
      "144                     NaN             NaN     65535.0  ...   \n",
      "145                     NaN             NaN         NaN  ...   \n",
      "146                     NaN             NaN     65535.0  ...   \n",
      "147                     NaN             NaN         NaN  ...   \n",
      "\n",
      "     PlanarConfiguration  SubjectLocation  LensMake BitsPerSample  \\\n",
      "0                    NaN              NaN       NaN           NaN   \n",
      "1                    NaN              NaN       NaN           NaN   \n",
      "2                    NaN              NaN       NaN           NaN   \n",
      "3                    NaN              NaN       NaN           NaN   \n",
      "4                    NaN              NaN       NaN           NaN   \n",
      "..                   ...              ...       ...           ...   \n",
      "143                  NaN              NaN       NaN           NaN   \n",
      "144                  NaN              NaN       NaN           NaN   \n",
      "145                  NaN              NaN       NaN           NaN   \n",
      "146                  NaN              NaN       NaN           NaN   \n",
      "147                  NaN              NaN       NaN           NaN   \n",
      "\n",
      "    SamplesPerPixel Tag_50898  SubjectDistance XPTitle XPSubject HostComputer  \n",
      "0               NaN       NaN              NaN     NaN       NaN          NaN  \n",
      "1               NaN       NaN              NaN     NaN       NaN          NaN  \n",
      "2               NaN       NaN              NaN     NaN       NaN          NaN  \n",
      "3               NaN       NaN              NaN     NaN       NaN          NaN  \n",
      "4               NaN       NaN              NaN     NaN       NaN          NaN  \n",
      "..              ...       ...              ...     ...       ...          ...  \n",
      "143             NaN       NaN              NaN     NaN       NaN          NaN  \n",
      "144             NaN       NaN              NaN     NaN       NaN          NaN  \n",
      "145             NaN       NaN              NaN     NaN       NaN          NaN  \n",
      "146             NaN       NaN              NaN     NaN       NaN          NaN  \n",
      "147             NaN       NaN              NaN     NaN       NaN          NaN  \n",
      "\n",
      "[148 rows x 95 columns]\n"
     ]
    }
   ],
   "source": [
    "import os\n",
    "import pandas as pd\n",
    "from PIL import Image\n",
    "from PIL.ExifTags import TAGS\n",
    "\n",
    "# Définir le chemin du dossier contenant les images\n",
    "image_folder = \"images/\"  # Modifiez ce chemin si nécessaire\n",
    "\n",
    "# Vérifier si le dossier existe\n",
    "if not os.path.exists(image_folder):\n",
    "    raise FileNotFoundError(f\"Le dossier '{image_folder}' n'existe pas.\")\n",
    "\n",
    "# Liste des fichiers image dans le dossier\n",
    "image_files = [f for f in os.listdir(image_folder) if f.lower().endswith(('.jpg', '.jpeg', '.tiff', '.bmp', '.png'))]\n",
    "\n",
    "# Liste pour stocker les données EXIF\n",
    "exif_data_list = []\n",
    "\n",
    "# Parcourir chaque image et extraire les métadonnées EXIF\n",
    "for image_file in image_files:\n",
    "    image_path = os.path.join(image_folder, image_file)\n",
    "    try:\n",
    "        img = Image.open(image_path)\n",
    "        exif_data = img._getexif()\n",
    "        \n",
    "        # Dictionnaire pour stocker les métadonnées de cette image\n",
    "        image_exif_dict = {'Filename': image_file}\n",
    "        \n",
    "        if exif_data:\n",
    "            for tag, value in exif_data.items():\n",
    "                tag_name = TAGS.get(tag, f\"Tag_{tag}\")  # Convertir le tag en nom lisible\n",
    "                image_exif_dict[tag_name] = value\n",
    "        \n",
    "        exif_data_list.append(image_exif_dict)\n",
    "    except Exception as e:\n",
    "        print(f\"Erreur lors du traitement de {image_file}: {e}\")\n",
    "\n",
    "# Création du DataFrame\n",
    "df_exif = pd.DataFrame(exif_data_list)\n",
    "\n",
    "# Afficher le DataFrame\n",
    "print(df_exif)\n",
    "\n",
    "# Sauvegarder les métadonnées EXIF dans un fichier CSV\n",
    "df_exif.to_csv(\"exif_metadata.csv\", index=False)\n"
   ]
  },
  {
   "cell_type": "code",
   "execution_count": 9,
   "id": "d106fe8a-7afc-4474-9490-9baad735420b",
   "metadata": {},
   "outputs": [
    {
     "name": "stdout",
     "output_type": "stream",
     "text": [
      "                                              Filename  ResolutionUnit  \\\n",
      "8    Atari%20Adventure%20Easter%20Egg%20on%20Atari%...             2.0   \n",
      "20                                     DemonAttack.jpg             2.0   \n",
      "21                Deskohran%C3%AD%2008-10-05%20070.jpg             2.0   \n",
      "30                    Duo%20playing%20Wii%20Sports.jpg             2.0   \n",
      "32   EB%20Games%20Expo%202015%20-%20Super%20Smash%2...             2.0   \n",
      "46   H.R.%20Giger%E2%80%99s%20Xenomorph%20%28Ank%20...             2.0   \n",
      "51                                 Kitty%20Glitter.jpg             2.0   \n",
      "57   Midway%20%28USA%29%20Galaxian%20arcade%20machi...             2.0   \n",
      "60               Mus%C3%A9e%20M%C3%A9canique%20017.JPG             2.0   \n",
      "61               Mus%C3%A9e%20M%C3%A9canique%20029.JPG             2.0   \n",
      "62               Mus%C3%A9e%20M%C3%A9canique%20185.JPG             2.0   \n",
      "63               Mus%C3%A9e%20M%C3%A9canique%20188.JPG             2.0   \n",
      "64               Mus%C3%A9e%20M%C3%A9canique%20204.JPG             2.0   \n",
      "65               Mus%C3%A9e%20M%C3%A9canique%20205.JPG             2.0   \n",
      "66               Mus%C3%A9e%20M%C3%A9canique%20218.JPG             2.0   \n",
      "109                                   Sims%20Stand.jpg             2.0   \n",
      "110              Space%20Invaders%20-%20Midway%27s.JPG             2.0   \n",
      "115  Starcraft%20Gamescom%202017%20%2836851382835%2...             2.0   \n",
      "123                 The%20Simpsons%20Arcade%20Game.jpg             2.0   \n",
      "134  Video%20games%20Asteroids%20Popeye%20Klax%20Pe...             2.0   \n",
      "\n",
      "     ExifOffset  YCbCrPositioning XResolution YResolution ExifVersion  \\\n",
      "8         244.0               1.0        72.0        72.0     b'0220'   \n",
      "20        400.0               2.0        72.0        72.0     b'0220'   \n",
      "21        322.0               1.0        72.0        72.0     b'0220'   \n",
      "30        216.0               2.0       300.0       300.0     b'0221'   \n",
      "32       2276.0               1.0        72.0        72.0     b'0221'   \n",
      "46        222.0               1.0       300.0       300.0     b'0230'   \n",
      "51        292.0               1.0        72.0        72.0     b'0220'   \n",
      "57        496.0               2.0        72.0        72.0     b'0221'   \n",
      "60        496.0               2.0        72.0        72.0     b'0221'   \n",
      "61        496.0               2.0        72.0        72.0     b'0221'   \n",
      "62        496.0               2.0        72.0        72.0     b'0221'   \n",
      "63        496.0               2.0        72.0        72.0     b'0221'   \n",
      "64        496.0               2.0        72.0        72.0     b'0221'   \n",
      "65        580.0               2.0        36.0        36.0     b'0221'   \n",
      "66        496.0               2.0        72.0        72.0     b'0221'   \n",
      "109       208.0               2.0       300.0       300.0     b'0221'   \n",
      "110       250.0               2.0        72.0        72.0     b'0220'   \n",
      "115       220.0               NaN       240.0       240.0     b'0230'   \n",
      "123       254.0               1.0        72.0        72.0     b'0220'   \n",
      "134       312.0               NaN       300.0       300.0     b'0230'   \n",
      "\n",
      "    ComponentsConfiguration FlashPixVersion  ColorSpace  ...  \\\n",
      "8       b'\\x01\\x02\\x03\\x00'         b'0100'         1.0  ...   \n",
      "20      b'\\x01\\x02\\x03\\x00'         b'0100'         1.0  ...   \n",
      "21      b'\\x01\\x02\\x03\\x00'         b'0100'         1.0  ...   \n",
      "30      b'\\x01\\x02\\x03\\x00'         b'0100'         1.0  ...   \n",
      "32      b'\\x01\\x02\\x03\\x00'         b'0100'         1.0  ...   \n",
      "46      b'\\x01\\x02\\x03\\x00'         b'0100'         1.0  ...   \n",
      "51      b'\\x01\\x02\\x03\\x00'         b'0100'         1.0  ...   \n",
      "57      b'\\x01\\x02\\x03\\x00'         b'0100'         1.0  ...   \n",
      "60      b'\\x01\\x02\\x03\\x00'         b'0100'         1.0  ...   \n",
      "61      b'\\x01\\x02\\x03\\x00'         b'0100'         1.0  ...   \n",
      "62      b'\\x01\\x02\\x03\\x00'         b'0100'         1.0  ...   \n",
      "63      b'\\x01\\x02\\x03\\x00'         b'0100'         1.0  ...   \n",
      "64      b'\\x01\\x02\\x03\\x00'         b'0100'         1.0  ...   \n",
      "65      b'\\x01\\x02\\x03\\x00'         b'0100'         1.0  ...   \n",
      "66      b'\\x01\\x02\\x03\\x00'         b'0100'         1.0  ...   \n",
      "109     b'\\x01\\x02\\x03\\x00'         b'0100'         1.0  ...   \n",
      "110     b'\\x01\\x02\\x03\\x00'         b'0100'         1.0  ...   \n",
      "115                     NaN             NaN         1.0  ...   \n",
      "123     b'\\x01\\x02\\x03\\x00'         b'0100'         1.0  ...   \n",
      "134                     NaN             NaN         1.0  ...   \n",
      "\n",
      "     PlanarConfiguration           SubjectLocation  LensMake BitsPerSample  \\\n",
      "8                    NaN                       NaN       NaN           NaN   \n",
      "20                   NaN                       NaN       NaN           NaN   \n",
      "21                   1.0                       NaN       NaN           NaN   \n",
      "30                   NaN                       NaN       NaN           NaN   \n",
      "32                   NaN  (1631, 1223, 1795, 1077)     Apple           NaN   \n",
      "46                   NaN                       NaN       NaN           NaN   \n",
      "51                   NaN                       NaN       NaN     (8, 8, 8)   \n",
      "57                   NaN                       NaN       NaN           NaN   \n",
      "60                   NaN                       NaN       NaN           NaN   \n",
      "61                   NaN                       NaN       NaN           NaN   \n",
      "62                   NaN                       NaN       NaN           NaN   \n",
      "63                   NaN                       NaN       NaN           NaN   \n",
      "64                   NaN                       NaN       NaN           NaN   \n",
      "65                   NaN                       NaN       NaN     (8, 8, 8)   \n",
      "66                   NaN                       NaN       NaN           NaN   \n",
      "109                  NaN                       NaN       NaN           NaN   \n",
      "110                  NaN                       NaN       NaN           NaN   \n",
      "115                  NaN                       NaN       NaN           NaN   \n",
      "123                  NaN                       NaN       NaN           NaN   \n",
      "134                  1.0                       NaN       NaN     (8, 8, 8)   \n",
      "\n",
      "    SamplesPerPixel                                          Tag_50898  \\\n",
      "8               NaN                                                NaN   \n",
      "20              NaN                                                NaN   \n",
      "21              NaN                                                NaN   \n",
      "30              NaN                                                NaN   \n",
      "32              NaN                                                NaN   \n",
      "46              NaN                                                NaN   \n",
      "51              3.0                                                NaN   \n",
      "57              NaN  b'\\x00\\x00\\x00\\x00\\x00\\x00\\x00\\x00\\x00\\x00\\x00...   \n",
      "60              NaN  b'\\x00\\x00\\x00\\x00\\x00\\x00\\x00\\x00\\x00\\x00\\x00...   \n",
      "61              NaN  b'\\x00\\x00\\x00\\x00\\x00\\x00\\x00\\x00\\x00\\x00\\x00...   \n",
      "62              NaN  b'\\x00\\x00\\x00\\x00\\x00\\x00\\x00\\x00\\x00\\x00\\x00...   \n",
      "63              NaN  b'\\x00\\x00\\x00\\x00\\x00\\x00\\x00\\x00\\x00\\x00\\x00...   \n",
      "64              NaN  b'\\x00\\x00\\x00\\x00\\x00\\x00\\x00\\x00\\x00\\x00\\x00...   \n",
      "65              3.0  b'\\x00\\x00\\x00\\x00\\x00\\x00\\x00\\x00\\x00\\x00\\x00...   \n",
      "66              NaN  b'\\x00\\x00\\x00\\x00\\x00\\x00\\x00\\x00\\x00\\x00\\x00...   \n",
      "109             NaN                                                NaN   \n",
      "110             NaN                                                NaN   \n",
      "115             NaN                                                NaN   \n",
      "123             NaN                                                NaN   \n",
      "134             3.0                                                NaN   \n",
      "\n",
      "     SubjectDistance XPTitle XPSubject HostComputer  \n",
      "8                NaN     NaN       NaN          NaN  \n",
      "20               NaN     NaN       NaN          NaN  \n",
      "21               NaN     NaN       NaN          NaN  \n",
      "30               NaN     NaN       NaN          NaN  \n",
      "32               NaN     NaN       NaN          NaN  \n",
      "46               NaN     NaN       NaN          NaN  \n",
      "51               NaN     NaN       NaN          NaN  \n",
      "57               NaN     NaN       NaN          NaN  \n",
      "60               NaN     NaN       NaN          NaN  \n",
      "61               NaN     NaN       NaN          NaN  \n",
      "62               NaN     NaN       NaN          NaN  \n",
      "63               NaN     NaN       NaN          NaN  \n",
      "64               NaN     NaN       NaN          NaN  \n",
      "65               NaN     NaN       NaN          NaN  \n",
      "66               NaN     NaN       NaN          NaN  \n",
      "109              NaN     NaN       NaN          NaN  \n",
      "110              NaN     NaN       NaN          NaN  \n",
      "115              NaN     NaN       NaN          NaN  \n",
      "123            0.694     NaN       NaN          NaN  \n",
      "134              NaN     NaN       NaN          NaN  \n",
      "\n",
      "[20 rows x 95 columns]\n"
     ]
    }
   ],
   "source": [
    "import os\n",
    "import pandas as pd\n",
    "from PIL import Image\n",
    "from PIL.ExifTags import TAGS\n",
    "\n",
    "# Définir le chemin du dossier contenant les images\n",
    "image_folder = \"images/\"  # Modifiez ce chemin si nécessaire\n",
    "\n",
    "# Vérifier si le dossier existe\n",
    "if not os.path.exists(image_folder):\n",
    "    raise FileNotFoundError(f\"Le dossier '{image_folder}' n'existe pas.\")\n",
    "\n",
    "# Liste des fichiers image dans le dossier\n",
    "image_files = [f for f in os.listdir(image_folder) if f.lower().endswith(('.jpg', '.jpeg', '.tiff', '.bmp', '.gif'))]\n",
    "\n",
    "# Liste pour stocker les données EXIF\n",
    "exif_data_list = []\n",
    "\n",
    "# Parcourir chaque image et extraire les métadonnées EXIF\n",
    "for image_file in image_files:\n",
    "    image_path = os.path.join(image_folder, image_file)\n",
    "    try:\n",
    "        img = Image.open(image_path)\n",
    "        exif_data = img._getexif()\n",
    "        \n",
    "        # Dictionnaire pour stocker les métadonnées de cette image\n",
    "        image_exif_dict = {'Filename': image_file}\n",
    "        \n",
    "        if exif_data:\n",
    "            for tag, value in exif_data.items():\n",
    "                tag_name = TAGS.get(tag, f\"Tag_{tag}\")  # Convertir le tag en nom lisible\n",
    "                image_exif_dict[tag_name] = value\n",
    "        \n",
    "        exif_data_list.append(image_exif_dict)\n",
    "    except Exception as e:\n",
    "        print(f\"Erreur lors du traitement de {image_file}: {e}\")\n",
    "\n",
    "# Création du DataFrame\n",
    "df_exif = pd.DataFrame(exif_data_list)\n",
    "\n",
    "# Filtrer les lignes en excluant celles ayant une majorité de valeurs NaN\n",
    "threshold = 0.5  # Seuil : une ligne est exclue si plus de 50% de ses valeurs sont NaN\n",
    "df_filtered = df_exif.dropna(thresh=int(threshold * df_exif.shape[1]))\n",
    "\n",
    "# Afficher le DataFrame filtré\n",
    "print(df_filtered)\n",
    "\n",
    "# Sauvegarder les métadonnées EXIF filtrées dans un fichier CSV\n",
    "df_filtered.to_csv(\"exif_metadata_filtered.csv\", index=False)\n"
   ]
  },
  {
   "cell_type": "code",
   "execution_count": 10,
   "id": "235eef06-9a2a-453e-bc83-0dd64c173db2",
   "metadata": {
    "tags": []
   },
   "outputs": [
    {
     "name": "stdout",
     "output_type": "stream",
     "text": [
      "Erreur lors du traitement de %E3%83%90%E3%83%AB%E3%83%BC%E3%83%B3%E3%83%95%E3%82%A1%E3%82%A4%E3%83%88%20%E3%83%AD%E3%82%B4.jpg: type object 'Exif' has no attribute 'IFDRational'\n",
      "Erreur lors du traitement de 314th%20Fighter%20Squadron%20emblem.jpg: type object 'Exif' has no attribute 'IFDRational'\n",
      "Erreur lors du traitement de Ace%20Combat%206%20-%20Ace%20Edge.jpg: type object 'Exif' has no attribute 'IFDRational'\n",
      "Erreur lors du traitement de App-augmented-reality-game-gps-163042.jpg: type object 'Exif' has no attribute 'IFDRational'\n",
      "Erreur lors du traitement de Assassin%27s%20Creed%20II%20by%20Reindertot.jpg: type object 'Exif' has no attribute 'IFDRational'\n",
      "Erreur lors du traitement de Atari%20Adventure%20Easter%20Egg%20on%20Atari%20%28Jakks%20Pacific%29%20Port.jpg: type object 'Exif' has no attribute 'IFDRational'\n",
      "Erreur lors du traitement de Bubble%20Bobble%20arcade%20machine.jpg: type object 'Exif' has no attribute 'IFDRational'\n",
      "Erreur lors du traitement de Cartucho%20de%20Atari%202600%20del%20juego%20Pitfall.jpg: type object 'Exif' has no attribute 'IFDRational'\n",
      "Erreur lors du traitement de CBM64CartridgeRadarRatRace.JPG: type object 'Exif' has no attribute 'IFDRational'\n",
      "Erreur lors du traitement de Commodore%2064%20at%20Video%20Game%20Museum%20in%20Berlin%20%2845946155851%29.jpg: type object 'Exif' has no attribute 'IFDRational'\n",
      "Erreur lors du traitement de Cosplay%20de%20Zidane%20Tribal.jpg: type object 'Exif' has no attribute 'IFDRational'\n",
      "Erreur lors du traitement de Darksiders%20II%20girls%20at%20E3%202012%20%287166549959%29.jpg: type object 'Exif' has no attribute 'IFDRational'\n",
      "Erreur lors du traitement de Dead%20Island%20at%20the%202011%20New%20York%20Comic%20Con%20%286254213788%29.jpg: type object 'Exif' has no attribute 'IFDRational'\n",
      "Erreur lors du traitement de DemonAttack.jpg: type object 'Exif' has no attribute 'IFDRational'\n",
      "Erreur lors du traitement de Deskohran%C3%AD%2008-10-05%20070.jpg: type object 'Exif' has no attribute 'IFDRational'\n",
      "Erreur lors du traitement de Duo%20playing%20Wii%20Sports.jpg: type object 'Exif' has no attribute 'IFDRational'\n",
      "Erreur lors du traitement de E3%202010%20Homefront%20booth.jpg: type object 'Exif' has no attribute 'IFDRational'\n",
      "Erreur lors du traitement de EB%20Games%20Expo%202015%20-%20Super%20Smash%20Bros.%20Nintendo%20Stage.JPG: type object 'Exif' has no attribute 'IFDRational'\n",
      "Erreur lors du traitement de EZ2DJ%20Cabinet.jpg: type object 'Exif' has no attribute 'IFDRational'\n",
      "Erreur lors du traitement de Festival%20du%20jeu%20video%2020080926%20032.jpg: type object 'Exif' has no attribute 'IFDRational'\n",
      "Erreur lors du traitement de Festival%20du%20jeu%20video%2020080926%20044.jpg: type object 'Exif' has no attribute 'IFDRational'\n",
      "Erreur lors du traitement de Fortnite%20cosplayers%20at%20Gamescom%202017%20%283%29.jpg: type object 'Exif' has no attribute 'IFDRational'\n",
      "Erreur lors du traitement de Game%26watch-donkey-kong-3.jpg: type object 'Exif' has no attribute 'IFDRational'\n",
      "Erreur lors du traitement de Gorf.JPG: type object 'Exif' has no attribute 'IFDRational'\n",
      "Erreur lors du traitement de Grand%20Theft%20Auto%2C%20NY%20Chinatown.jpg: type object 'Exif' has no attribute 'IFDRational'\n",
      "Erreur lors du traitement de H.R.%20Giger%E2%80%99s%20Xenomorph%20%28Ank%20Kumar%20%29%2004.jpg: type object 'Exif' has no attribute 'IFDRational'\n",
      "Erreur lors du traitement de HERO%20Cartridge%20f%C3%BCr%20Atari%202600.jpg: type object 'Exif' has no attribute 'IFDRational'\n",
      "Erreur lors du traitement de Igromir%202008%20%283012936938%29.jpg: type object 'Exif' has no attribute 'IFDRational'\n",
      "Erreur lors du traitement de Keyboardmania%20Cabinet.jpg: type object 'Exif' has no attribute 'IFDRational'\n",
      "Erreur lors du traitement de Kitty%20Glitter.jpg: type object 'Exif' has no attribute 'IFDRational'\n",
      "Erreur lors du traitement de KOF-98%20arcade%20cabinet.jpg: type object 'Exif' has no attribute 'IFDRational'\n",
      "Erreur lors du traitement de Microsoft%203D%20Movie%20Maker%20640x480.jpg: type object 'Exif' has no attribute 'IFDRational'\n",
      "Erreur lors du traitement de Midnight%20Club%2C%20LA%20at%20GamesCom%20-%20Flickr%20-%20Sergey%20Galyonkin.jpg: type object 'Exif' has no attribute 'IFDRational'\n",
      "Erreur lors du traitement de Midway%20%28USA%29%20Galaxian%20arcade%20machine.jpg: type object 'Exif' has no attribute 'IFDRational'\n",
      "Erreur lors du traitement de Missile%20Command.jpg: type object 'Exif' has no attribute 'IFDRational'\n",
      "Erreur lors du traitement de MrDo%21.jpg: type object 'Exif' has no attribute 'IFDRational'\n",
      "Erreur lors du traitement de Mus%C3%A9e%20M%C3%A9canique%20017.JPG: type object 'Exif' has no attribute 'IFDRational'\n",
      "Erreur lors du traitement de Mus%C3%A9e%20M%C3%A9canique%20029.JPG: type object 'Exif' has no attribute 'IFDRational'\n",
      "Erreur lors du traitement de Mus%C3%A9e%20M%C3%A9canique%20185.JPG: type object 'Exif' has no attribute 'IFDRational'\n",
      "Erreur lors du traitement de Mus%C3%A9e%20M%C3%A9canique%20188.JPG: type object 'Exif' has no attribute 'IFDRational'\n",
      "Erreur lors du traitement de Mus%C3%A9e%20M%C3%A9canique%20204.JPG: type object 'Exif' has no attribute 'IFDRational'\n",
      "Erreur lors du traitement de Mus%C3%A9e%20M%C3%A9canique%20205.JPG: type object 'Exif' has no attribute 'IFDRational'\n",
      "Erreur lors du traitement de Mus%C3%A9e%20M%C3%A9canique%20218.JPG: type object 'Exif' has no attribute 'IFDRational'\n",
      "Erreur lors du traitement de MySims%20at%20EA%27s%20Booth%20%281296581850%29.jpg: type object 'Exif' has no attribute 'IFDRational'\n",
      "Erreur lors du traitement de N64%20Clear%20Blue%20with%20Super%20Mario%2064%2020100603.jpg: type object 'Exif' has no attribute 'IFDRational'\n",
      "Erreur lors du traitement de Nintendo%2064%20%2826017220053%29.jpg: type object 'Exif' has no attribute 'IFDRational'\n",
      "Erreur lors du traitement de OOlite%20Mac%20OS%20X%20screenshot.jpg: type object 'Exif' has no attribute 'IFDRational'\n",
      "Erreur lors du traitement de Painstation.jpg: type object 'Exif' has no attribute 'IFDRational'\n",
      "Erreur lors du traitement de Playing%20Mario%20Kart.jpg: type object 'Exif' has no attribute 'IFDRational'\n",
      "Erreur lors du traitement de Portal%202%20pax%20prime%202010.jpg: type object 'Exif' has no attribute 'IFDRational'\n",
      "Erreur lors du traitement de QWOP%20screenshot.jpg: type object 'Exif' has no attribute 'IFDRational'\n",
      "Erreur lors du traitement de Red%20Orchestra%20Jan31st%20shot1.jpg: type object 'Exif' has no attribute 'IFDRational'\n",
      "Erreur lors du traitement de RoboBlitz%20-%20Screenshot%2001.jpg: type object 'Exif' has no attribute 'IFDRational'\n",
      "Erreur lors du traitement de Rockstar%20Games%20buses%20at%20E3%202005.jpg: type object 'Exif' has no attribute 'IFDRational'\n",
      "Erreur lors du traitement de SauerbratenCollage.jpg: type object 'Exif' has no attribute 'IFDRational'\n",
      "Erreur lors du traitement de Sega%20Daytona%20USA%20Arcade.jpg: type object 'Exif' has no attribute 'IFDRational'\n",
      "Erreur lors du traitement de Sega%20Hang%20on%20Arcade%20Automat.jpg: type object 'Exif' has no attribute 'IFDRational'\n",
      "Erreur lors du traitement de SierraOnLine-Box-KingsQuest3.jpg: type object 'Exif' has no attribute 'IFDRational'\n",
      "Erreur lors du traitement de Signed%20Pong%20Cabinet.jpg: type object 'Exif' has no attribute 'IFDRational'\n",
      "Erreur lors du traitement de Sims%20Stand.jpg: type object 'Exif' has no attribute 'IFDRational'\n",
      "Erreur lors du traitement de Space%20Invaders%20-%20Midway%27s.JPG: type object 'Exif' has no attribute 'IFDRational'\n",
      "Erreur lors du traitement de Starcraft%20Gamescom%202017%20%2836851382835%29.jpg: type object 'Exif' has no attribute 'IFDRational'\n",
      "Erreur lors du traitement de Tapper%20arcade%20cabinet%20-%20Bally%20Midway.jpg: type object 'Exif' has no attribute 'IFDRational'\n",
      "Erreur lors du traitement de Test%20Drive%20II%20%28Amiga%29.jpg: type object 'Exif' has no attribute 'IFDRational'\n",
      "Erreur lors du traitement de Tetris%20DS%20home%20screen.jpg: type object 'Exif' has no attribute 'IFDRational'\n",
      "Erreur lors du traitement de The%20Ball%20-%20Screenshot%2002.jpg: type object 'Exif' has no attribute 'IFDRational'\n",
      "Erreur lors du traitement de The%20Idolmaster%20Cinderella%20Girls%20stage%20outfits%2C%20C3HK%2020150215a.jpg: type object 'Exif' has no attribute 'IFDRational'\n",
      "Erreur lors du traitement de The%20Simpsons%20Arcade%20Game.jpg: type object 'Exif' has no attribute 'IFDRational'\n",
      "Erreur lors du traitement de The%20Sims%202%20Pets%20Life%20in%20Leipzig.jpg: type object 'Exif' has no attribute 'IFDRational'\n",
      "Erreur lors du traitement de Tour%20Advisors.jpg: type object 'Exif' has no attribute 'IFDRational'\n",
      "Erreur lors du traitement de Vglfrogger.jpg: type object 'Exif' has no attribute 'IFDRational'\n",
      "Erreur lors du traitement de Video%20games%20Asteroids%20Popeye%20Klax%20Pengo.jpg: type object 'Exif' has no attribute 'IFDRational'\n",
      "Erreur lors du traitement de View%20from%20DNF%20line%20%284955869149%29.jpg: type object 'Exif' has no attribute 'IFDRational'\n",
      "Erreur lors du traitement de View%20from%20DNF%20line%202%20%284956471292%29.jpg: type object 'Exif' has no attribute 'IFDRational'\n",
      "Erreur lors du traitement de Warsow%20Screenshot%201.0.jpg: type object 'Exif' has no attribute 'IFDRational'\n",
      "Erreur lors du traitement de Warzone%202100%20-%20base.jpg: type object 'Exif' has no attribute 'IFDRational'\n",
      "Erreur lors du traitement de Wii%20Play%20Motion%20Logo.jpg: type object 'Exif' has no attribute 'IFDRational'\n",
      "Erreur lors du traitement de Xblast.jpg: type object 'Exif' has no attribute 'IFDRational'\n",
      "Erreur lors du traitement de Yo%20Frankie.jpg: type object 'Exif' has no attribute 'IFDRational'\n",
      "Fichier JSON sauvegardé sous : exif_metadata.json\n"
     ]
    }
   ],
   "source": [
    "import os\n",
    "import json\n",
    "from PIL import Image\n",
    "from PIL.ExifTags import TAGS\n",
    "\n",
    "# Définir le chemin du dossier contenant les images\n",
    "image_folder = \"images/\"  # Modifiez ce chemin selon votre dossier\n",
    "\n",
    "# Vérifier si le dossier existe\n",
    "if not os.path.exists(image_folder):\n",
    "    raise FileNotFoundError(f\"Le dossier '{image_folder}' n'existe pas.\")\n",
    "\n",
    "# Liste des fichiers image dans le dossier\n",
    "image_files = [f for f in os.listdir(image_folder) if f.lower().endswith(('.jpg', '.jpeg', '.png', '.tiff', '.bmp', '.gif'))]\n",
    "\n",
    "# Liste pour stocker les données EXIF\n",
    "exif_data_list = []\n",
    "\n",
    "# Fonction pour convertir des valeurs EXIF en types sérialisables JSON\n",
    "def convert_exif_value(value):\n",
    "    if isinstance(value, bytes):\n",
    "        try:\n",
    "            return value.decode('utf-8', errors='ignore')\n",
    "        except Exception:\n",
    "            return str(value)\n",
    "    elif isinstance(value, tuple):  # Convertir tuple en liste\n",
    "        return list(value)\n",
    "    elif isinstance(value, Image.Exif.IFDRational):  # Convertir IFDRational en float\n",
    "        return float(value)\n",
    "    return value\n",
    "\n",
    "# Fonction pour déterminer l'orientation de l'image\n",
    "def get_orientation(width, height):\n",
    "    if width > height:\n",
    "        return \"Paysage\"\n",
    "    elif width < height:\n",
    "        return \"Portrait\"\n",
    "    else:\n",
    "        return \"Carré\"\n",
    "\n",
    "# Extraction des métadonnées de chaque image\n",
    "for image_file in image_files:\n",
    "    image_path = os.path.join(image_folder, image_file)\n",
    "    try:\n",
    "        img = Image.open(image_path)\n",
    "        width, height = img.size  # Taille de l'image\n",
    "        format_image = img.format  # Format de l'image\n",
    "\n",
    "        # Métadonnées EXIF\n",
    "        exif_data = img._getexif()\n",
    "        image_exif_dict = {\n",
    "            \"Nom du fichier\": image_file,\n",
    "            \"Taille\": f\"{width}x{height}\",\n",
    "            \"Format\": format_image,\n",
    "            \"Orientation\": get_orientation(width, height)\n",
    "        }\n",
    "        \n",
    "        if exif_data:\n",
    "            for tag, value in exif_data.items():\n",
    "                tag_name = TAGS.get(tag, f\"Tag_{tag}\")\n",
    "                image_exif_dict[tag_name] = convert_exif_value(value)\n",
    "        \n",
    "        # Ajout au JSON final\n",
    "        exif_data_list.append(image_exif_dict)\n",
    "\n",
    "    except Exception as e:\n",
    "        print(f\"Erreur lors du traitement de {image_file}: {e}\")\n",
    "\n",
    "# Sauvegarde des métadonnées dans un fichier JSON\n",
    "json_output_path = \"exif_metadata.json\"\n",
    "\n",
    "with open(json_output_path, \"w\", encoding=\"utf-8\") as json_file:\n",
    "    json.dump(exif_data_list, json_file, indent=4, ensure_ascii=False)\n",
    "\n",
    "print(f\"Fichier JSON sauvegardé sous : {json_output_path}\")\n"
   ]
  },
  {
   "cell_type": "code",
   "execution_count": 11,
   "id": "acf50d2e-1ddc-426b-b24b-b0c6bfa85494",
   "metadata": {
    "tags": []
   },
   "outputs": [
    {
     "name": "stdout",
     "output_type": "stream",
     "text": [
      "\n",
      "🔍 Analyse de l'image : .kkrieger%203.jpg\n"
     ]
    },
    {
     "name": "stderr",
     "output_type": "stream",
     "text": [
      "C:\\Users\\squin\\anaconda3\\Lib\\site-packages\\sklearn\\cluster\\_kmeans.py:1962: UserWarning: MiniBatchKMeans is known to have a memory leak on Windows with MKL, when there are less chunks than available threads. You can prevent it by setting batch_size >= 2048 or by setting the environment variable OMP_NUM_THREADS=4\n",
      "  warnings.warn(\n"
     ]
    },
    {
     "name": "stdout",
     "output_type": "stream",
     "text": [
      "Couleurs triées (RGB) : [(31, 30, 26), (120, 106, 83), (241, 228, 190)]\n",
      "(31, 30, 26)\n",
      "🌟 Couleur principale : [(241, 228, 190), (31, 30, 26), (120, 106, 83)]\n",
      "\n",
      "🔍 Analyse de l'image : 20070701204238.jpg\n"
     ]
    },
    {
     "name": "stderr",
     "output_type": "stream",
     "text": [
      "C:\\Users\\squin\\anaconda3\\Lib\\site-packages\\sklearn\\cluster\\_kmeans.py:1962: UserWarning: MiniBatchKMeans is known to have a memory leak on Windows with MKL, when there are less chunks than available threads. You can prevent it by setting batch_size >= 2048 or by setting the environment variable OMP_NUM_THREADS=4\n",
      "  warnings.warn(\n"
     ]
    },
    {
     "name": "stdout",
     "output_type": "stream",
     "text": [
      "Couleurs triées (RGB) : [(49, 46, 40), (197, 174, 164), (129, 110, 91)]\n",
      "(49, 46, 40)\n",
      "🌟 Couleur principale : [(49, 46, 40), (197, 174, 164), (129, 110, 91)]\n",
      "\n",
      "🔍 Analyse de l'image : Armagetron.jpg\n"
     ]
    },
    {
     "name": "stderr",
     "output_type": "stream",
     "text": [
      "C:\\Users\\squin\\anaconda3\\Lib\\site-packages\\sklearn\\cluster\\_kmeans.py:1962: UserWarning: MiniBatchKMeans is known to have a memory leak on Windows with MKL, when there are less chunks than available threads. You can prevent it by setting batch_size >= 2048 or by setting the environment variable OMP_NUM_THREADS=4\n",
      "  warnings.warn(\n"
     ]
    },
    {
     "name": "stdout",
     "output_type": "stream",
     "text": [
      "Couleurs triées (RGB) : [(29, 55, 25), (80, 77, 38), (132, 161, 103)]\n",
      "(29, 55, 25)\n",
      "🌟 Couleur principale : [(80, 77, 38), (29, 55, 25), (132, 161, 103)]\n",
      "\n",
      "🔍 Analyse de l'image : Cpc464.computer.750pix.jpg\n"
     ]
    },
    {
     "name": "stderr",
     "output_type": "stream",
     "text": [
      "C:\\Users\\squin\\anaconda3\\Lib\\site-packages\\sklearn\\cluster\\_kmeans.py:1962: UserWarning: MiniBatchKMeans is known to have a memory leak on Windows with MKL, when there are less chunks than available threads. You can prevent it by setting batch_size >= 2048 or by setting the environment variable OMP_NUM_THREADS=4\n",
      "  warnings.warn(\n"
     ]
    },
    {
     "name": "stdout",
     "output_type": "stream",
     "text": [
      "Couleurs triées (RGB) : [(41, 35, 30), (154, 89, 49), (222, 209, 191)]\n",
      "(41, 35, 30)\n",
      "🌟 Couleur principale : [(41, 35, 30), (222, 209, 191), (154, 89, 49)]\n",
      "\n",
      "🔍 Analyse de l'image : DARIUS.jpg\n"
     ]
    },
    {
     "name": "stderr",
     "output_type": "stream",
     "text": [
      "C:\\Users\\squin\\anaconda3\\Lib\\site-packages\\sklearn\\cluster\\_kmeans.py:1962: UserWarning: MiniBatchKMeans is known to have a memory leak on Windows with MKL, when there are less chunks than available threads. You can prevent it by setting batch_size >= 2048 or by setting the environment variable OMP_NUM_THREADS=4\n",
      "  warnings.warn(\n"
     ]
    },
    {
     "name": "stdout",
     "output_type": "stream",
     "text": [
      "Couleurs triées (RGB) : [(31, 16, 15), (187, 55, 36), (161, 173, 155)]\n",
      "(31, 16, 15)\n",
      "🌟 Couleur principale : [(31, 16, 15), (161, 173, 155), (187, 55, 36)]\n",
      "\n",
      "🔍 Analyse de l'image : Daytonausa2.jpg\n"
     ]
    },
    {
     "name": "stderr",
     "output_type": "stream",
     "text": [
      "C:\\Users\\squin\\anaconda3\\Lib\\site-packages\\sklearn\\cluster\\_kmeans.py:1962: UserWarning: MiniBatchKMeans is known to have a memory leak on Windows with MKL, when there are less chunks than available threads. You can prevent it by setting batch_size >= 2048 or by setting the environment variable OMP_NUM_THREADS=4\n",
      "  warnings.warn(\n"
     ]
    },
    {
     "name": "stdout",
     "output_type": "stream",
     "text": [
      "Couleurs triées (RGB) : [(23, 20, 19), (153, 142, 90), (241, 241, 238)]\n",
      "(23, 20, 19)\n",
      "🌟 Couleur principale : [(23, 20, 19), (241, 241, 238), (153, 142, 90)]\n",
      "\n",
      "🔍 Analyse de l'image : December%201975%20advertisement%20for%20Gun%20Fight%20by%20Midway.jpg\n"
     ]
    },
    {
     "name": "stderr",
     "output_type": "stream",
     "text": [
      "C:\\Users\\squin\\anaconda3\\Lib\\site-packages\\sklearn\\cluster\\_kmeans.py:1962: UserWarning: MiniBatchKMeans is known to have a memory leak on Windows with MKL, when there are less chunks than available threads. You can prevent it by setting batch_size >= 2048 or by setting the environment variable OMP_NUM_THREADS=4\n",
      "  warnings.warn(\n"
     ]
    },
    {
     "name": "stdout",
     "output_type": "stream",
     "text": [
      "Couleurs triées (RGB) : [(237, 237, 237), (163, 163, 163), (59, 59, 59)]\n",
      "(237, 237, 237)\n",
      "🌟 Couleur principale : [(59, 59, 59), (237, 237, 237), (163, 163, 163)]\n",
      "\n",
      "🔍 Analyse de l'image : Digger.JPG\n"
     ]
    },
    {
     "name": "stderr",
     "output_type": "stream",
     "text": [
      "C:\\Users\\squin\\anaconda3\\Lib\\site-packages\\sklearn\\cluster\\_kmeans.py:1962: UserWarning: MiniBatchKMeans is known to have a memory leak on Windows with MKL, when there are less chunks than available threads. You can prevent it by setting batch_size >= 2048 or by setting the environment variable OMP_NUM_THREADS=4\n",
      "  warnings.warn(\n"
     ]
    },
    {
     "name": "stdout",
     "output_type": "stream",
     "text": [
      "Couleurs triées (RGB) : [(123, 9, 4), (130, 72, 13), (4, 3, 2)]\n",
      "(123, 9, 4)\n",
      "🌟 Couleur principale : [(4, 3, 2), (130, 72, 13), (123, 9, 4)]\n",
      "\n",
      "🔍 Analyse de l'image : Doom%20Utilities%20%28Back%20Cover%29.jpg\n"
     ]
    },
    {
     "name": "stderr",
     "output_type": "stream",
     "text": [
      "C:\\Users\\squin\\anaconda3\\Lib\\site-packages\\sklearn\\cluster\\_kmeans.py:1962: UserWarning: MiniBatchKMeans is known to have a memory leak on Windows with MKL, when there are less chunks than available threads. You can prevent it by setting batch_size >= 2048 or by setting the environment variable OMP_NUM_THREADS=4\n",
      "  warnings.warn(\n"
     ]
    },
    {
     "name": "stdout",
     "output_type": "stream",
     "text": [
      "Couleurs triées (RGB) : [(108, 46, 88), (98, 47, 67), (147, 104, 107)]\n",
      "(108, 46, 88)\n",
      "🌟 Couleur principale : [(108, 46, 88), (147, 104, 107), (98, 47, 67)]\n",
      "\n",
      "🔍 Analyse de l'image : Doom%20Utilities%20%28Front%20Cover%29.jpg\n"
     ]
    },
    {
     "name": "stderr",
     "output_type": "stream",
     "text": [
      "C:\\Users\\squin\\anaconda3\\Lib\\site-packages\\sklearn\\cluster\\_kmeans.py:1962: UserWarning: MiniBatchKMeans is known to have a memory leak on Windows with MKL, when there are less chunks than available threads. You can prevent it by setting batch_size >= 2048 or by setting the environment variable OMP_NUM_THREADS=4\n",
      "  warnings.warn(\n"
     ]
    },
    {
     "name": "stdout",
     "output_type": "stream",
     "text": [
      "Couleurs triées (RGB) : [(120, 58, 104), (112, 51, 93), (163, 145, 108)]\n",
      "(120, 58, 104)\n",
      "🌟 Couleur principale : [(120, 58, 104), (163, 145, 108), (112, 51, 93)]\n",
      "\n",
      "🔍 Analyse de l'image : Doom%20Utilities%20%28Inside%20Cover%20Left%20Inlay%29.jpg\n"
     ]
    },
    {
     "name": "stderr",
     "output_type": "stream",
     "text": [
      "C:\\Users\\squin\\anaconda3\\Lib\\site-packages\\sklearn\\cluster\\_kmeans.py:1962: UserWarning: MiniBatchKMeans is known to have a memory leak on Windows with MKL, when there are less chunks than available threads. You can prevent it by setting batch_size >= 2048 or by setting the environment variable OMP_NUM_THREADS=4\n",
      "  warnings.warn(\n"
     ]
    },
    {
     "name": "stdout",
     "output_type": "stream",
     "text": [
      "Couleurs triées (RGB) : [(250, 249, 245), (33, 33, 32), (153, 153, 151)]\n",
      "(250, 249, 245)\n",
      "🌟 Couleur principale : [(250, 249, 245), (33, 33, 32), (153, 153, 151)]\n",
      "\n",
      "🔍 Analyse de l'image : Doom%20Utilities%20%28Media%29.jpg\n"
     ]
    },
    {
     "name": "stderr",
     "output_type": "stream",
     "text": [
      "C:\\Users\\squin\\anaconda3\\Lib\\site-packages\\sklearn\\cluster\\_kmeans.py:1962: UserWarning: MiniBatchKMeans is known to have a memory leak on Windows with MKL, when there are less chunks than available threads. You can prevent it by setting batch_size >= 2048 or by setting the environment variable OMP_NUM_THREADS=4\n",
      "  warnings.warn(\n"
     ]
    },
    {
     "name": "stdout",
     "output_type": "stream",
     "text": [
      "Couleurs triées (RGB) : [(124, 115, 107), (32, 32, 29), (254, 254, 254)]\n",
      "(124, 115, 107)\n",
      "🌟 Couleur principale : [(124, 115, 107), (254, 254, 254), (32, 32, 29)]\n",
      "\n",
      "🔍 Analyse de l'image : Doom%20Utilities%20%28Spine-Sides%20Left%29.jpg\n"
     ]
    },
    {
     "name": "stderr",
     "output_type": "stream",
     "text": [
      "C:\\Users\\squin\\anaconda3\\Lib\\site-packages\\sklearn\\cluster\\_kmeans.py:1962: UserWarning: MiniBatchKMeans is known to have a memory leak on Windows with MKL, when there are less chunks than available threads. You can prevent it by setting batch_size >= 2048 or by setting the environment variable OMP_NUM_THREADS=4\n",
      "  warnings.warn(\n"
     ]
    },
    {
     "name": "stdout",
     "output_type": "stream",
     "text": [
      "Couleurs triées (RGB) : [(107, 45, 82), (139, 109, 79), (179, 145, 138)]\n",
      "(107, 45, 82)\n",
      "🌟 Couleur principale : [(139, 109, 79), (107, 45, 82), (179, 145, 138)]\n",
      "\n",
      "🔍 Analyse de l'image : Doom%20Utilities%20%28Spine-Sides%20Right%29.jpg\n"
     ]
    },
    {
     "name": "stderr",
     "output_type": "stream",
     "text": [
      "C:\\Users\\squin\\anaconda3\\Lib\\site-packages\\sklearn\\cluster\\_kmeans.py:1962: UserWarning: MiniBatchKMeans is known to have a memory leak on Windows with MKL, when there are less chunks than available threads. You can prevent it by setting batch_size >= 2048 or by setting the environment variable OMP_NUM_THREADS=4\n",
      "  warnings.warn(\n"
     ]
    },
    {
     "name": "stdout",
     "output_type": "stream",
     "text": [
      "Couleurs triées (RGB) : [(114, 45, 86), (145, 113, 81), (105, 55, 58)]\n",
      "(114, 45, 86)\n",
      "🌟 Couleur principale : [(114, 45, 86), (145, 113, 81), (105, 55, 58)]\n",
      "\n",
      "🔍 Analyse de l'image : DP%20Paintball%202.0%20menu%20-%20main.jpg\n"
     ]
    },
    {
     "name": "stderr",
     "output_type": "stream",
     "text": [
      "C:\\Users\\squin\\anaconda3\\Lib\\site-packages\\sklearn\\cluster\\_kmeans.py:1962: UserWarning: MiniBatchKMeans is known to have a memory leak on Windows with MKL, when there are less chunks than available threads. You can prevent it by setting batch_size >= 2048 or by setting the environment variable OMP_NUM_THREADS=4\n",
      "  warnings.warn(\n"
     ]
    },
    {
     "name": "stdout",
     "output_type": "stream",
     "text": [
      "Couleurs triées (RGB) : [(55, 56, 68), (42, 42, 53), (233, 233, 236)]\n",
      "(55, 56, 68)\n",
      "🌟 Couleur principale : [(42, 42, 53), (233, 233, 236), (55, 56, 68)]\n",
      "\n",
      "🔍 Analyse de l'image : Epiphany%20game%20screenshot.jpg\n"
     ]
    },
    {
     "name": "stderr",
     "output_type": "stream",
     "text": [
      "C:\\Users\\squin\\anaconda3\\Lib\\site-packages\\sklearn\\cluster\\_kmeans.py:1962: UserWarning: MiniBatchKMeans is known to have a memory leak on Windows with MKL, when there are less chunks than available threads. You can prevent it by setting batch_size >= 2048 or by setting the environment variable OMP_NUM_THREADS=4\n",
      "  warnings.warn(\n"
     ]
    },
    {
     "name": "stdout",
     "output_type": "stream",
     "text": [
      "Couleurs triées (RGB) : [(159, 159, 159), (78, 110, 72), (20, 3, 4)]\n",
      "(159, 159, 159)\n",
      "🌟 Couleur principale : [(20, 3, 4), (159, 159, 159), (78, 110, 72)]\n",
      "\n",
      "🔍 Analyse de l'image : EVE%20Online%20-%20Caldari%20Freighters.jpg\n"
     ]
    },
    {
     "name": "stderr",
     "output_type": "stream",
     "text": [
      "C:\\Users\\squin\\anaconda3\\Lib\\site-packages\\sklearn\\cluster\\_kmeans.py:1962: UserWarning: MiniBatchKMeans is known to have a memory leak on Windows with MKL, when there are less chunks than available threads. You can prevent it by setting batch_size >= 2048 or by setting the environment variable OMP_NUM_THREADS=4\n",
      "  warnings.warn(\n"
     ]
    },
    {
     "name": "stdout",
     "output_type": "stream",
     "text": [
      "Couleurs triées (RGB) : [(28, 30, 28), (58, 71, 71), (131, 166, 168)]\n",
      "(28, 30, 28)\n",
      "🌟 Couleur principale : [(58, 71, 71), (131, 166, 168), (28, 30, 28)]\n",
      "\n",
      "🔍 Analyse de l'image : Flight%20of%20the%20Amazon%20Queen.jpg\n"
     ]
    },
    {
     "name": "stderr",
     "output_type": "stream",
     "text": [
      "C:\\Users\\squin\\anaconda3\\Lib\\site-packages\\sklearn\\cluster\\_kmeans.py:1962: UserWarning: MiniBatchKMeans is known to have a memory leak on Windows with MKL, when there are less chunks than available threads. You can prevent it by setting batch_size >= 2048 or by setting the environment variable OMP_NUM_THREADS=4\n",
      "  warnings.warn(\n"
     ]
    },
    {
     "name": "stdout",
     "output_type": "stream",
     "text": [
      "Couleurs triées (RGB) : [(108, 93, 105), (48, 31, 37), (170, 168, 171)]\n",
      "(108, 93, 105)\n",
      "🌟 Couleur principale : [(48, 31, 37), (170, 168, 171), (108, 93, 105)]\n",
      "\n",
      "🔍 Analyse de l'image : Freddy%20Pharkas%20Frontier%20Pharmacist.jpg\n"
     ]
    },
    {
     "name": "stderr",
     "output_type": "stream",
     "text": [
      "C:\\Users\\squin\\anaconda3\\Lib\\site-packages\\sklearn\\cluster\\_kmeans.py:1962: UserWarning: MiniBatchKMeans is known to have a memory leak on Windows with MKL, when there are less chunks than available threads. You can prevent it by setting batch_size >= 2048 or by setting the environment variable OMP_NUM_THREADS=4\n",
      "  warnings.warn(\n"
     ]
    },
    {
     "name": "stdout",
     "output_type": "stream",
     "text": [
      "Couleurs triées (RGB) : [(65, 36, 25), (123, 100, 102), (224, 168, 143)]\n",
      "(65, 36, 25)\n",
      "🌟 Couleur principale : [(123, 100, 102), (65, 36, 25), (224, 168, 143)]\n",
      "\n",
      "🔍 Analyse de l'image : FreeCol0%205%202%20mapboard.jpg\n"
     ]
    },
    {
     "name": "stderr",
     "output_type": "stream",
     "text": [
      "C:\\Users\\squin\\anaconda3\\Lib\\site-packages\\sklearn\\cluster\\_kmeans.py:1962: UserWarning: MiniBatchKMeans is known to have a memory leak on Windows with MKL, when there are less chunks than available threads. You can prevent it by setting batch_size >= 2048 or by setting the environment variable OMP_NUM_THREADS=4\n",
      "  warnings.warn(\n"
     ]
    },
    {
     "name": "stdout",
     "output_type": "stream",
     "text": [
      "Couleurs triées (RGB) : [(195, 187, 110), (63, 125, 164), (73, 66, 34)]\n",
      "(195, 187, 110)\n",
      "🌟 Couleur principale : [(195, 187, 110), (63, 125, 164), (73, 66, 34)]\n",
      "\n",
      "🔍 Analyse de l'image : Glest.jpg\n"
     ]
    },
    {
     "name": "stderr",
     "output_type": "stream",
     "text": [
      "C:\\Users\\squin\\anaconda3\\Lib\\site-packages\\sklearn\\cluster\\_kmeans.py:1962: UserWarning: MiniBatchKMeans is known to have a memory leak on Windows with MKL, when there are less chunks than available threads. You can prevent it by setting batch_size >= 2048 or by setting the environment variable OMP_NUM_THREADS=4\n",
      "  warnings.warn(\n"
     ]
    },
    {
     "name": "stdout",
     "output_type": "stream",
     "text": [
      "Couleurs triées (RGB) : [(43, 56, 12), (107, 86, 37), (232, 212, 68)]\n",
      "(43, 56, 12)\n",
      "🌟 Couleur principale : [(43, 56, 12), (232, 212, 68), (107, 86, 37)]\n",
      "\n",
      "🔍 Analyse de l'image : Killing%20Floor%20Biohazard1.jpg\n"
     ]
    },
    {
     "name": "stderr",
     "output_type": "stream",
     "text": [
      "C:\\Users\\squin\\anaconda3\\Lib\\site-packages\\sklearn\\cluster\\_kmeans.py:1962: UserWarning: MiniBatchKMeans is known to have a memory leak on Windows with MKL, when there are less chunks than available threads. You can prevent it by setting batch_size >= 2048 or by setting the environment variable OMP_NUM_THREADS=4\n",
      "  warnings.warn(\n"
     ]
    },
    {
     "name": "stdout",
     "output_type": "stream",
     "text": [
      "Couleurs triées (RGB) : [(33, 29, 15), (74, 56, 27), (142, 93, 35)]\n",
      "(33, 29, 15)\n",
      "🌟 Couleur principale : [(33, 29, 15), (142, 93, 35), (74, 56, 27)]\n",
      "\n",
      "🔍 Analyse de l'image : Mastermind.jpg\n"
     ]
    },
    {
     "name": "stderr",
     "output_type": "stream",
     "text": [
      "C:\\Users\\squin\\anaconda3\\Lib\\site-packages\\sklearn\\cluster\\_kmeans.py:1962: UserWarning: MiniBatchKMeans is known to have a memory leak on Windows with MKL, when there are less chunks than available threads. You can prevent it by setting batch_size >= 2048 or by setting the environment variable OMP_NUM_THREADS=4\n",
      "  warnings.warn(\n"
     ]
    },
    {
     "name": "stdout",
     "output_type": "stream",
     "text": [
      "Couleurs triées (RGB) : [(177, 156, 117), (253, 254, 253), (82, 43, 26)]\n",
      "(177, 156, 117)\n",
      "🌟 Couleur principale : [(177, 156, 117), (253, 254, 253), (82, 43, 26)]\n",
      "\n",
      "🔍 Analyse de l'image : Maze%20war.jpg\n"
     ]
    },
    {
     "name": "stderr",
     "output_type": "stream",
     "text": [
      "C:\\Users\\squin\\anaconda3\\Lib\\site-packages\\sklearn\\cluster\\_kmeans.py:1962: UserWarning: MiniBatchKMeans is known to have a memory leak on Windows with MKL, when there are less chunks than available threads. You can prevent it by setting batch_size >= 2048 or by setting the environment variable OMP_NUM_THREADS=4\n",
      "  warnings.warn(\n"
     ]
    },
    {
     "name": "stdout",
     "output_type": "stream",
     "text": [
      "Couleurs triées (RGB) : [(112, 117, 105), (29, 35, 34), (190, 201, 179)]\n",
      "(112, 117, 105)\n",
      "🌟 Couleur principale : [(112, 117, 105), (190, 201, 179), (29, 35, 34)]\n",
      "\n",
      "🔍 Analyse de l'image : Nexuiz%20screenshot%2008.jpg\n"
     ]
    },
    {
     "name": "stderr",
     "output_type": "stream",
     "text": [
      "C:\\Users\\squin\\anaconda3\\Lib\\site-packages\\sklearn\\cluster\\_kmeans.py:1962: UserWarning: MiniBatchKMeans is known to have a memory leak on Windows with MKL, when there are less chunks than available threads. You can prevent it by setting batch_size >= 2048 or by setting the environment variable OMP_NUM_THREADS=4\n",
      "  warnings.warn(\n"
     ]
    },
    {
     "name": "stdout",
     "output_type": "stream",
     "text": [
      "Couleurs triées (RGB) : [(35, 34, 25), (149, 123, 73), (251, 250, 209)]\n",
      "(35, 34, 25)\n",
      "🌟 Couleur principale : [(149, 123, 73), (35, 34, 25), (251, 250, 209)]\n",
      "\n",
      "🔍 Analyse de l'image : Niveau%20de%20Blocks%20That%20Matter.jpg\n"
     ]
    },
    {
     "name": "stderr",
     "output_type": "stream",
     "text": [
      "C:\\Users\\squin\\anaconda3\\Lib\\site-packages\\sklearn\\cluster\\_kmeans.py:1962: UserWarning: MiniBatchKMeans is known to have a memory leak on Windows with MKL, when there are less chunks than available threads. You can prevent it by setting batch_size >= 2048 or by setting the environment variable OMP_NUM_THREADS=4\n",
      "  warnings.warn(\n"
     ]
    },
    {
     "name": "stdout",
     "output_type": "stream",
     "text": [
      "Couleurs triées (RGB) : [(55, 40, 21), (120, 80, 41), (122, 141, 46)]\n",
      "(55, 40, 21)\n",
      "🌟 Couleur principale : [(122, 141, 46), (55, 40, 21), (120, 80, 41)]\n",
      "\n",
      "🔍 Analyse de l'image : On-Line%20Systems%20-%20Time%20Zone.jpg\n"
     ]
    },
    {
     "name": "stderr",
     "output_type": "stream",
     "text": [
      "C:\\Users\\squin\\anaconda3\\Lib\\site-packages\\sklearn\\cluster\\_kmeans.py:1962: UserWarning: MiniBatchKMeans is known to have a memory leak on Windows with MKL, when there are less chunks than available threads. You can prevent it by setting batch_size >= 2048 or by setting the environment variable OMP_NUM_THREADS=4\n",
      "  warnings.warn(\n"
     ]
    },
    {
     "name": "stdout",
     "output_type": "stream",
     "text": [
      "Couleurs triées (RGB) : [(15, 28, 14), (98, 111, 92), (198, 195, 147)]\n",
      "(15, 28, 14)\n",
      "🌟 Couleur principale : [(15, 28, 14), (198, 195, 147), (98, 111, 92)]\n",
      "\n",
      "🔍 Analyse de l'image : On-Line-Systems-00-Mission-Asteroid.jpg\n"
     ]
    },
    {
     "name": "stderr",
     "output_type": "stream",
     "text": [
      "C:\\Users\\squin\\anaconda3\\Lib\\site-packages\\sklearn\\cluster\\_kmeans.py:1962: UserWarning: MiniBatchKMeans is known to have a memory leak on Windows with MKL, when there are less chunks than available threads. You can prevent it by setting batch_size >= 2048 or by setting the environment variable OMP_NUM_THREADS=4\n",
      "  warnings.warn(\n"
     ]
    },
    {
     "name": "stdout",
     "output_type": "stream",
     "text": [
      "Couleurs triées (RGB) : [(10, 10, 10), (144, 163, 177), (189, 108, 83)]\n",
      "(10, 10, 10)\n",
      "🌟 Couleur principale : [(144, 163, 177), (10, 10, 10), (189, 108, 83)]\n",
      "\n",
      "🔍 Analyse de l'image : OpenArena-Gargoyle.jpg\n"
     ]
    },
    {
     "name": "stderr",
     "output_type": "stream",
     "text": [
      "C:\\Users\\squin\\anaconda3\\Lib\\site-packages\\sklearn\\cluster\\_kmeans.py:1962: UserWarning: MiniBatchKMeans is known to have a memory leak on Windows with MKL, when there are less chunks than available threads. You can prevent it by setting batch_size >= 2048 or by setting the environment variable OMP_NUM_THREADS=4\n",
      "  warnings.warn(\n"
     ]
    },
    {
     "name": "stdout",
     "output_type": "stream",
     "text": [
      "Couleurs triées (RGB) : [(23, 13, 3), (83, 33, 8), (199, 58, 17)]\n",
      "(23, 13, 3)\n",
      "🌟 Couleur principale : [(23, 13, 3), (199, 58, 17), (83, 33, 8)]\n",
      "\n",
      "🔍 Analyse de l'image : P-38%202.jpg\n"
     ]
    },
    {
     "name": "stderr",
     "output_type": "stream",
     "text": [
      "C:\\Users\\squin\\anaconda3\\Lib\\site-packages\\sklearn\\cluster\\_kmeans.py:1962: UserWarning: MiniBatchKMeans is known to have a memory leak on Windows with MKL, when there are less chunks than available threads. You can prevent it by setting batch_size >= 2048 or by setting the environment variable OMP_NUM_THREADS=4\n",
      "  warnings.warn(\n"
     ]
    },
    {
     "name": "stdout",
     "output_type": "stream",
     "text": [
      "Couleurs triées (RGB) : [(173, 173, 173), (213, 213, 213), (94, 94, 94)]\n",
      "(173, 173, 173)\n",
      "🌟 Couleur principale : [(173, 173, 173), (94, 94, 94), (213, 213, 213)]\n",
      "\n",
      "🔍 Analyse de l'image : ParaParaParadise%202ndMIX.jpg\n"
     ]
    },
    {
     "name": "stderr",
     "output_type": "stream",
     "text": [
      "C:\\Users\\squin\\anaconda3\\Lib\\site-packages\\sklearn\\cluster\\_kmeans.py:1962: UserWarning: MiniBatchKMeans is known to have a memory leak on Windows with MKL, when there are less chunks than available threads. You can prevent it by setting batch_size >= 2048 or by setting the environment variable OMP_NUM_THREADS=4\n",
      "  warnings.warn(\n"
     ]
    },
    {
     "name": "stdout",
     "output_type": "stream",
     "text": [
      "Couleurs triées (RGB) : [(125, 111, 124), (34, 29, 36), (212, 194, 198)]\n",
      "(125, 111, 124)\n",
      "🌟 Couleur principale : [(125, 111, 124), (34, 29, 36), (212, 194, 198)]\n",
      "\n",
      "🔍 Analyse de l'image : Phoenix-1980-italy.jpg\n"
     ]
    },
    {
     "name": "stderr",
     "output_type": "stream",
     "text": [
      "C:\\Users\\squin\\anaconda3\\Lib\\site-packages\\sklearn\\cluster\\_kmeans.py:1962: UserWarning: MiniBatchKMeans is known to have a memory leak on Windows with MKL, when there are less chunks than available threads. You can prevent it by setting batch_size >= 2048 or by setting the environment variable OMP_NUM_THREADS=4\n",
      "  warnings.warn(\n"
     ]
    },
    {
     "name": "stdout",
     "output_type": "stream",
     "text": [
      "Couleurs triées (RGB) : [(28, 30, 28), (138, 128, 96), (222, 220, 214)]\n",
      "(28, 30, 28)\n",
      "🌟 Couleur principale : [(138, 128, 96), (28, 30, 28), (222, 220, 214)]\n",
      "\n",
      "🔍 Analyse de l'image : Pump%20it%20up%20cosplay%201.jpg\n"
     ]
    },
    {
     "name": "stderr",
     "output_type": "stream",
     "text": [
      "C:\\Users\\squin\\anaconda3\\Lib\\site-packages\\sklearn\\cluster\\_kmeans.py:1962: UserWarning: MiniBatchKMeans is known to have a memory leak on Windows with MKL, when there are less chunks than available threads. You can prevent it by setting batch_size >= 2048 or by setting the environment variable OMP_NUM_THREADS=4\n",
      "  warnings.warn(\n"
     ]
    },
    {
     "name": "stdout",
     "output_type": "stream",
     "text": [
      "Couleurs triées (RGB) : [(93, 72, 77), (146, 143, 147), (35, 32, 33)]\n",
      "(93, 72, 77)\n",
      "🌟 Couleur principale : [(146, 143, 147), (35, 32, 33), (93, 72, 77)]\n",
      "\n",
      "🔍 Analyse de l'image : R-Type%20video%20game%20machine.jpg\n"
     ]
    },
    {
     "name": "stderr",
     "output_type": "stream",
     "text": [
      "C:\\Users\\squin\\anaconda3\\Lib\\site-packages\\sklearn\\cluster\\_kmeans.py:1962: UserWarning: MiniBatchKMeans is known to have a memory leak on Windows with MKL, when there are less chunks than available threads. You can prevent it by setting batch_size >= 2048 or by setting the environment variable OMP_NUM_THREADS=4\n",
      "  warnings.warn(\n"
     ]
    },
    {
     "name": "stdout",
     "output_type": "stream",
     "text": [
      "Couleurs triées (RGB) : [(19, 48, 26), (16, 118, 57), (9, 236, 111)]\n",
      "(19, 48, 26)\n",
      "🌟 Couleur principale : [(9, 236, 111), (19, 48, 26), (16, 118, 57)]\n",
      "\n",
      "🔍 Analyse de l'image : Rallycross%20blackwood%20lfs.jpg\n"
     ]
    },
    {
     "name": "stderr",
     "output_type": "stream",
     "text": [
      "C:\\Users\\squin\\anaconda3\\Lib\\site-packages\\sklearn\\cluster\\_kmeans.py:1962: UserWarning: MiniBatchKMeans is known to have a memory leak on Windows with MKL, when there are less chunks than available threads. You can prevent it by setting batch_size >= 2048 or by setting the environment variable OMP_NUM_THREADS=4\n",
      "  warnings.warn(\n"
     ]
    },
    {
     "name": "stdout",
     "output_type": "stream",
     "text": [
      "Couleurs triées (RGB) : [(69, 64, 50), (34, 36, 28), (100, 92, 75)]\n",
      "(69, 64, 50)\n",
      "🌟 Couleur principale : [(100, 92, 75), (34, 36, 28), (69, 64, 50)]\n",
      "\n",
      "🔍 Analyse de l'image : S.T.A.L.K.E.R.-%20Call%20of%20Pripyat%2C%20DirectX%2011%20screenshot.jpg\n"
     ]
    },
    {
     "name": "stderr",
     "output_type": "stream",
     "text": [
      "C:\\Users\\squin\\anaconda3\\Lib\\site-packages\\sklearn\\cluster\\_kmeans.py:1962: UserWarning: MiniBatchKMeans is known to have a memory leak on Windows with MKL, when there are less chunks than available threads. You can prevent it by setting batch_size >= 2048 or by setting the environment variable OMP_NUM_THREADS=4\n",
      "  warnings.warn(\n"
     ]
    },
    {
     "name": "stdout",
     "output_type": "stream",
     "text": [
      "Couleurs triées (RGB) : [(27, 20, 14), (82, 74, 66), (130, 124, 119)]\n",
      "(27, 20, 14)\n",
      "🌟 Couleur principale : [(82, 74, 66), (27, 20, 14), (130, 124, 119)]\n",
      "\n",
      "🔍 Analyse de l'image : Screenshot%20of%20MegaGlest%20Gameplay.jpg\n"
     ]
    },
    {
     "name": "stderr",
     "output_type": "stream",
     "text": [
      "C:\\Users\\squin\\anaconda3\\Lib\\site-packages\\sklearn\\cluster\\_kmeans.py:1962: UserWarning: MiniBatchKMeans is known to have a memory leak on Windows with MKL, when there are less chunks than available threads. You can prevent it by setting batch_size >= 2048 or by setting the environment variable OMP_NUM_THREADS=4\n",
      "  warnings.warn(\n"
     ]
    },
    {
     "name": "stdout",
     "output_type": "stream",
     "text": [
      "Couleurs triées (RGB) : [(143, 102, 56), (159, 144, 126), (64, 48, 29)]\n",
      "(143, 102, 56)\n",
      "🌟 Couleur principale : [(64, 48, 29), (143, 102, 56), (159, 144, 126)]\n",
      "\n",
      "🔍 Analyse de l'image : Screenshot%20Paradroid%20GNU.JPG\n"
     ]
    },
    {
     "name": "stderr",
     "output_type": "stream",
     "text": [
      "C:\\Users\\squin\\anaconda3\\Lib\\site-packages\\sklearn\\cluster\\_kmeans.py:1962: UserWarning: MiniBatchKMeans is known to have a memory leak on Windows with MKL, when there are less chunks than available threads. You can prevent it by setting batch_size >= 2048 or by setting the environment variable OMP_NUM_THREADS=4\n",
      "  warnings.warn(\n"
     ]
    },
    {
     "name": "stdout",
     "output_type": "stream",
     "text": [
      "Couleurs triées (RGB) : [(104, 103, 105), (9, 7, 14), (252, 252, 252)]\n",
      "(104, 103, 105)\n",
      "🌟 Couleur principale : [(104, 103, 105), (252, 252, 252), (9, 7, 14)]\n",
      "\n",
      "🔍 Analyse de l'image : Screenshot-LBreakout2.jpg\n"
     ]
    },
    {
     "name": "stderr",
     "output_type": "stream",
     "text": [
      "C:\\Users\\squin\\anaconda3\\Lib\\site-packages\\sklearn\\cluster\\_kmeans.py:1962: UserWarning: MiniBatchKMeans is known to have a memory leak on Windows with MKL, when there are less chunks than available threads. You can prevent it by setting batch_size >= 2048 or by setting the environment variable OMP_NUM_THREADS=4\n",
      "  warnings.warn(\n"
     ]
    },
    {
     "name": "stdout",
     "output_type": "stream",
     "text": [
      "Couleurs triées (RGB) : [(139, 141, 88), (184, 186, 156), (54, 49, 42)]\n",
      "(139, 141, 88)\n",
      "🌟 Couleur principale : [(184, 186, 156), (54, 49, 42), (139, 141, 88)]\n",
      "\n",
      "🔍 Analyse de l'image : Second%20Life%2011th%20Birthday%20Live%20Drax%20Files%20Radio%20Hour.jpg\n"
     ]
    },
    {
     "name": "stderr",
     "output_type": "stream",
     "text": [
      "C:\\Users\\squin\\anaconda3\\Lib\\site-packages\\sklearn\\cluster\\_kmeans.py:1962: UserWarning: MiniBatchKMeans is known to have a memory leak on Windows with MKL, when there are less chunks than available threads. You can prevent it by setting batch_size >= 2048 or by setting the environment variable OMP_NUM_THREADS=4\n",
      "  warnings.warn(\n"
     ]
    },
    {
     "name": "stdout",
     "output_type": "stream",
     "text": [
      "Couleurs triées (RGB) : [(92, 86, 81), (42, 40, 34), (119, 123, 131)]\n",
      "(92, 86, 81)\n",
      "🌟 Couleur principale : [(42, 40, 34), (92, 86, 81), (119, 123, 131)]\n",
      "\n",
      "🔍 Analyse de l'image : SierraOnLine-Box-ColonelsBequest.jpg\n"
     ]
    },
    {
     "name": "stderr",
     "output_type": "stream",
     "text": [
      "C:\\Users\\squin\\anaconda3\\Lib\\site-packages\\sklearn\\cluster\\_kmeans.py:1962: UserWarning: MiniBatchKMeans is known to have a memory leak on Windows with MKL, when there are less chunks than available threads. You can prevent it by setting batch_size >= 2048 or by setting the environment variable OMP_NUM_THREADS=4\n",
      "  warnings.warn(\n"
     ]
    },
    {
     "name": "stdout",
     "output_type": "stream",
     "text": [
      "Couleurs triées (RGB) : [(0, 0, 1), (100, 175, 202), (238, 54, 25)]\n",
      "(0, 0, 1)\n",
      "🌟 Couleur principale : [(0, 0, 1), (100, 175, 202), (238, 54, 25)]\n",
      "\n",
      "🔍 Analyse de l'image : SierraOnLine-Box-DaggerofAmonRa.jpg\n"
     ]
    },
    {
     "name": "stderr",
     "output_type": "stream",
     "text": [
      "C:\\Users\\squin\\anaconda3\\Lib\\site-packages\\sklearn\\cluster\\_kmeans.py:1962: UserWarning: MiniBatchKMeans is known to have a memory leak on Windows with MKL, when there are less chunks than available threads. You can prevent it by setting batch_size >= 2048 or by setting the environment variable OMP_NUM_THREADS=4\n",
      "  warnings.warn(\n"
     ]
    },
    {
     "name": "stdout",
     "output_type": "stream",
     "text": [
      "Couleurs triées (RGB) : [(18, 27, 20), (136, 104, 81), (242, 164, 105)]\n",
      "(18, 27, 20)\n",
      "🌟 Couleur principale : [(242, 164, 105), (18, 27, 20), (136, 104, 81)]\n",
      "\n",
      "🔍 Analyse de l'image : SierraOnLine-Box-KingsQuest1.jpg\n"
     ]
    },
    {
     "name": "stderr",
     "output_type": "stream",
     "text": [
      "C:\\Users\\squin\\anaconda3\\Lib\\site-packages\\sklearn\\cluster\\_kmeans.py:1962: UserWarning: MiniBatchKMeans is known to have a memory leak on Windows with MKL, when there are less chunks than available threads. You can prevent it by setting batch_size >= 2048 or by setting the environment variable OMP_NUM_THREADS=4\n",
      "  warnings.warn(\n"
     ]
    },
    {
     "name": "stdout",
     "output_type": "stream",
     "text": [
      "Couleurs triées (RGB) : [(143, 128, 77), (39, 49, 52), (141, 149, 170)]\n",
      "(143, 128, 77)\n",
      "🌟 Couleur principale : [(39, 49, 52), (141, 149, 170), (143, 128, 77)]\n",
      "\n",
      "🔍 Analyse de l'image : SierraOnLine-Box-KingsQuest2.jpg\n"
     ]
    },
    {
     "name": "stderr",
     "output_type": "stream",
     "text": [
      "C:\\Users\\squin\\anaconda3\\Lib\\site-packages\\sklearn\\cluster\\_kmeans.py:1962: UserWarning: MiniBatchKMeans is known to have a memory leak on Windows with MKL, when there are less chunks than available threads. You can prevent it by setting batch_size >= 2048 or by setting the environment variable OMP_NUM_THREADS=4\n",
      "  warnings.warn(\n"
     ]
    },
    {
     "name": "stdout",
     "output_type": "stream",
     "text": [
      "Couleurs triées (RGB) : [(139, 104, 92), (68, 54, 62), (183, 174, 168)]\n",
      "(139, 104, 92)\n",
      "🌟 Couleur principale : [(183, 174, 168), (68, 54, 62), (139, 104, 92)]\n",
      "\n",
      "🔍 Analyse de l'image : SierraOnLine-Box-KingsQuest4.jpg\n"
     ]
    },
    {
     "name": "stderr",
     "output_type": "stream",
     "text": [
      "C:\\Users\\squin\\anaconda3\\Lib\\site-packages\\sklearn\\cluster\\_kmeans.py:1962: UserWarning: MiniBatchKMeans is known to have a memory leak on Windows with MKL, when there are less chunks than available threads. You can prevent it by setting batch_size >= 2048 or by setting the environment variable OMP_NUM_THREADS=4\n",
      "  warnings.warn(\n"
     ]
    },
    {
     "name": "stdout",
     "output_type": "stream",
     "text": [
      "Couleurs triées (RGB) : [(155, 104, 76), (54, 27, 21), (212, 177, 168)]\n",
      "(155, 104, 76)\n",
      "🌟 Couleur principale : [(155, 104, 76), (54, 27, 21), (212, 177, 168)]\n",
      "\n",
      "🔍 Analyse de l'image : SierraOnLine-Box-KingsQuest5.jpg\n"
     ]
    },
    {
     "name": "stderr",
     "output_type": "stream",
     "text": [
      "C:\\Users\\squin\\anaconda3\\Lib\\site-packages\\sklearn\\cluster\\_kmeans.py:1962: UserWarning: MiniBatchKMeans is known to have a memory leak on Windows with MKL, when there are less chunks than available threads. You can prevent it by setting batch_size >= 2048 or by setting the environment variable OMP_NUM_THREADS=4\n",
      "  warnings.warn(\n"
     ]
    },
    {
     "name": "stdout",
     "output_type": "stream",
     "text": [
      "Couleurs triées (RGB) : [(131, 159, 166), (205, 190, 178), (61, 49, 24)]\n",
      "(131, 159, 166)\n",
      "🌟 Couleur principale : [(131, 159, 166), (61, 49, 24), (205, 190, 178)]\n",
      "\n",
      "🔍 Analyse de l'image : SierraOnLine-Box-KingsQuest6.jpg\n"
     ]
    },
    {
     "name": "stderr",
     "output_type": "stream",
     "text": [
      "C:\\Users\\squin\\anaconda3\\Lib\\site-packages\\sklearn\\cluster\\_kmeans.py:1962: UserWarning: MiniBatchKMeans is known to have a memory leak on Windows with MKL, when there are less chunks than available threads. You can prevent it by setting batch_size >= 2048 or by setting the environment variable OMP_NUM_THREADS=4\n",
      "  warnings.warn(\n"
     ]
    },
    {
     "name": "stdout",
     "output_type": "stream",
     "text": [
      "Couleurs triées (RGB) : [(2, 4, 5), (76, 55, 53), (179, 127, 88)]\n",
      "(2, 4, 5)\n",
      "🌟 Couleur principale : [(76, 55, 53), (179, 127, 88), (2, 4, 5)]\n",
      "\n",
      "🔍 Analyse de l'image : SierraOnLine-Box-LostSecretoftheRainforest.jpg\n"
     ]
    },
    {
     "name": "stderr",
     "output_type": "stream",
     "text": [
      "C:\\Users\\squin\\anaconda3\\Lib\\site-packages\\sklearn\\cluster\\_kmeans.py:1962: UserWarning: MiniBatchKMeans is known to have a memory leak on Windows with MKL, when there are less chunks than available threads. You can prevent it by setting batch_size >= 2048 or by setting the environment variable OMP_NUM_THREADS=4\n",
      "  warnings.warn(\n"
     ]
    },
    {
     "name": "stdout",
     "output_type": "stream",
     "text": [
      "Couleurs triées (RGB) : [(176, 144, 129), (84, 91, 70), (251, 230, 207)]\n",
      "(176, 144, 129)\n",
      "🌟 Couleur principale : [(84, 91, 70), (176, 144, 129), (251, 230, 207)]\n",
      "\n",
      "🔍 Analyse de l'image : SierraOnLine-Box-QuestforGlory.jpg\n"
     ]
    },
    {
     "name": "stderr",
     "output_type": "stream",
     "text": [
      "C:\\Users\\squin\\anaconda3\\Lib\\site-packages\\sklearn\\cluster\\_kmeans.py:1962: UserWarning: MiniBatchKMeans is known to have a memory leak on Windows with MKL, when there are less chunks than available threads. You can prevent it by setting batch_size >= 2048 or by setting the environment variable OMP_NUM_THREADS=4\n",
      "  warnings.warn(\n"
     ]
    },
    {
     "name": "stdout",
     "output_type": "stream",
     "text": [
      "Couleurs triées (RGB) : [(68, 45, 41), (175, 117, 105), (240, 209, 191)]\n",
      "(68, 45, 41)\n",
      "🌟 Couleur principale : [(68, 45, 41), (240, 209, 191), (175, 117, 105)]\n",
      "\n",
      "🔍 Analyse de l'image : SierraOnLine-Box-RobertaWilliamsCollection.jpg\n"
     ]
    },
    {
     "name": "stderr",
     "output_type": "stream",
     "text": [
      "C:\\Users\\squin\\anaconda3\\Lib\\site-packages\\sklearn\\cluster\\_kmeans.py:1962: UserWarning: MiniBatchKMeans is known to have a memory leak on Windows with MKL, when there are less chunks than available threads. You can prevent it by setting batch_size >= 2048 or by setting the environment variable OMP_NUM_THREADS=4\n",
      "  warnings.warn(\n"
     ]
    },
    {
     "name": "stdout",
     "output_type": "stream",
     "text": [
      "Couleurs triées (RGB) : [(10, 8, 10), (118, 55, 45), (211, 157, 98)]\n",
      "(10, 8, 10)\n",
      "🌟 Couleur principale : [(10, 8, 10), (118, 55, 45), (211, 157, 98)]\n",
      "\n",
      "🔍 Analyse de l'image : Space%20Invaders.JPG\n"
     ]
    },
    {
     "name": "stderr",
     "output_type": "stream",
     "text": [
      "C:\\Users\\squin\\anaconda3\\Lib\\site-packages\\sklearn\\cluster\\_kmeans.py:1962: UserWarning: MiniBatchKMeans is known to have a memory leak on Windows with MKL, when there are less chunks than available threads. You can prevent it by setting batch_size >= 2048 or by setting the environment variable OMP_NUM_THREADS=4\n",
      "  warnings.warn(\n"
     ]
    },
    {
     "name": "stdout",
     "output_type": "stream",
     "text": [
      "Couleurs triées (RGB) : [(49, 19, 6), (156, 71, 18), (181, 139, 97)]\n",
      "(49, 19, 6)\n",
      "🌟 Couleur principale : [(156, 71, 18), (49, 19, 6), (181, 139, 97)]\n",
      "\n",
      "🔍 Analyse de l'image : Spaceharrier.jpg\n"
     ]
    },
    {
     "name": "stderr",
     "output_type": "stream",
     "text": [
      "C:\\Users\\squin\\anaconda3\\Lib\\site-packages\\sklearn\\cluster\\_kmeans.py:1962: UserWarning: MiniBatchKMeans is known to have a memory leak on Windows with MKL, when there are less chunks than available threads. You can prevent it by setting batch_size >= 2048 or by setting the environment variable OMP_NUM_THREADS=4\n",
      "  warnings.warn(\n"
     ]
    },
    {
     "name": "stdout",
     "output_type": "stream",
     "text": [
      "Couleurs triées (RGB) : [(26, 19, 12), (133, 87, 26), (176, 221, 216)]\n",
      "(26, 19, 12)\n",
      "🌟 Couleur principale : [(26, 19, 12), (133, 87, 26), (176, 221, 216)]\n",
      "\n",
      "🔍 Analyse de l'image : Stalker%20Clear%20Sky%20screenshot%20god%20rays%2001.jpg\n"
     ]
    },
    {
     "name": "stderr",
     "output_type": "stream",
     "text": [
      "C:\\Users\\squin\\anaconda3\\Lib\\site-packages\\sklearn\\cluster\\_kmeans.py:1962: UserWarning: MiniBatchKMeans is known to have a memory leak on Windows with MKL, when there are less chunks than available threads. You can prevent it by setting batch_size >= 2048 or by setting the environment variable OMP_NUM_THREADS=4\n",
      "  warnings.warn(\n"
     ]
    },
    {
     "name": "stdout",
     "output_type": "stream",
     "text": [
      "Couleurs triées (RGB) : [(17, 14, 11), (76, 57, 40), (194, 175, 165)]\n",
      "(17, 14, 11)\n",
      "🌟 Couleur principale : [(76, 57, 40), (17, 14, 11), (194, 175, 165)]\n",
      "\n",
      "🔍 Analyse de l'image : Stalkershot%202.jpg\n"
     ]
    },
    {
     "name": "stderr",
     "output_type": "stream",
     "text": [
      "C:\\Users\\squin\\anaconda3\\Lib\\site-packages\\sklearn\\cluster\\_kmeans.py:1962: UserWarning: MiniBatchKMeans is known to have a memory leak on Windows with MKL, when there are less chunks than available threads. You can prevent it by setting batch_size >= 2048 or by setting the environment variable OMP_NUM_THREADS=4\n",
      "  warnings.warn(\n"
     ]
    },
    {
     "name": "stdout",
     "output_type": "stream",
     "text": [
      "Couleurs triées (RGB) : [(37, 33, 34), (96, 85, 85), (172, 182, 218)]\n",
      "(37, 33, 34)\n",
      "🌟 Couleur principale : [(37, 33, 34), (172, 182, 218), (96, 85, 85)]\n",
      "\n",
      "🔍 Analyse de l'image : Streetfighter%20Console.jpg\n"
     ]
    },
    {
     "name": "stderr",
     "output_type": "stream",
     "text": [
      "C:\\Users\\squin\\anaconda3\\Lib\\site-packages\\sklearn\\cluster\\_kmeans.py:1962: UserWarning: MiniBatchKMeans is known to have a memory leak on Windows with MKL, when there are less chunks than available threads. You can prevent it by setting batch_size >= 2048 or by setting the environment variable OMP_NUM_THREADS=4\n",
      "  warnings.warn(\n"
     ]
    },
    {
     "name": "stdout",
     "output_type": "stream",
     "text": [
      "Couleurs triées (RGB) : [(23, 12, 11), (163, 142, 75), (23, 66, 116)]\n",
      "(23, 12, 11)\n",
      "🌟 Couleur principale : [(23, 66, 116), (163, 142, 75), (23, 12, 11)]\n",
      "\n",
      "🔍 Analyse de l'image : Taito%20Operation%20Thunderbolt.JPG\n"
     ]
    },
    {
     "name": "stderr",
     "output_type": "stream",
     "text": [
      "C:\\Users\\squin\\anaconda3\\Lib\\site-packages\\sklearn\\cluster\\_kmeans.py:1962: UserWarning: MiniBatchKMeans is known to have a memory leak on Windows with MKL, when there are less chunks than available threads. You can prevent it by setting batch_size >= 2048 or by setting the environment variable OMP_NUM_THREADS=4\n",
      "  warnings.warn(\n"
     ]
    },
    {
     "name": "stdout",
     "output_type": "stream",
     "text": [
      "Couleurs triées (RGB) : [(25, 23, 27), (122, 112, 101), (196, 174, 148)]\n",
      "(25, 23, 27)\n",
      "🌟 Couleur principale : [(122, 112, 101), (25, 23, 27), (196, 174, 148)]\n",
      "\n",
      "🔍 Analyse de l'image : Torcs-20081217104851.jpg\n"
     ]
    },
    {
     "name": "stderr",
     "output_type": "stream",
     "text": [
      "C:\\Users\\squin\\anaconda3\\Lib\\site-packages\\sklearn\\cluster\\_kmeans.py:1962: UserWarning: MiniBatchKMeans is known to have a memory leak on Windows with MKL, when there are less chunks than available threads. You can prevent it by setting batch_size >= 2048 or by setting the environment variable OMP_NUM_THREADS=4\n",
      "  warnings.warn(\n"
     ]
    },
    {
     "name": "stdout",
     "output_type": "stream",
     "text": [
      "Couleurs triées (RGB) : [(65, 63, 60), (17, 25, 21), (179, 189, 204)]\n",
      "(65, 63, 60)\n",
      "🌟 Couleur principale : [(65, 63, 60), (179, 189, 204), (17, 25, 21)]\n",
      "\n",
      "🔍 Analyse de l'image : Trine%20-%20Wizard%20Lift.jpg\n"
     ]
    },
    {
     "name": "stderr",
     "output_type": "stream",
     "text": [
      "C:\\Users\\squin\\anaconda3\\Lib\\site-packages\\sklearn\\cluster\\_kmeans.py:1962: UserWarning: MiniBatchKMeans is known to have a memory leak on Windows with MKL, when there are less chunks than available threads. You can prevent it by setting batch_size >= 2048 or by setting the environment variable OMP_NUM_THREADS=4\n",
      "  warnings.warn(\n"
     ]
    },
    {
     "name": "stdout",
     "output_type": "stream",
     "text": [
      "Couleurs triées (RGB) : [(24, 18, 46), (189, 132, 78), (69, 91, 151)]\n",
      "(24, 18, 46)\n",
      "🌟 Couleur principale : [(24, 18, 46), (189, 132, 78), (69, 91, 151)]\n",
      "\n",
      "🔍 Analyse de l'image : TuxRacerScreenshot.jpg\n"
     ]
    },
    {
     "name": "stderr",
     "output_type": "stream",
     "text": [
      "C:\\Users\\squin\\anaconda3\\Lib\\site-packages\\sklearn\\cluster\\_kmeans.py:1962: UserWarning: MiniBatchKMeans is known to have a memory leak on Windows with MKL, when there are less chunks than available threads. You can prevent it by setting batch_size >= 2048 or by setting the environment variable OMP_NUM_THREADS=4\n",
      "  warnings.warn(\n"
     ]
    },
    {
     "name": "stdout",
     "output_type": "stream",
     "text": [
      "Couleurs triées (RGB) : [(234, 236, 252), (158, 167, 203), (73, 93, 118)]\n",
      "(234, 236, 252)\n",
      "🌟 Couleur principale : [(73, 93, 118), (234, 236, 252), (158, 167, 203)]\n",
      "\n",
      "🔍 Analyse de l'image : TV%20Sports%20-%20Football%20-%201989%20NFL%20Season%20%28Back%20Cover%29.jpg\n"
     ]
    },
    {
     "name": "stderr",
     "output_type": "stream",
     "text": [
      "C:\\Users\\squin\\anaconda3\\Lib\\site-packages\\sklearn\\cluster\\_kmeans.py:1962: UserWarning: MiniBatchKMeans is known to have a memory leak on Windows with MKL, when there are less chunks than available threads. You can prevent it by setting batch_size >= 2048 or by setting the environment variable OMP_NUM_THREADS=4\n",
      "  warnings.warn(\n"
     ]
    },
    {
     "name": "stdout",
     "output_type": "stream",
     "text": [
      "Couleurs triées (RGB) : [(168, 183, 123), (122, 130, 99), (50, 55, 40)]\n",
      "(168, 183, 123)\n",
      "🌟 Couleur principale : [(168, 183, 123), (50, 55, 40), (122, 130, 99)]\n",
      "\n",
      "🔍 Analyse de l'image : UFO%20Alien%20Invasion%200.12%20-%20geoscape.jpg\n"
     ]
    },
    {
     "name": "stderr",
     "output_type": "stream",
     "text": [
      "C:\\Users\\squin\\anaconda3\\Lib\\site-packages\\sklearn\\cluster\\_kmeans.py:1962: UserWarning: MiniBatchKMeans is known to have a memory leak on Windows with MKL, when there are less chunks than available threads. You can prevent it by setting batch_size >= 2048 or by setting the environment variable OMP_NUM_THREADS=4\n",
      "  warnings.warn(\n"
     ]
    },
    {
     "name": "stdout",
     "output_type": "stream",
     "text": [
      "Couleurs triées (RGB) : [(11, 19, 30), (111, 109, 90), (237, 236, 229)]\n",
      "(11, 19, 30)\n",
      "🌟 Couleur principale : [(11, 19, 30), (237, 236, 229), (111, 109, 90)]\n",
      "\n",
      "🔍 Analyse de l'image : UFO%20screenshot%201.jpg\n"
     ]
    },
    {
     "name": "stderr",
     "output_type": "stream",
     "text": [
      "C:\\Users\\squin\\anaconda3\\Lib\\site-packages\\sklearn\\cluster\\_kmeans.py:1962: UserWarning: MiniBatchKMeans is known to have a memory leak on Windows with MKL, when there are less chunks than available threads. You can prevent it by setting batch_size >= 2048 or by setting the environment variable OMP_NUM_THREADS=4\n",
      "  warnings.warn(\n"
     ]
    },
    {
     "name": "stdout",
     "output_type": "stream",
     "text": [
      "Couleurs triées (RGB) : [(22, 29, 27), (100, 78, 69), (208, 133, 76)]\n",
      "(22, 29, 27)\n",
      "🌟 Couleur principale : [(22, 29, 27), (100, 78, 69), (208, 133, 76)]\n",
      "\n",
      "🔍 Analyse de l'image : VectrexRG2010.jpg\n"
     ]
    },
    {
     "name": "stderr",
     "output_type": "stream",
     "text": [
      "C:\\Users\\squin\\anaconda3\\Lib\\site-packages\\sklearn\\cluster\\_kmeans.py:1962: UserWarning: MiniBatchKMeans is known to have a memory leak on Windows with MKL, when there are less chunks than available threads. You can prevent it by setting batch_size >= 2048 or by setting the environment variable OMP_NUM_THREADS=4\n",
      "  warnings.warn(\n"
     ]
    },
    {
     "name": "stdout",
     "output_type": "stream",
     "text": [
      "Couleurs triées (RGB) : [(16, 15, 16), (51, 42, 36), (138, 62, 45)]\n",
      "(16, 15, 16)\n",
      "🌟 Couleur principale : [(16, 15, 16), (138, 62, 45), (51, 42, 36)]\n",
      "\n",
      "🔍 Analyse de l'image : Vsdrmario.jpg\n"
     ]
    },
    {
     "name": "stderr",
     "output_type": "stream",
     "text": [
      "C:\\Users\\squin\\anaconda3\\Lib\\site-packages\\sklearn\\cluster\\_kmeans.py:1962: UserWarning: MiniBatchKMeans is known to have a memory leak on Windows with MKL, when there are less chunks than available threads. You can prevent it by setting batch_size >= 2048 or by setting the environment variable OMP_NUM_THREADS=4\n",
      "  warnings.warn(\n"
     ]
    },
    {
     "name": "stdout",
     "output_type": "stream",
     "text": [
      "Couleurs triées (RGB) : [(26, 27, 27), (81, 119, 132), (191, 182, 165)]\n",
      "(26, 27, 27)\n",
      "🌟 Couleur principale : [(26, 27, 27), (81, 119, 132), (191, 182, 165)]\n",
      "\n",
      "🔍 Analyse de l'image : Whac-A-Mole-Dog.jpg\n"
     ]
    },
    {
     "name": "stderr",
     "output_type": "stream",
     "text": [
      "C:\\Users\\squin\\anaconda3\\Lib\\site-packages\\sklearn\\cluster\\_kmeans.py:1962: UserWarning: MiniBatchKMeans is known to have a memory leak on Windows with MKL, when there are less chunks than available threads. You can prevent it by setting batch_size >= 2048 or by setting the environment variable OMP_NUM_THREADS=4\n",
      "  warnings.warn(\n"
     ]
    },
    {
     "name": "stdout",
     "output_type": "stream",
     "text": [
      "Couleurs triées (RGB) : [(69, 60, 51), (146, 152, 146), (200, 155, 33)]\n",
      "(69, 60, 51)\n",
      "🌟 Couleur principale : [(200, 155, 33), (69, 60, 51), (146, 152, 146)]\n",
      "\n",
      "🔍 Analyse de l'image : Widelands-svn3311.jpg\n"
     ]
    },
    {
     "name": "stderr",
     "output_type": "stream",
     "text": [
      "C:\\Users\\squin\\anaconda3\\Lib\\site-packages\\sklearn\\cluster\\_kmeans.py:1962: UserWarning: MiniBatchKMeans is known to have a memory leak on Windows with MKL, when there are less chunks than available threads. You can prevent it by setting batch_size >= 2048 or by setting the environment variable OMP_NUM_THREADS=4\n",
      "  warnings.warn(\n"
     ]
    },
    {
     "name": "stdout",
     "output_type": "stream",
     "text": [
      "Couleurs triées (RGB) : [(43, 75, 19), (134, 136, 74), (36, 54, 125)]\n",
      "(43, 75, 19)\n",
      "🌟 Couleur principale : [(36, 54, 125), (43, 75, 19), (134, 136, 74)]\n",
      "\n",
      "🔍 Analyse de l'image : Wiifit.jpg\n"
     ]
    },
    {
     "name": "stderr",
     "output_type": "stream",
     "text": [
      "C:\\Users\\squin\\anaconda3\\Lib\\site-packages\\sklearn\\cluster\\_kmeans.py:1962: UserWarning: MiniBatchKMeans is known to have a memory leak on Windows with MKL, when there are less chunks than available threads. You can prevent it by setting batch_size >= 2048 or by setting the environment variable OMP_NUM_THREADS=4\n",
      "  warnings.warn(\n"
     ]
    },
    {
     "name": "stdout",
     "output_type": "stream",
     "text": [
      "Couleurs triées (RGB) : [(52, 38, 25), (104, 86, 69), (176, 169, 150)]\n",
      "(52, 38, 25)\n",
      "🌟 Couleur principale : [(176, 169, 150), (52, 38, 25), (104, 86, 69)]\n",
      "\n",
      "🔍 Analyse de l'image : Xmoto1.jpg\n"
     ]
    },
    {
     "name": "stderr",
     "output_type": "stream",
     "text": [
      "C:\\Users\\squin\\anaconda3\\Lib\\site-packages\\sklearn\\cluster\\_kmeans.py:1962: UserWarning: MiniBatchKMeans is known to have a memory leak on Windows with MKL, when there are less chunks than available threads. You can prevent it by setting batch_size >= 2048 or by setting the environment variable OMP_NUM_THREADS=4\n",
      "  warnings.warn(\n"
     ]
    },
    {
     "name": "stdout",
     "output_type": "stream",
     "text": [
      "Couleurs triées (RGB) : [(85, 150, 214), (143, 119, 82), (16, 36, 11)]\n",
      "(85, 150, 214)\n",
      "🌟 Couleur principale : [(85, 150, 214), (143, 119, 82), (16, 36, 11)]\n",
      "\n",
      "🔍 Analyse de l'image : You%20are%20standing.jpg\n"
     ]
    },
    {
     "name": "stderr",
     "output_type": "stream",
     "text": [
      "C:\\Users\\squin\\anaconda3\\Lib\\site-packages\\sklearn\\cluster\\_kmeans.py:1962: UserWarning: MiniBatchKMeans is known to have a memory leak on Windows with MKL, when there are less chunks than available threads. You can prevent it by setting batch_size >= 2048 or by setting the environment variable OMP_NUM_THREADS=4\n",
      "  warnings.warn(\n"
     ]
    },
    {
     "name": "stdout",
     "output_type": "stream",
     "text": [
      "Couleurs triées (RGB) : [(18, 21, 20), (95, 115, 103), (179, 241, 231)]\n",
      "(18, 21, 20)\n",
      "🌟 Couleur principale : [(18, 21, 20), (95, 115, 103), (179, 241, 231)]\n",
      "✅ Mise à jour du JSON terminée !\n"
     ]
    }
   ],
   "source": [
    "import os\n",
    "import json\n",
    "import numpy as np\n",
    "from PIL import Image\n",
    "from sklearn.cluster import MiniBatchKMeans\n",
    "\n",
    "# 📂 Chemins des fichiers\n",
    "image_folder = \"images\"\n",
    "json_file_path = \"exif_metadata.json\"\n",
    "\n",
    "# 📖 Charger le fichier JSON existant\n",
    "with open(json_file_path, \"r\", encoding=\"utf-8\") as file:\n",
    "    metadata = json.load(file)\n",
    "\n",
    "# 🔄 Créer un set des images présentes dans le JSON\n",
    "json_images = {img_data[\"Nom du fichier\"] for img_data in metadata}\n",
    "\n",
    "# 🔄 Lister les images du dossier qui existent aussi dans le JSON\n",
    "image_files = [f for f in os.listdir(image_folder) if f in json_images]\n",
    "\n",
    "# 🔍 Traiter chaque image du dossier SI ELLE EXISTE DANS LE JSON\n",
    "for img_name in image_files:\n",
    "    img_path = os.path.join(image_folder, img_name)\n",
    "    print(f\"\\n🔍 Analyse de l'image : {img_name}\")\n",
    "\n",
    "    # 📸 Ouvrir l'image et la convertir en tableau numpy\n",
    "    img = Image.open(img_path).convert(\"RGB\")\n",
    "    img_array = np.array(img).reshape(-1, 3)  # Transformer en liste de pixels (RGB)\n",
    "\n",
    "    # 🎯 Appliquer K-Means pour trouver les 5 couleurs dominantes\n",
    "    cluster_count = 3\n",
    "    kmeans = MiniBatchKMeans(n_clusters=cluster_count, n_init=10, random_state=0)\n",
    "    kmeans.fit(img_array)\n",
    "    # Récupérer les couleurs des clusters\n",
    "    cluster_centers = kmeans.cluster_centers_.astype(int)\n",
    "    \n",
    "    # Obtenir les labels des pixels\n",
    "    labels, counts = np.unique(kmeans.labels_, return_counts=True)\n",
    "    \n",
    "    # Trier les clusters par fréquence d'apparition (du plus fréquent au moins fréquent)\n",
    "    sorted_indices = np.argsort(-counts)  # Trie en ordre décroissant\n",
    "    \n",
    "    # Réorganiser les couleurs et les fréquences selon ce tri\n",
    "    sorted_cluster_centers = cluster_centers[sorted_indices]\n",
    "    sorted_colors = [tuple(color) for color in sorted_cluster_centers]    \n",
    "    # Afficher les résultats\n",
    "    print(\"Couleurs triées (RGB) :\", [tuple(color) for color in sorted_cluster_centers])\n",
    "   # print(\"Nombre de pixels par cluster :\", sorted_counts)\n",
    "    print(sorted_colors[0])\n",
    "\n",
    "    # 🔝 Conserver le format RGB sous forme de tuples\n",
    "    rgb_colors = [tuple(color) for color in cluster_centers]\n",
    "    \n",
    "    # 🔄 Mettre à jour le JSON avec les couleurs\n",
    "    for img_data in metadata:\n",
    "        if img_data[\"Nom du fichier\"] == img_name:\n",
    "            img_data[\"dominant_colors\"] = f\"{sorted_colors[0][0]} {sorted_colors[0][1]} {sorted_colors[0][2]}\"\n",
    "            break  # Une fois mis à jour, on passe à l'image suivante\n",
    "\n",
    "    # 🎨 Afficher la couleur la plus dominante\n",
    "    print(f\"🌟 Couleur principale : {rgb_colors}\")\n",
    "\n",
    "# 💾 Sauvegarder le JSON mis à jour\n",
    "with open(json_file_path, \"w\", encoding=\"utf-8\") as file:\n",
    "    json.dump(metadata, file, indent=4, ensure_ascii=False)\n",
    "\n",
    "print(\"✅ Mise à jour du JSON terminée !\")\n"
   ]
  },
  {
   "cell_type": "code",
   "execution_count": 12,
   "id": "e4606ab5-1885-4de0-966f-b4ea4b65d987",
   "metadata": {
    "tags": []
   },
   "outputs": [
    {
     "name": "stdout",
     "output_type": "stream",
     "text": [
      "\n",
      "📂 Images disponibles :\n",
      "1. %E3%83%90%E3%83%AB%E3%83%BC%E3%83%B3%E3%83%95%E3%82%A1%E3%82%A4%E3%83%88%20%E3%83%AD%E3%82%B4.jpg\n",
      "2. .kkrieger%203.jpg\n",
      "3. 20070701204238.jpg\n",
      "4. 314th%20Fighter%20Squadron%20emblem.jpg\n",
      "5. Ace%20Combat%206%20-%20Ace%20Edge.jpg\n",
      "6. App-augmented-reality-game-gps-163042.jpg\n",
      "7. Armagetron.jpg\n",
      "8. Assassin%27s%20Creed%20II%20by%20Reindertot.jpg\n",
      "9. Atari%20Adventure%20Easter%20Egg%20on%20Atari%20%28Jakks%20Pacific%29%20Port.jpg\n",
      "10. Bubble%20Bobble%20arcade%20machine.jpg\n",
      "11. Cartucho%20de%20Atari%202600%20del%20juego%20Pitfall.jpg\n",
      "12. CBM64CartridgeRadarRatRace.JPG\n",
      "13. Commodore%2064%20at%20Video%20Game%20Museum%20in%20Berlin%20%2845946155851%29.jpg\n",
      "14. Cosplay%20de%20Zidane%20Tribal.jpg\n",
      "15. Cpc464.computer.750pix.jpg\n",
      "16. DARIUS.jpg\n",
      "17. Darksiders%20II%20girls%20at%20E3%202012%20%287166549959%29.jpg\n",
      "18. Daytonausa2.jpg\n",
      "19. Dead%20Island%20at%20the%202011%20New%20York%20Comic%20Con%20%286254213788%29.jpg\n",
      "20. December%201975%20advertisement%20for%20Gun%20Fight%20by%20Midway.jpg\n",
      "21. DemonAttack.jpg\n",
      "22. Deskohran%C3%AD%2008-10-05%20070.jpg\n",
      "23. Digger.JPG\n",
      "24. Doom%20Utilities%20%28Back%20Cover%29.jpg\n",
      "25. Doom%20Utilities%20%28Front%20Cover%29.jpg\n",
      "26. Doom%20Utilities%20%28Inside%20Cover%20Left%20Inlay%29.jpg\n",
      "27. Doom%20Utilities%20%28Media%29.jpg\n",
      "28. Doom%20Utilities%20%28Spine-Sides%20Left%29.jpg\n",
      "29. Doom%20Utilities%20%28Spine-Sides%20Right%29.jpg\n",
      "30. DP%20Paintball%202.0%20menu%20-%20main.jpg\n",
      "31. Duo%20playing%20Wii%20Sports.jpg\n",
      "32. E3%202010%20Homefront%20booth.jpg\n",
      "33. EB%20Games%20Expo%202015%20-%20Super%20Smash%20Bros.%20Nintendo%20Stage.JPG\n",
      "34. Epiphany%20game%20screenshot.jpg\n",
      "35. EVE%20Online%20-%20Caldari%20Freighters.jpg\n",
      "36. EZ2DJ%20Cabinet.jpg\n",
      "37. Festival%20du%20jeu%20video%2020080926%20032.jpg\n",
      "38. Festival%20du%20jeu%20video%2020080926%20044.jpg\n",
      "39. Flight%20of%20the%20Amazon%20Queen.jpg\n",
      "40. Fortnite%20cosplayers%20at%20Gamescom%202017%20%283%29.jpg\n",
      "41. Freddy%20Pharkas%20Frontier%20Pharmacist.jpg\n",
      "42. FreeCol0%205%202%20mapboard.jpg\n",
      "43. Game%26watch-donkey-kong-3.jpg\n",
      "44. Glest.jpg\n",
      "45. Gorf.JPG\n",
      "46. Grand%20Theft%20Auto%2C%20NY%20Chinatown.jpg\n",
      "47. H.R.%20Giger%E2%80%99s%20Xenomorph%20%28Ank%20Kumar%20%29%2004.jpg\n",
      "48. HERO%20Cartridge%20f%C3%BCr%20Atari%202600.jpg\n",
      "49. Igromir%202008%20%283012936938%29.jpg\n",
      "50. Keyboardmania%20Cabinet.jpg\n",
      "51. Killing%20Floor%20Biohazard1.jpg\n",
      "52. Kitty%20Glitter.jpg\n",
      "53. KOF-98%20arcade%20cabinet.jpg\n",
      "54. Mastermind.jpg\n",
      "55. Maze%20war.jpg\n",
      "56. Microsoft%203D%20Movie%20Maker%20640x480.jpg\n",
      "57. Midnight%20Club%2C%20LA%20at%20GamesCom%20-%20Flickr%20-%20Sergey%20Galyonkin.jpg\n",
      "58. Midway%20%28USA%29%20Galaxian%20arcade%20machine.jpg\n",
      "59. Missile%20Command.jpg\n",
      "60. MrDo%21.jpg\n",
      "61. Mus%C3%A9e%20M%C3%A9canique%20017.JPG\n",
      "62. Mus%C3%A9e%20M%C3%A9canique%20029.JPG\n",
      "63. Mus%C3%A9e%20M%C3%A9canique%20185.JPG\n",
      "64. Mus%C3%A9e%20M%C3%A9canique%20188.JPG\n",
      "65. Mus%C3%A9e%20M%C3%A9canique%20204.JPG\n",
      "66. Mus%C3%A9e%20M%C3%A9canique%20205.JPG\n",
      "67. Mus%C3%A9e%20M%C3%A9canique%20218.JPG\n",
      "68. MySims%20at%20EA%27s%20Booth%20%281296581850%29.jpg\n",
      "69. N64%20Clear%20Blue%20with%20Super%20Mario%2064%2020100603.jpg\n",
      "70. Nexuiz%20screenshot%2008.jpg\n",
      "71. Nintendo%2064%20%2826017220053%29.jpg\n",
      "72. Niveau%20de%20Blocks%20That%20Matter.jpg\n",
      "73. On-Line%20Systems%20-%20Time%20Zone.jpg\n",
      "74. On-Line-Systems-00-Mission-Asteroid.jpg\n",
      "75. OOlite%20Mac%20OS%20X%20screenshot.jpg\n",
      "76. OpenArena-Gargoyle.jpg\n",
      "77. P-38%202.jpg\n",
      "78. Painstation.jpg\n",
      "79. ParaParaParadise%202ndMIX.jpg\n",
      "80. Phoenix-1980-italy.jpg\n",
      "81. Playing%20Mario%20Kart.jpg\n",
      "82. Portal%202%20pax%20prime%202010.jpg\n",
      "83. Pump%20it%20up%20cosplay%201.jpg\n",
      "84. QWOP%20screenshot.jpg\n",
      "85. R-Type%20video%20game%20machine.jpg\n",
      "86. Rallycross%20blackwood%20lfs.jpg\n",
      "87. Red%20Orchestra%20Jan31st%20shot1.jpg\n",
      "88. RoboBlitz%20-%20Screenshot%2001.jpg\n",
      "89. Rockstar%20Games%20buses%20at%20E3%202005.jpg\n",
      "90. S.T.A.L.K.E.R.-%20Call%20of%20Pripyat%2C%20DirectX%2011%20screenshot.jpg\n",
      "91. SauerbratenCollage.jpg\n",
      "92. Screenshot%20of%20MegaGlest%20Gameplay.jpg\n",
      "93. Screenshot%20Paradroid%20GNU.JPG\n",
      "94. Screenshot-LBreakout2.jpg\n",
      "95. Second%20Life%2011th%20Birthday%20Live%20Drax%20Files%20Radio%20Hour.jpg\n",
      "96. Sega%20Daytona%20USA%20Arcade.jpg\n",
      "97. Sega%20Hang%20on%20Arcade%20Automat.jpg\n",
      "98. SierraOnLine-Box-ColonelsBequest.jpg\n",
      "99. SierraOnLine-Box-DaggerofAmonRa.jpg\n",
      "100. SierraOnLine-Box-KingsQuest1.jpg\n",
      "101. SierraOnLine-Box-KingsQuest2.jpg\n",
      "102. SierraOnLine-Box-KingsQuest3.jpg\n",
      "103. SierraOnLine-Box-KingsQuest4.jpg\n",
      "104. SierraOnLine-Box-KingsQuest5.jpg\n",
      "105. SierraOnLine-Box-KingsQuest6.jpg\n",
      "106. SierraOnLine-Box-LostSecretoftheRainforest.jpg\n",
      "107. SierraOnLine-Box-QuestforGlory.jpg\n",
      "108. SierraOnLine-Box-RobertaWilliamsCollection.jpg\n",
      "109. Signed%20Pong%20Cabinet.jpg\n",
      "110. Sims%20Stand.jpg\n",
      "111. Space%20Invaders%20-%20Midway%27s.JPG\n",
      "112. Space%20Invaders.JPG\n",
      "113. Spaceharrier.jpg\n",
      "114. Stalker%20Clear%20Sky%20screenshot%20god%20rays%2001.jpg\n",
      "115. Stalkershot%202.jpg\n",
      "116. Starcraft%20Gamescom%202017%20%2836851382835%29.jpg\n",
      "117. Streetfighter%20Console.jpg\n",
      "118. Taito%20Operation%20Thunderbolt.JPG\n",
      "119. Tapper%20arcade%20cabinet%20-%20Bally%20Midway.jpg\n",
      "120. Test%20Drive%20II%20%28Amiga%29.jpg\n",
      "121. Tetris%20DS%20home%20screen.jpg\n",
      "122. The%20Ball%20-%20Screenshot%2002.jpg\n",
      "123. The%20Idolmaster%20Cinderella%20Girls%20stage%20outfits%2C%20C3HK%2020150215a.jpg\n",
      "124. The%20Simpsons%20Arcade%20Game.jpg\n",
      "125. The%20Sims%202%20Pets%20Life%20in%20Leipzig.jpg\n",
      "126. Torcs-20081217104851.jpg\n",
      "127. Tour%20Advisors.jpg\n",
      "128. Trine%20-%20Wizard%20Lift.jpg\n",
      "129. TuxRacerScreenshot.jpg\n",
      "130. TV%20Sports%20-%20Football%20-%201989%20NFL%20Season%20%28Back%20Cover%29.jpg\n",
      "131. UFO%20Alien%20Invasion%200.12%20-%20geoscape.jpg\n",
      "132. UFO%20screenshot%201.jpg\n",
      "133. VectrexRG2010.jpg\n",
      "134. Vglfrogger.jpg\n",
      "135. Video%20games%20Asteroids%20Popeye%20Klax%20Pengo.jpg\n",
      "136. View%20from%20DNF%20line%20%284955869149%29.jpg\n",
      "137. View%20from%20DNF%20line%202%20%284956471292%29.jpg\n",
      "138. Vsdrmario.jpg\n",
      "139. Warsow%20Screenshot%201.0.jpg\n",
      "140. Warzone%202100%20-%20base.jpg\n",
      "141. Whac-A-Mole-Dog.jpg\n",
      "142. Widelands-svn3311.jpg\n",
      "143. Wii%20Play%20Motion%20Logo.jpg\n",
      "144. Wiifit.jpg\n",
      "145. Xblast.jpg\n",
      "146. Xmoto1.jpg\n",
      "147. Yo%20Frankie.jpg\n",
      "148. You%20are%20standing.jpg\n"
     ]
    },
    {
     "name": "stdin",
     "output_type": "stream",
     "text": [
      "\n",
      "Entrez le numéro de l'image à modifier :  37,57,78\n"
     ]
    },
    {
     "name": "stdout",
     "output_type": "stream",
     "text": [
      "❌ Veuillez entrer un nombre.\n"
     ]
    },
    {
     "name": "stdin",
     "output_type": "stream",
     "text": [
      "\n",
      "Entrez le numéro de l'image à modifier :  test\n"
     ]
    },
    {
     "name": "stdout",
     "output_type": "stream",
     "text": [
      "❌ Veuillez entrer un nombre.\n"
     ]
    },
    {
     "name": "stdin",
     "output_type": "stream",
     "text": [
      "\n",
      "Entrez le numéro de l'image à modifier :  45\n",
      "\n",
      "Entrez les tags (séparés par des virgules) :  trse,blue\n"
     ]
    },
    {
     "name": "stdout",
     "output_type": "stream",
     "text": [
      "\n",
      "✅ Tags ajoutés avec succès à Gorf.JPG !\n"
     ]
    }
   ],
   "source": [
    "import os\n",
    "from PIL import Image\n",
    "from PIL.ExifTags import TAGS\n",
    "from PIL import TiffImagePlugin\n",
    "\n",
    "# Définir le dossier contenant les images\n",
    "image_folder = \"images\"  # Modifiez ce chemin selon votre dossier\n",
    "\n",
    "# Vérifier si le dossier existe\n",
    "if not os.path.exists(image_folder):\n",
    "    raise FileNotFoundError(f\"Le dossier '{image_folder}' n'existe pas.\")\n",
    "\n",
    "# Liste des fichiers image JPEG et TIFF dans le dossier\n",
    "image_files = [f for f in os.listdir(image_folder) if f.lower().endswith(('.jpg', '.jpeg', '.tiff'))]\n",
    "\n",
    "if not image_files:\n",
    "    print(\"❌ Aucune image JPEG ou TIFF trouvée dans le dossier.\")\n",
    "    exit()\n",
    "\n",
    "# Afficher la liste des images disponibles\n",
    "print(\"\\n📂 Images disponibles :\")\n",
    "for idx, img in enumerate(image_files, 1):\n",
    "    print(f\"{idx}. {img}\")\n",
    "\n",
    "# Demander à l'utilisateur de choisir une image\n",
    "while True:\n",
    "    try:\n",
    "        choice = int(input(\"\\nEntrez le numéro de l'image à modifier : \")) - 1\n",
    "        if 0 <= choice < len(image_files):\n",
    "            image_name = image_files[choice]\n",
    "            break\n",
    "        else:\n",
    "            print(\"❌ Numéro invalide, essayez encore.\")\n",
    "    except ValueError:\n",
    "        print(\"❌ Veuillez entrer un nombre.\")\n",
    "\n",
    "# Charger l'image sélectionnée\n",
    "image_path = os.path.join(image_folder, image_name)\n",
    "img = Image.open(image_path)\n",
    "\n",
    "# Demander les tags à l'utilisateur\n",
    "tags = input(\"\\nEntrez les tags (séparés par des virgules) : \").strip()\n",
    "if not tags:\n",
    "    print(\"❌ Aucun tag fourni, opération annulée.\")\n",
    "    exit()\n",
    "\n",
    "# Vérifier et récupérer les métadonnées EXIF existantes\n",
    "if \"exif\" in img.info:\n",
    "    exif_dict = img.getexif()\n",
    "else:\n",
    "    exif_dict = TiffImagePlugin.ImageFileDirectory_v2()\n",
    "\n",
    "# Ajouter les tags sous forme de description\n",
    "exif_dict[270] = tags  # 270 = ImageDescription en EXIF\n",
    "\n",
    "# Convertir les EXIF en bytes\n",
    "exif_bytes = exif_dict.tobytes()\n",
    "\n",
    "# Sauvegarde en remplaçant l'image existante\n",
    "img.save(image_path, exif=exif_bytes)\n",
    "print(f\"\\n✅ Tags ajoutés avec succès à {image_name} !\")\n"
   ]
  },
  {
   "cell_type": "code",
   "execution_count": 28,
   "id": "d4f4cfc3-e37c-4433-aed9-9400eb41cff5",
   "metadata": {
    "tags": []
   },
   "outputs": [
    {
     "name": "stdout",
     "output_type": "stream",
     "text": [
      "\n",
      "📂 Images disponibles :\n",
      "1. %E3%83%90%E3%83%AB%E3%83%BC%E3%83%B3%E3%83%95%E3%82%A1%E3%82%A4%E3%83%88%20%E3%83%AD%E3%82%B4.jpg\n",
      "2. .kkrieger%203.jpg\n",
      "3. 20070701204238.jpg\n",
      "4. 314th%20Fighter%20Squadron%20emblem.jpg\n",
      "5. Ace%20Combat%206%20-%20Ace%20Edge.jpg\n",
      "6. App-augmented-reality-game-gps-163042.jpg\n",
      "7. Armagetron.jpg\n",
      "8. Assassin%27s%20Creed%20II%20by%20Reindertot.jpg\n",
      "9. Atari%20Adventure%20Easter%20Egg%20on%20Atari%20%28Jakks%20Pacific%29%20Port.jpg\n",
      "10. Bubble%20Bobble%20arcade%20machine.jpg\n",
      "11. Cartucho%20de%20Atari%202600%20del%20juego%20Pitfall.jpg\n",
      "12. CBM64CartridgeRadarRatRace.JPG\n",
      "13. Commodore%2064%20at%20Video%20Game%20Museum%20in%20Berlin%20%2845946155851%29.jpg\n",
      "14. Cosplay%20de%20Zidane%20Tribal.jpg\n",
      "15. Cpc464.computer.750pix.jpg\n",
      "16. DARIUS.jpg\n",
      "17. Darksiders%20II%20girls%20at%20E3%202012%20%287166549959%29.jpg\n",
      "18. Daytonausa2.jpg\n",
      "19. Dead%20Island%20at%20the%202011%20New%20York%20Comic%20Con%20%286254213788%29.jpg\n",
      "20. December%201975%20advertisement%20for%20Gun%20Fight%20by%20Midway.jpg\n",
      "21. DemonAttack.jpg\n",
      "22. Deskohran%C3%AD%2008-10-05%20070.jpg\n",
      "23. Digger.JPG\n",
      "24. Doom%20Utilities%20%28Back%20Cover%29.jpg\n",
      "25. Doom%20Utilities%20%28Front%20Cover%29.jpg\n",
      "26. Doom%20Utilities%20%28Inside%20Cover%20Left%20Inlay%29.jpg\n",
      "27. Doom%20Utilities%20%28Media%29.jpg\n",
      "28. Doom%20Utilities%20%28Spine-Sides%20Left%29.jpg\n",
      "29. Doom%20Utilities%20%28Spine-Sides%20Right%29.jpg\n",
      "30. DP%20Paintball%202.0%20menu%20-%20main.jpg\n",
      "31. Duo%20playing%20Wii%20Sports.jpg\n",
      "32. E3%202010%20Homefront%20booth.jpg\n",
      "33. EB%20Games%20Expo%202015%20-%20Super%20Smash%20Bros.%20Nintendo%20Stage.JPG\n",
      "34. Epiphany%20game%20screenshot.jpg\n",
      "35. EVE%20Online%20-%20Caldari%20Freighters.jpg\n",
      "36. EZ2DJ%20Cabinet.jpg\n",
      "37. Festival%20du%20jeu%20video%2020080926%20032.jpg\n",
      "38. Festival%20du%20jeu%20video%2020080926%20044.jpg\n",
      "39. Flight%20of%20the%20Amazon%20Queen.jpg\n",
      "40. Fortnite%20cosplayers%20at%20Gamescom%202017%20%283%29.jpg\n",
      "41. Freddy%20Pharkas%20Frontier%20Pharmacist.jpg\n",
      "42. FreeCol0%205%202%20mapboard.jpg\n",
      "43. Game%26watch-donkey-kong-3.jpg\n",
      "44. Glest.jpg\n",
      "45. Gorf.JPG\n",
      "46. Grand%20Theft%20Auto%2C%20NY%20Chinatown.jpg\n",
      "47. H.R.%20Giger%E2%80%99s%20Xenomorph%20%28Ank%20Kumar%20%29%2004.jpg\n",
      "48. HERO%20Cartridge%20f%C3%BCr%20Atari%202600.jpg\n",
      "49. Igromir%202008%20%283012936938%29.jpg\n",
      "50. Keyboardmania%20Cabinet.jpg\n",
      "51. Killing%20Floor%20Biohazard1.jpg\n",
      "52. Kitty%20Glitter.jpg\n",
      "53. KOF-98%20arcade%20cabinet.jpg\n",
      "54. Mastermind.jpg\n",
      "55. Maze%20war.jpg\n",
      "56. Microsoft%203D%20Movie%20Maker%20640x480.jpg\n",
      "57. Midnight%20Club%2C%20LA%20at%20GamesCom%20-%20Flickr%20-%20Sergey%20Galyonkin.jpg\n",
      "58. Midway%20%28USA%29%20Galaxian%20arcade%20machine.jpg\n",
      "59. Missile%20Command.jpg\n",
      "60. MrDo%21.jpg\n",
      "61. Mus%C3%A9e%20M%C3%A9canique%20017.JPG\n",
      "62. Mus%C3%A9e%20M%C3%A9canique%20029.JPG\n",
      "63. Mus%C3%A9e%20M%C3%A9canique%20185.JPG\n",
      "64. Mus%C3%A9e%20M%C3%A9canique%20188.JPG\n",
      "65. Mus%C3%A9e%20M%C3%A9canique%20204.JPG\n",
      "66. Mus%C3%A9e%20M%C3%A9canique%20205.JPG\n",
      "67. Mus%C3%A9e%20M%C3%A9canique%20218.JPG\n",
      "68. MySims%20at%20EA%27s%20Booth%20%281296581850%29.jpg\n",
      "69. N64%20Clear%20Blue%20with%20Super%20Mario%2064%2020100603.jpg\n",
      "70. Nexuiz%20screenshot%2008.jpg\n",
      "71. Nintendo%2064%20%2826017220053%29.jpg\n",
      "72. Niveau%20de%20Blocks%20That%20Matter.jpg\n",
      "73. On-Line%20Systems%20-%20Time%20Zone.jpg\n",
      "74. On-Line-Systems-00-Mission-Asteroid.jpg\n",
      "75. OOlite%20Mac%20OS%20X%20screenshot.jpg\n",
      "76. OpenArena-Gargoyle.jpg\n",
      "77. P-38%202.jpg\n",
      "78. Painstation.jpg\n",
      "79. ParaParaParadise%202ndMIX.jpg\n",
      "80. Phoenix-1980-italy.jpg\n",
      "81. Playing%20Mario%20Kart.jpg\n",
      "82. Portal%202%20pax%20prime%202010.jpg\n",
      "83. Pump%20it%20up%20cosplay%201.jpg\n",
      "84. QWOP%20screenshot.jpg\n",
      "85. R-Type%20video%20game%20machine.jpg\n",
      "86. Rallycross%20blackwood%20lfs.jpg\n",
      "87. Red%20Orchestra%20Jan31st%20shot1.jpg\n",
      "88. RoboBlitz%20-%20Screenshot%2001.jpg\n",
      "89. Rockstar%20Games%20buses%20at%20E3%202005.jpg\n",
      "90. S.T.A.L.K.E.R.-%20Call%20of%20Pripyat%2C%20DirectX%2011%20screenshot.jpg\n",
      "91. SauerbratenCollage.jpg\n",
      "92. Screenshot%20of%20MegaGlest%20Gameplay.jpg\n",
      "93. Screenshot%20Paradroid%20GNU.JPG\n",
      "94. Screenshot-LBreakout2.jpg\n",
      "95. Second%20Life%2011th%20Birthday%20Live%20Drax%20Files%20Radio%20Hour.jpg\n",
      "96. Sega%20Daytona%20USA%20Arcade.jpg\n",
      "97. Sega%20Hang%20on%20Arcade%20Automat.jpg\n",
      "98. SierraOnLine-Box-ColonelsBequest.jpg\n",
      "99. SierraOnLine-Box-DaggerofAmonRa.jpg\n",
      "100. SierraOnLine-Box-KingsQuest1.jpg\n",
      "101. SierraOnLine-Box-KingsQuest2.jpg\n",
      "102. SierraOnLine-Box-KingsQuest3.jpg\n",
      "103. SierraOnLine-Box-KingsQuest4.jpg\n",
      "104. SierraOnLine-Box-KingsQuest5.jpg\n",
      "105. SierraOnLine-Box-KingsQuest6.jpg\n",
      "106. SierraOnLine-Box-LostSecretoftheRainforest.jpg\n",
      "107. SierraOnLine-Box-QuestforGlory.jpg\n",
      "108. SierraOnLine-Box-RobertaWilliamsCollection.jpg\n",
      "109. Signed%20Pong%20Cabinet.jpg\n",
      "110. Sims%20Stand.jpg\n",
      "111. Space%20Invaders%20-%20Midway%27s.JPG\n",
      "112. Space%20Invaders.JPG\n",
      "113. Spaceharrier.jpg\n",
      "114. Stalker%20Clear%20Sky%20screenshot%20god%20rays%2001.jpg\n",
      "115. Stalkershot%202.jpg\n",
      "116. Starcraft%20Gamescom%202017%20%2836851382835%29.jpg\n",
      "117. Streetfighter%20Console.jpg\n",
      "118. Taito%20Operation%20Thunderbolt.JPG\n",
      "119. Tapper%20arcade%20cabinet%20-%20Bally%20Midway.jpg\n",
      "120. Test%20Drive%20II%20%28Amiga%29.jpg\n",
      "121. Tetris%20DS%20home%20screen.jpg\n",
      "122. The%20Ball%20-%20Screenshot%2002.jpg\n",
      "123. The%20Idolmaster%20Cinderella%20Girls%20stage%20outfits%2C%20C3HK%2020150215a.jpg\n",
      "124. The%20Simpsons%20Arcade%20Game.jpg\n",
      "125. The%20Sims%202%20Pets%20Life%20in%20Leipzig.jpg\n",
      "126. Torcs-20081217104851.jpg\n",
      "127. Tour%20Advisors.jpg\n",
      "128. Trine%20-%20Wizard%20Lift.jpg\n",
      "129. TuxRacerScreenshot.jpg\n",
      "130. TV%20Sports%20-%20Football%20-%201989%20NFL%20Season%20%28Back%20Cover%29.jpg\n",
      "131. UFO%20Alien%20Invasion%200.12%20-%20geoscape.jpg\n",
      "132. UFO%20screenshot%201.jpg\n",
      "133. VectrexRG2010.jpg\n",
      "134. Vglfrogger.jpg\n",
      "135. Video%20games%20Asteroids%20Popeye%20Klax%20Pengo.jpg\n",
      "136. View%20from%20DNF%20line%20%284955869149%29.jpg\n",
      "137. View%20from%20DNF%20line%202%20%284956471292%29.jpg\n",
      "138. Vsdrmario.jpg\n",
      "139. Warsow%20Screenshot%201.0.jpg\n",
      "140. Warzone%202100%20-%20base.jpg\n",
      "141. Whac-A-Mole-Dog.jpg\n",
      "142. Widelands-svn3311.jpg\n",
      "143. Wii%20Play%20Motion%20Logo.jpg\n",
      "144. Wiifit.jpg\n",
      "145. Xblast.jpg\n",
      "146. Xmoto1.jpg\n",
      "147. Yo%20Frankie.jpg\n",
      "148. You%20are%20standing.jpg\n"
     ]
    },
    {
     "data": {
      "text/html": [
       "<div>\n",
       "<style scoped>\n",
       "    .dataframe tbody tr th:only-of-type {\n",
       "        vertical-align: middle;\n",
       "    }\n",
       "\n",
       "    .dataframe tbody tr th {\n",
       "        vertical-align: top;\n",
       "    }\n",
       "\n",
       "    .dataframe thead th {\n",
       "        text-align: right;\n",
       "    }\n",
       "</style>\n",
       "<table border=\"1\" class=\"dataframe\">\n",
       "  <thead>\n",
       "    <tr style=\"text-align: right;\">\n",
       "      <th></th>\n",
       "      <th>Nom du fichier</th>\n",
       "      <th>Tags</th>\n",
       "    </tr>\n",
       "  </thead>\n",
       "  <tbody>\n",
       "    <tr>\n",
       "      <th>0</th>\n",
       "      <td>%E3%83%90%E3%83%AB%E3%83%BC%E3%83%B3%E3%83%95%...</td>\n",
       "      <td></td>\n",
       "    </tr>\n",
       "    <tr>\n",
       "      <th>1</th>\n",
       "      <td>.kkrieger%203.jpg</td>\n",
       "      <td></td>\n",
       "    </tr>\n",
       "    <tr>\n",
       "      <th>2</th>\n",
       "      <td>20070701204238.jpg</td>\n",
       "      <td></td>\n",
       "    </tr>\n",
       "    <tr>\n",
       "      <th>3</th>\n",
       "      <td>314th%20Fighter%20Squadron%20emblem.jpg</td>\n",
       "      <td></td>\n",
       "    </tr>\n",
       "    <tr>\n",
       "      <th>4</th>\n",
       "      <td>Ace%20Combat%206%20-%20Ace%20Edge.jpg</td>\n",
       "      <td></td>\n",
       "    </tr>\n",
       "    <tr>\n",
       "      <th>...</th>\n",
       "      <td>...</td>\n",
       "      <td>...</td>\n",
       "    </tr>\n",
       "    <tr>\n",
       "      <th>143</th>\n",
       "      <td>Wiifit.jpg</td>\n",
       "      <td></td>\n",
       "    </tr>\n",
       "    <tr>\n",
       "      <th>144</th>\n",
       "      <td>Xblast.jpg</td>\n",
       "      <td></td>\n",
       "    </tr>\n",
       "    <tr>\n",
       "      <th>145</th>\n",
       "      <td>Xmoto1.jpg</td>\n",
       "      <td></td>\n",
       "    </tr>\n",
       "    <tr>\n",
       "      <th>146</th>\n",
       "      <td>Yo%20Frankie.jpg</td>\n",
       "      <td></td>\n",
       "    </tr>\n",
       "    <tr>\n",
       "      <th>147</th>\n",
       "      <td>You%20are%20standing.jpg</td>\n",
       "      <td></td>\n",
       "    </tr>\n",
       "  </tbody>\n",
       "</table>\n",
       "<p>148 rows × 2 columns</p>\n",
       "</div>"
      ],
      "text/plain": [
       "                                        Nom du fichier Tags\n",
       "0    %E3%83%90%E3%83%AB%E3%83%BC%E3%83%B3%E3%83%95%...     \n",
       "1                                    .kkrieger%203.jpg     \n",
       "2                                   20070701204238.jpg     \n",
       "3              314th%20Fighter%20Squadron%20emblem.jpg     \n",
       "4                Ace%20Combat%206%20-%20Ace%20Edge.jpg     \n",
       "..                                                 ...  ...\n",
       "143                                         Wiifit.jpg     \n",
       "144                                         Xblast.jpg     \n",
       "145                                         Xmoto1.jpg     \n",
       "146                                   Yo%20Frankie.jpg     \n",
       "147                           You%20are%20standing.jpg     \n",
       "\n",
       "[148 rows x 2 columns]"
      ]
     },
     "execution_count": 28,
     "metadata": {},
     "output_type": "execute_result"
    }
   ],
   "source": [
    "import os\n",
    "import pandas as pd\n",
    "from PIL import Image\n",
    "from PIL.ExifTags import TAGS\n",
    "\n",
    "\n",
    "image_folder = \"images\"  # Modifiez ce chemin selon votre dossier\n",
    "\n",
    "# Vérifier si le dossier existe\n",
    "if not os.path.exists(image_folder):\n",
    "    raise FileNotFoundError(f\"Le dossier '{image_folder}' n'existe pas.\")\n",
    "\n",
    "# Liste des fichiers image JPEG et TIFF dans le dossier\n",
    "image_files = [f for f in os.listdir(image_folder) if f.lower().endswith(('.jpg', '.jpeg', '.tiff'))]\n",
    "\n",
    "# Afficher la liste des images disponibles\n",
    "print(\"\\n📂 Images disponibles :\")\n",
    "for idx, img in enumerate(image_files, 1):\n",
    "    print(f\"{idx}. {img}\")\n",
    "    \n",
    "# Liste pour stocker les données\n",
    "data = []\n",
    "\n",
    "# Extraction des tags de chaque image\n",
    "for image_file in image_files:\n",
    "    image_path = os.path.join(image_folder, image_file)\n",
    "    try:\n",
    "        img = Image.open(image_path)\n",
    "        \n",
    "        # Vérifier si l'image contient des métadonnées EXIF\n",
    "        exif_data = img.getexif()\n",
    "        image_tags = \"\"\n",
    "\n",
    "        if exif_data:\n",
    "            image_tags = exif_data.get(270, \"\")  # 270 = ImageDescription (où les tags sont stockés)\n",
    "\n",
    "        # Ajouter les données à la liste\n",
    "        data.append({\"Nom du fichier\": image_file, \"Tags\": image_tags})\n",
    "\n",
    "    except Exception as e:\n",
    "        print(f\"❌ Erreur lors du traitement de {image_file}: {e}\")\n",
    "\n",
    "# Création du DataFrame\n",
    "df_tags = pd.DataFrame(data)\n",
    "\n",
    "# Affichage du DataFrame\n",
    "df_tags\n"
   ]
  },
  {
   "cell_type": "code",
   "execution_count": 29,
   "id": "a57cb187-4064-4f9d-a5ab-ca52dd24bc42",
   "metadata": {},
   "outputs": [
    {
     "name": "stdout",
     "output_type": "stream",
     "text": [
      "\n",
      "📂 Images disponibles :\n",
      "1. %E3%83%90%E3%83%AB%E3%83%BC%E3%83%B3%E3%83%95%E3%82%A1%E3%82%A4%E3%83%88%20%E3%83%AD%E3%82%B4.jpg\n",
      "2. .kkrieger%203.jpg\n",
      "3. 20070701204238.jpg\n",
      "4. 314th%20Fighter%20Squadron%20emblem.jpg\n",
      "5. Ace%20Combat%206%20-%20Ace%20Edge.jpg\n",
      "6. App-augmented-reality-game-gps-163042.jpg\n",
      "7. Armagetron.jpg\n",
      "8. Assassin%27s%20Creed%20II%20by%20Reindertot.jpg\n",
      "9. Atari%20Adventure%20Easter%20Egg%20on%20Atari%20%28Jakks%20Pacific%29%20Port.jpg\n",
      "10. Bubble%20Bobble%20arcade%20machine.jpg\n",
      "11. Cartucho%20de%20Atari%202600%20del%20juego%20Pitfall.jpg\n",
      "12. CBM64CartridgeRadarRatRace.JPG\n",
      "13. Commodore%2064%20at%20Video%20Game%20Museum%20in%20Berlin%20%2845946155851%29.jpg\n",
      "14. Cosplay%20de%20Zidane%20Tribal.jpg\n",
      "15. Cpc464.computer.750pix.jpg\n",
      "16. DARIUS.jpg\n",
      "17. Darksiders%20II%20girls%20at%20E3%202012%20%287166549959%29.jpg\n",
      "18. Daytonausa2.jpg\n",
      "19. Dead%20Island%20at%20the%202011%20New%20York%20Comic%20Con%20%286254213788%29.jpg\n",
      "20. December%201975%20advertisement%20for%20Gun%20Fight%20by%20Midway.jpg\n",
      "21. DemonAttack.jpg\n",
      "22. Deskohran%C3%AD%2008-10-05%20070.jpg\n",
      "23. Digger.JPG\n",
      "24. Doom%20Utilities%20%28Back%20Cover%29.jpg\n",
      "25. Doom%20Utilities%20%28Front%20Cover%29.jpg\n",
      "26. Doom%20Utilities%20%28Inside%20Cover%20Left%20Inlay%29.jpg\n",
      "27. Doom%20Utilities%20%28Media%29.jpg\n",
      "28. Doom%20Utilities%20%28Spine-Sides%20Left%29.jpg\n",
      "29. Doom%20Utilities%20%28Spine-Sides%20Right%29.jpg\n",
      "30. DP%20Paintball%202.0%20menu%20-%20main.jpg\n",
      "31. Duo%20playing%20Wii%20Sports.jpg\n",
      "32. E3%202010%20Homefront%20booth.jpg\n",
      "33. EB%20Games%20Expo%202015%20-%20Super%20Smash%20Bros.%20Nintendo%20Stage.JPG\n",
      "34. Epiphany%20game%20screenshot.jpg\n",
      "35. EVE%20Online%20-%20Caldari%20Freighters.jpg\n",
      "36. EZ2DJ%20Cabinet.jpg\n",
      "37. Festival%20du%20jeu%20video%2020080926%20032.jpg\n",
      "38. Festival%20du%20jeu%20video%2020080926%20044.jpg\n",
      "39. Flight%20of%20the%20Amazon%20Queen.jpg\n",
      "40. Fortnite%20cosplayers%20at%20Gamescom%202017%20%283%29.jpg\n",
      "41. Freddy%20Pharkas%20Frontier%20Pharmacist.jpg\n",
      "42. FreeCol0%205%202%20mapboard.jpg\n",
      "43. Game%26watch-donkey-kong-3.jpg\n",
      "44. Glest.jpg\n",
      "45. Gorf.JPG\n",
      "46. Grand%20Theft%20Auto%2C%20NY%20Chinatown.jpg\n",
      "47. H.R.%20Giger%E2%80%99s%20Xenomorph%20%28Ank%20Kumar%20%29%2004.jpg\n",
      "48. HERO%20Cartridge%20f%C3%BCr%20Atari%202600.jpg\n",
      "49. Igromir%202008%20%283012936938%29.jpg\n",
      "50. Keyboardmania%20Cabinet.jpg\n",
      "51. Killing%20Floor%20Biohazard1.jpg\n",
      "52. Kitty%20Glitter.jpg\n",
      "53. KOF-98%20arcade%20cabinet.jpg\n",
      "54. Mastermind.jpg\n",
      "55. Maze%20war.jpg\n",
      "56. Microsoft%203D%20Movie%20Maker%20640x480.jpg\n",
      "57. Midnight%20Club%2C%20LA%20at%20GamesCom%20-%20Flickr%20-%20Sergey%20Galyonkin.jpg\n",
      "58. Midway%20%28USA%29%20Galaxian%20arcade%20machine.jpg\n",
      "59. Missile%20Command.jpg\n",
      "60. MrDo%21.jpg\n",
      "61. Mus%C3%A9e%20M%C3%A9canique%20017.JPG\n",
      "62. Mus%C3%A9e%20M%C3%A9canique%20029.JPG\n",
      "63. Mus%C3%A9e%20M%C3%A9canique%20185.JPG\n",
      "64. Mus%C3%A9e%20M%C3%A9canique%20188.JPG\n",
      "65. Mus%C3%A9e%20M%C3%A9canique%20204.JPG\n",
      "66. Mus%C3%A9e%20M%C3%A9canique%20205.JPG\n",
      "67. Mus%C3%A9e%20M%C3%A9canique%20218.JPG\n",
      "68. MySims%20at%20EA%27s%20Booth%20%281296581850%29.jpg\n",
      "69. N64%20Clear%20Blue%20with%20Super%20Mario%2064%2020100603.jpg\n",
      "70. Nexuiz%20screenshot%2008.jpg\n",
      "71. Nintendo%2064%20%2826017220053%29.jpg\n",
      "72. Niveau%20de%20Blocks%20That%20Matter.jpg\n",
      "73. On-Line%20Systems%20-%20Time%20Zone.jpg\n",
      "74. On-Line-Systems-00-Mission-Asteroid.jpg\n",
      "75. OOlite%20Mac%20OS%20X%20screenshot.jpg\n",
      "76. OpenArena-Gargoyle.jpg\n",
      "77. P-38%202.jpg\n",
      "78. Painstation.jpg\n",
      "79. ParaParaParadise%202ndMIX.jpg\n",
      "80. Phoenix-1980-italy.jpg\n",
      "81. Playing%20Mario%20Kart.jpg\n",
      "82. Portal%202%20pax%20prime%202010.jpg\n",
      "83. Pump%20it%20up%20cosplay%201.jpg\n",
      "84. QWOP%20screenshot.jpg\n",
      "85. R-Type%20video%20game%20machine.jpg\n",
      "86. Rallycross%20blackwood%20lfs.jpg\n",
      "87. Red%20Orchestra%20Jan31st%20shot1.jpg\n",
      "88. RoboBlitz%20-%20Screenshot%2001.jpg\n",
      "89. Rockstar%20Games%20buses%20at%20E3%202005.jpg\n",
      "90. S.T.A.L.K.E.R.-%20Call%20of%20Pripyat%2C%20DirectX%2011%20screenshot.jpg\n",
      "91. SauerbratenCollage.jpg\n",
      "92. Screenshot%20of%20MegaGlest%20Gameplay.jpg\n",
      "93. Screenshot%20Paradroid%20GNU.JPG\n",
      "94. Screenshot-LBreakout2.jpg\n",
      "95. Second%20Life%2011th%20Birthday%20Live%20Drax%20Files%20Radio%20Hour.jpg\n",
      "96. Sega%20Daytona%20USA%20Arcade.jpg\n",
      "97. Sega%20Hang%20on%20Arcade%20Automat.jpg\n",
      "98. SierraOnLine-Box-ColonelsBequest.jpg\n",
      "99. SierraOnLine-Box-DaggerofAmonRa.jpg\n",
      "100. SierraOnLine-Box-KingsQuest1.jpg\n",
      "101. SierraOnLine-Box-KingsQuest2.jpg\n",
      "102. SierraOnLine-Box-KingsQuest3.jpg\n",
      "103. SierraOnLine-Box-KingsQuest4.jpg\n",
      "104. SierraOnLine-Box-KingsQuest5.jpg\n",
      "105. SierraOnLine-Box-KingsQuest6.jpg\n",
      "106. SierraOnLine-Box-LostSecretoftheRainforest.jpg\n",
      "107. SierraOnLine-Box-QuestforGlory.jpg\n",
      "108. SierraOnLine-Box-RobertaWilliamsCollection.jpg\n",
      "109. Signed%20Pong%20Cabinet.jpg\n",
      "110. Sims%20Stand.jpg\n",
      "111. Space%20Invaders%20-%20Midway%27s.JPG\n",
      "112. Space%20Invaders.JPG\n",
      "113. Spaceharrier.jpg\n",
      "114. Stalker%20Clear%20Sky%20screenshot%20god%20rays%2001.jpg\n",
      "115. Stalkershot%202.jpg\n",
      "116. Starcraft%20Gamescom%202017%20%2836851382835%29.jpg\n",
      "117. Streetfighter%20Console.jpg\n",
      "118. Taito%20Operation%20Thunderbolt.JPG\n",
      "119. Tapper%20arcade%20cabinet%20-%20Bally%20Midway.jpg\n",
      "120. Test%20Drive%20II%20%28Amiga%29.jpg\n",
      "121. Tetris%20DS%20home%20screen.jpg\n",
      "122. The%20Ball%20-%20Screenshot%2002.jpg\n",
      "123. The%20Idolmaster%20Cinderella%20Girls%20stage%20outfits%2C%20C3HK%2020150215a.jpg\n",
      "124. The%20Simpsons%20Arcade%20Game.jpg\n",
      "125. The%20Sims%202%20Pets%20Life%20in%20Leipzig.jpg\n",
      "126. Torcs-20081217104851.jpg\n",
      "127. Tour%20Advisors.jpg\n",
      "128. Trine%20-%20Wizard%20Lift.jpg\n",
      "129. TuxRacerScreenshot.jpg\n",
      "130. TV%20Sports%20-%20Football%20-%201989%20NFL%20Season%20%28Back%20Cover%29.jpg\n",
      "131. UFO%20Alien%20Invasion%200.12%20-%20geoscape.jpg\n",
      "132. UFO%20screenshot%201.jpg\n",
      "133. VectrexRG2010.jpg\n",
      "134. Vglfrogger.jpg\n",
      "135. Video%20games%20Asteroids%20Popeye%20Klax%20Pengo.jpg\n",
      "136. View%20from%20DNF%20line%20%284955869149%29.jpg\n",
      "137. View%20from%20DNF%20line%202%20%284956471292%29.jpg\n",
      "138. Vsdrmario.jpg\n",
      "139. Warsow%20Screenshot%201.0.jpg\n",
      "140. Warzone%202100%20-%20base.jpg\n",
      "141. Whac-A-Mole-Dog.jpg\n",
      "142. Widelands-svn3311.jpg\n",
      "143. Wii%20Play%20Motion%20Logo.jpg\n",
      "144. Wiifit.jpg\n",
      "145. Xblast.jpg\n",
      "146. Xmoto1.jpg\n",
      "147. Yo%20Frankie.jpg\n",
      "148. You%20are%20standing.jpg\n"
     ]
    },
    {
     "name": "stdin",
     "output_type": "stream",
     "text": [
      "\n",
      "Entrez les numéros des images à analyser (séparés par des virgules) :  76,45,74,25,41\n",
      "Entrez les tags pour 'OpenArena-Gargoyle.jpg' (séparés par des virgules) :  test\n",
      "Entrez les tags pour 'Gorf.JPG' (séparés par des virgules) :  try,test\n",
      "Entrez les tags pour 'On-Line-Systems-00-Mission-Asteroid.jpg' (séparés par des virgules) :  try\n",
      "Entrez les tags pour 'Doom%20Utilities%20%28Front%20Cover%29.jpg' (séparés par des virgules) :  non\n",
      "Entrez les tags pour 'Freddy%20Pharkas%20Frontier%20Pharmacist.jpg' (séparés par des virgules) :  non\n"
     ]
    },
    {
     "name": "stdout",
     "output_type": "stream",
     "text": [
      "\n",
      "✅ Images sélectionnées avec tags enregistrés !\n"
     ]
    }
   ],
   "source": [
    "import os\n",
    "from PIL import Image\n",
    "from PIL.ExifTags import TAGS\n",
    "import random\n",
    "\n",
    "# Définir le dossier des images\n",
    "image_folder = \"images\"\n",
    "\n",
    "# Vérifier l'existence du dossier\n",
    "if not os.path.exists(image_folder):\n",
    "    raise FileNotFoundError(f\"Le dossier '{image_folder}' n'existe pas.\")\n",
    "\n",
    "# Liste des fichiers image\n",
    "image_files = [f for f in os.listdir(image_folder) if f.lower().endswith(('.jpg', '.jpeg', '.tiff', '.png'))]\n",
    "\n",
    "if not image_files:\n",
    "    print(\"❌ Aucune image trouvée.\")\n",
    "    exit()\n",
    "\n",
    "# Afficher la liste des images\n",
    "print(\"\\n📂 Images disponibles :\")\n",
    "for idx, img in enumerate(image_files, 1):\n",
    "    print(f\"{idx}. {img}\")\n",
    "\n",
    "# Sélection d'images par l'utilisateur\n",
    "selected_images = []\n",
    "while True:\n",
    "    try:\n",
    "        choices = input(\"\\nEntrez les numéros des images à analyser (séparés par des virgules) : \")\n",
    "        selected_images = [image_files[int(i)-1] for i in choices.split(\",\")]\n",
    "        break\n",
    "    except (ValueError, IndexError):\n",
    "        print(\"❌ Sélection invalide. Réessayez.\")\n",
    "\n",
    "# Demander les tags pour chaque image sélectionnée\n",
    "image_data = {}\n",
    "for img_name in selected_images:\n",
    "    tags = input(f\"Entrez les tags pour '{img_name}' (séparés par des virgules) : \").strip().split(\",\")\n",
    "    image_data[img_name] = {\"tags\": [tag.strip() for tag in tags]}\n",
    "\n",
    "print(\"\\n✅ Images sélectionnées avec tags enregistrés !\")\n"
   ]
  },
  {
   "cell_type": "code",
   "execution_count": 30,
   "id": "22970c92-ab49-41c1-b6f3-b47434ffe90a",
   "metadata": {
    "tags": []
   },
   "outputs": [
    {
     "name": "stdout",
     "output_type": "stream",
     "text": [
      "\n",
      "✅ Caractéristiques des images analysées !\n"
     ]
    },
    {
     "data": {
      "text/html": [
       "<div>\n",
       "<style scoped>\n",
       "    .dataframe tbody tr th:only-of-type {\n",
       "        vertical-align: middle;\n",
       "    }\n",
       "\n",
       "    .dataframe tbody tr th {\n",
       "        vertical-align: top;\n",
       "    }\n",
       "\n",
       "    .dataframe thead th {\n",
       "        text-align: right;\n",
       "    }\n",
       "</style>\n",
       "<table border=\"1\" class=\"dataframe\">\n",
       "  <thead>\n",
       "    <tr style=\"text-align: right;\">\n",
       "      <th></th>\n",
       "      <th>OpenArena-Gargoyle.jpg</th>\n",
       "      <th>Gorf.JPG</th>\n",
       "      <th>On-Line-Systems-00-Mission-Asteroid.jpg</th>\n",
       "      <th>Doom%20Utilities%20%28Front%20Cover%29.jpg</th>\n",
       "      <th>Freddy%20Pharkas%20Frontier%20Pharmacist.jpg</th>\n",
       "    </tr>\n",
       "  </thead>\n",
       "  <tbody>\n",
       "    <tr>\n",
       "      <th>tags</th>\n",
       "      <td>[test]</td>\n",
       "      <td>[try, test]</td>\n",
       "      <td>[try]</td>\n",
       "      <td>[non]</td>\n",
       "      <td>[non]</td>\n",
       "    </tr>\n",
       "    <tr>\n",
       "      <th>size</th>\n",
       "      <td>1280x1024</td>\n",
       "      <td>600x725</td>\n",
       "      <td>1829x2400</td>\n",
       "      <td>815x800</td>\n",
       "      <td>2896x3588</td>\n",
       "    </tr>\n",
       "    <tr>\n",
       "      <th>orientation</th>\n",
       "      <td>Paysage</td>\n",
       "      <td>Portrait</td>\n",
       "      <td>Portrait</td>\n",
       "      <td>Paysage</td>\n",
       "      <td>Portrait</td>\n",
       "    </tr>\n",
       "    <tr>\n",
       "      <th>dominant_color</th>\n",
       "      <td>[53, 21, 6]</td>\n",
       "      <td>[87, 85, 67]</td>\n",
       "      <td>[41, 36, 35]</td>\n",
       "      <td>[125, 69, 102]</td>\n",
       "      <td>[111, 78, 68]</td>\n",
       "    </tr>\n",
       "  </tbody>\n",
       "</table>\n",
       "</div>"
      ],
      "text/plain": [
       "               OpenArena-Gargoyle.jpg      Gorf.JPG  \\\n",
       "tags                           [test]   [try, test]   \n",
       "size                        1280x1024       600x725   \n",
       "orientation                   Paysage      Portrait   \n",
       "dominant_color            [53, 21, 6]  [87, 85, 67]   \n",
       "\n",
       "               On-Line-Systems-00-Mission-Asteroid.jpg  \\\n",
       "tags                                             [try]   \n",
       "size                                         1829x2400   \n",
       "orientation                                   Portrait   \n",
       "dominant_color                            [41, 36, 35]   \n",
       "\n",
       "               Doom%20Utilities%20%28Front%20Cover%29.jpg  \\\n",
       "tags                                                [non]   \n",
       "size                                              815x800   \n",
       "orientation                                       Paysage   \n",
       "dominant_color                             [125, 69, 102]   \n",
       "\n",
       "               Freddy%20Pharkas%20Frontier%20Pharmacist.jpg  \n",
       "tags                                                  [non]  \n",
       "size                                              2896x3588  \n",
       "orientation                                        Portrait  \n",
       "dominant_color                                [111, 78, 68]  "
      ]
     },
     "execution_count": 30,
     "metadata": {},
     "output_type": "execute_result"
    }
   ],
   "source": [
    "import numpy as np\n",
    "import cv2\n",
    "from sklearn.cluster import KMeans\n",
    "\n",
    "def get_image_features(image_folder, image_data):\n",
    "    for img_name in image_data.keys():\n",
    "        image_path = os.path.join(image_folder, img_name)\n",
    "        img = Image.open(image_path)\n",
    "        \n",
    "        # 📏 Taille et orientation\n",
    "        width, height = img.size\n",
    "        image_data[img_name][\"size\"] = f\"{width}x{height}\"\n",
    "        image_data[img_name][\"orientation\"] = \"Portrait\" if height > width else \"Paysage\"\n",
    "\n",
    "        # 🎨 Extraction de la couleur dominante\n",
    "        img_cv = cv2.imread(image_path)\n",
    "        img_cv = cv2.cvtColor(img_cv, cv2.COLOR_BGR2RGB)\n",
    "        img_cv = img_cv.reshape((-1, 3))  # Conversion en liste de pixels\n",
    "\n",
    "        kmeans = KMeans(n_clusters=1, n_init=10)\n",
    "        kmeans.fit(img_cv)\n",
    "        dominant_color = kmeans.cluster_centers_[0].astype(int).tolist()\n",
    "\n",
    "        image_data[img_name][\"dominant_color\"] = dominant_color\n",
    "\n",
    "    return image_data\n",
    "\n",
    "# Extraction des caractéristiques des images\n",
    "image_data = get_image_features(image_folder, image_data)\n",
    "print(\"\\n✅ Caractéristiques des images analysées !\")\n",
    "image_dataframe = pd.DataFrame(image_data)\n",
    "image_dataframe\n",
    "\n"
   ]
  },
  {
   "cell_type": "code",
   "execution_count": 36,
   "id": "290ab2fc-2301-469b-a852-b58a95b001a5",
   "metadata": {
    "tags": []
   },
   "outputs": [
    {
     "name": "stdout",
     "output_type": "stream",
     "text": [
      "\n",
      "✅ Utilisateurs générés avec leurs préférences !\n"
     ]
    },
    {
     "data": {
      "text/html": [
       "<div>\n",
       "<style scoped>\n",
       "    .dataframe tbody tr th:only-of-type {\n",
       "        vertical-align: middle;\n",
       "    }\n",
       "\n",
       "    .dataframe tbody tr th {\n",
       "        vertical-align: top;\n",
       "    }\n",
       "\n",
       "    .dataframe thead th {\n",
       "        text-align: right;\n",
       "    }\n",
       "</style>\n",
       "<table border=\"1\" class=\"dataframe\">\n",
       "  <thead>\n",
       "    <tr style=\"text-align: right;\">\n",
       "      <th></th>\n",
       "      <th>User_1</th>\n",
       "      <th>User_2</th>\n",
       "      <th>User_3</th>\n",
       "    </tr>\n",
       "  </thead>\n",
       "  <tbody>\n",
       "    <tr>\n",
       "      <th>preferred_images</th>\n",
       "      <td>[Doom%20Utilities%20%28Front%20Cover%29.jpg, G...</td>\n",
       "      <td>[Freddy%20Pharkas%20Frontier%20Pharmacist.jpg,...</td>\n",
       "      <td>[On-Line-Systems-00-Mission-Asteroid.jpg, Doom...</td>\n",
       "    </tr>\n",
       "    <tr>\n",
       "      <th>preferred_colors</th>\n",
       "      <td>[[125, 69, 102], [87, 85, 67], [111, 78, 68]]</td>\n",
       "      <td>[[111, 78, 68], [87, 85, 67], [125, 69, 102]]</td>\n",
       "      <td>[[41, 36, 35], [125, 69, 102], [87, 85, 67]]</td>\n",
       "    </tr>\n",
       "    <tr>\n",
       "      <th>preferred_orientation</th>\n",
       "      <td>[Paysage, Portrait, Portrait]</td>\n",
       "      <td>[Portrait, Portrait, Paysage]</td>\n",
       "      <td>[Portrait, Paysage, Portrait]</td>\n",
       "    </tr>\n",
       "    <tr>\n",
       "      <th>preferred_tags</th>\n",
       "      <td>[non, try, test, non]</td>\n",
       "      <td>[non, try, test, non]</td>\n",
       "      <td>[try, non, try, test]</td>\n",
       "    </tr>\n",
       "  </tbody>\n",
       "</table>\n",
       "</div>"
      ],
      "text/plain": [
       "                                                                  User_1  \\\n",
       "preferred_images       [Doom%20Utilities%20%28Front%20Cover%29.jpg, G...   \n",
       "preferred_colors           [[125, 69, 102], [87, 85, 67], [111, 78, 68]]   \n",
       "preferred_orientation                      [Paysage, Portrait, Portrait]   \n",
       "preferred_tags                                     [non, try, test, non]   \n",
       "\n",
       "                                                                  User_2  \\\n",
       "preferred_images       [Freddy%20Pharkas%20Frontier%20Pharmacist.jpg,...   \n",
       "preferred_colors           [[111, 78, 68], [87, 85, 67], [125, 69, 102]]   \n",
       "preferred_orientation                      [Portrait, Portrait, Paysage]   \n",
       "preferred_tags                                     [non, try, test, non]   \n",
       "\n",
       "                                                                  User_3  \n",
       "preferred_images       [On-Line-Systems-00-Mission-Asteroid.jpg, Doom...  \n",
       "preferred_colors            [[41, 36, 35], [125, 69, 102], [87, 85, 67]]  \n",
       "preferred_orientation                      [Portrait, Paysage, Portrait]  \n",
       "preferred_tags                                     [try, non, try, test]  "
      ]
     },
     "execution_count": 36,
     "metadata": {},
     "output_type": "execute_result"
    }
   ],
   "source": [
    "import random\n",
    "\n",
    "# Nombre d'utilisateurs fictifs\n",
    "N_USERS = 3\n",
    "\n",
    "def generate_users(n, image_data):\n",
    "    users = {}\n",
    "\n",
    "    for i in range(n):\n",
    "        user_id = f\"User_{i+1}\"\n",
    "        selected_images = random.sample(list(image_data.keys()), k=min(3, len(image_data)))  # 3 images max\n",
    "        user_preferences = {\n",
    "            \"preferred_images\": selected_images,\n",
    "            \"preferred_colors\": [image_data[img][\"dominant_color\"] for img in selected_images],\n",
    "            \"preferred_orientation\": [image_data[img][\"orientation\"] for img in selected_images],\n",
    "            \"preferred_tags\": [tag for img in selected_images for tag in image_data[img][\"tags\"]]\n",
    "        }\n",
    "        users[user_id] = user_preferences\n",
    "\n",
    "    return users\n",
    "\n",
    "# Création des utilisateurs aléatoires\n",
    "users_data = generate_users(N_USERS, image_data)\n",
    "print(\"\\n✅ Utilisateurs générés avec leurs préférences !\")\n",
    "users_dataframe = pd.DataFrame(users_data)\n",
    "users_dataframe"
   ]
  },
  {
   "cell_type": "code",
   "execution_count": 37,
   "id": "28a5bb61-8c28-4f88-8180-7a6e7fad3531",
   "metadata": {
    "tags": []
   },
   "outputs": [
    {
     "name": "stderr",
     "output_type": "stream",
     "text": [
      "C:\\Users\\squin\\anaconda3\\Lib\\site-packages\\sklearn\\cluster\\_kmeans.py:1436: UserWarning: KMeans is known to have a memory leak on Windows with MKL, when there are less chunks than available threads. You can avoid it by setting the environment variable OMP_NUM_THREADS=1.\n",
      "  warnings.warn(\n"
     ]
    },
    {
     "name": "stdout",
     "output_type": "stream",
     "text": [
      "🟢 Cluster 1: ['User_1', 'User_2']\n",
      "🟢 Cluster 2: ['User_3']\n",
      "🟢 Cluster 3: []\n"
     ]
    },
    {
     "name": "stderr",
     "output_type": "stream",
     "text": [
      "C:\\Users\\squin\\anaconda3\\Lib\\site-packages\\sklearn\\base.py:1151: ConvergenceWarning: Number of distinct clusters (2) found smaller than n_clusters (3). Possibly due to duplicate points in X.\n",
      "  return fit_method(estimator, *args, **kwargs)\n"
     ]
    },
    {
     "data": {
      "image/png": "[encoded data removed]",
      "text/plain": [
       "<Figure size 640x480 with 1 Axes>"
      ]
     },
     "metadata": {},
     "output_type": "display_data"
    }
   ],
   "source": [
    "from sklearn.cluster import KMeans\n",
    "import matplotlib.pyplot as plt\n",
    "from collections import Counter\n",
    "\n",
    "# Convertir les préférences en format numérique\n",
    "user_features = []\n",
    "user_ids = []\n",
    "\n",
    "for user, prefs in users_data.items():\n",
    "    avg_color = np.mean(prefs[\"preferred_colors\"], axis=0)\n",
    "    orientation_counts = Counter(prefs[\"preferred_orientation\"])\n",
    "    portrait_ratio = orientation_counts.get(\"Portrait\", 0) / sum(orientation_counts.values())\n",
    "\n",
    "    user_features.append(list(avg_color) + [portrait_ratio])\n",
    "    user_ids.append(user)\n",
    "\n",
    "# Clustering des utilisateurs\n",
    "num_clusters = 3\n",
    "kmeans = KMeans(n_clusters=num_clusters, n_init=10)\n",
    "clusters = kmeans.fit_predict(user_features)\n",
    "\n",
    "# Associer les utilisateurs aux clusters\n",
    "user_clusters = {user_ids[i]: clusters[i] for i in range(len(user_ids))}\n",
    "\n",
    "# Affichage des résultats\n",
    "for cluster_id in range(num_clusters):\n",
    "    cluster_members = [user for user, cluster in user_clusters.items() if cluster == cluster_id]\n",
    "    print(f\"🟢 Cluster {cluster_id+1}: {cluster_members}\")\n",
    "\n",
    "# Visualisation des clusters\n",
    "plt.scatter([f[0] for f in user_features], [f[1] for f in user_features], c=clusters, cmap='viridis')\n",
    "plt.xlabel(\"Couleur dominante (moyenne de R)\")\n",
    "plt.ylabel(\"Ratio Portrait/Paysage\")\n",
    "plt.title(\"Regroupement des utilisateurs selon leurs préférences\")\n",
    "plt.show()\n"
   ]
  },
  {
   "cell_type": "code",
   "execution_count": null,
   "id": "1a6fc48b-ef9c-42a3-b745-cca3a80b714e",
   "metadata": {},
   "outputs": [],
   "source": []
  }
 ],
 "metadata": {
  "kernelspec": {
   "display_name": "Python 3 (ipykernel)",
   "language": "python",
   "name": "python3"
  },
  "language_info": {
   "codemirror_mode": {
    "name": "ipython",
    "version": 3
   },
   "file_extension": ".py",
   "mimetype": "text/x-python",
   "name": "python",
   "nbconvert_exporter": "python",
   "pygments_lexer": "ipython3",
   "version": "3.11.5"
  }
 },
 "nbformat": 4,
 "nbformat_minor": 5
}
