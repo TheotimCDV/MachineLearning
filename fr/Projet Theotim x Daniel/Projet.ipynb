{
 "cells": [
  {
   "cell_type": "code",
   "execution_count": 1,
   "id": "2246367a-648f-4da2-a7ac-ef732c4f3cfd",
   "metadata": {
    "tags": []
   },
   "outputs": [
    {
     "name": "stdout",
     "output_type": "stream",
     "text": [
      "Requirement already satisfied: sparqlwrapper in c:\\users\\squin\\anaconda3\\lib\\site-packages (2.0.0)\n",
      "Requirement already satisfied: rdflib>=6.1.1 in c:\\users\\squin\\anaconda3\\lib\\site-packages (from sparqlwrapper) (7.1.3)\n",
      "Requirement already satisfied: pyparsing<4,>=2.1.0 in c:\\users\\squin\\anaconda3\\lib\\site-packages (from rdflib>=6.1.1->sparqlwrapper) (3.0.9)\n"
     ]
    }
   ],
   "source": [
    "!pip install sparqlwrapper"
   ]
  },
  {
   "cell_type": "code",
   "execution_count": 2,
   "id": "49a12d76-ad9b-4ac4-bd9d-1968a5c25262",
   "metadata": {
    "tags": []
   },
   "outputs": [],
   "source": [
    "import sys\n",
    "import pandas as pd\n",
    "from SPARQLWrapper import SPARQLWrapper, JSON\n",
    "\n",
    "endpoint_url = \"https://query.wikidata.org/sparql\"\n",
    "\n",
    "# SPARQL Query\n",
    "query = \"\"\"\n",
    "SELECT DISTINCT ?film ?filmLabel ?image WHERE {\n",
    "  ?film wdt:P31 wd:Q11424;\n",
    "   wdt:P154 ?image.\n",
    "  FILTER (!CONTAINS(LCASE(STR(?image)), \".svg\"))\n",
    "  SERVICE wikibase:label { bd:serviceParam wikibase:language \"fr\". }\n",
    "}\n",
    "LIMIT 100\n",
    "\"\"\"\n",
    "\n",
    "def get_results(endpoint_url, query):\n",
    "    \"\"\" Exécute la requête SPARQL et retourne les résultats en JSON \"\"\"\n",
    "    try:\n",
    "        user_agent = \"WDQS-example Python/%s.%s\" % (\n",
    "            sys.version_info[0],\n",
    "            sys.version_info[1],\n",
    "        )\n",
    "        sparql = SPARQLWrapper(endpoint_url, agent=user_agent)\n",
    "        sparql.setQuery(query)\n",
    "        sparql.setReturnFormat(JSON)\n",
    "        return sparql.query().convert()\n",
    "    except Exception as e:\n",
    "        print(f\"❌ Erreur lors de la requête SPARQL : {e}\")\n",
    "        return None\n",
    "\n",
    "# Exécuter la requête\n",
    "results = get_results(endpoint_url, query)\n",
    "\n",
    "# Stocker les résultats dans un tableau\n",
    "if results:\n",
    "    data = []\n",
    "    for result in results[\"results\"][\"bindings\"]:\n",
    "        film = result[\"film\"][\"value\"] if \"film\" in result else \"N/A\"\n",
    "        label = result[\"label\"][\"value\"] if \"label\" in result else \"N/A\"\n",
    "        image = result[\"image\"][\"value\"] if \"image\" in result else \"N/A\"\n",
    "        data.append((film, label, image))\n",
    "\n",
    "\n",
    "import sys\n",
    "from SPARQLWrapper import SPARQLWrapper, JSON\n",
    "\n",
    "endpoint_url = \"https://query.wikidata.org/sparql\"\n",
    "\n",
    "# Get cities\n",
    "query = \"\"\"SELECT DISTINCT ?film ?filmLabel ?image WHERE {\n",
    "  ?film wdt:P31 wd:Q11424;\n",
    "   wdt:P154 ?image.\n",
    "  FILTER (!CONTAINS(LCASE(STR(?image)), \".svg\"))\n",
    "  SERVICE wikibase:label { bd:serviceParam wikibase:language \"fr\". }\n",
    "}\n",
    "LIMIT 100\"\"\"\n",
    "\n",
    "\n",
    "def get_results(endpoint_url, query):\n",
    "    user_agent = \"WDQS-example Python/%s.%s\" % (\n",
    "        sys.version_info[0],\n",
    "        sys.version_info[1],\n",
    "    )\n",
    "    sparql = SPARQLWrapper(endpoint_url, agent=user_agent)\n",
    "    sparql.setQuery(query)\n",
    "    sparql.setReturnFormat(JSON)\n",
    "    return sparql.query().convert()\n",
    "\n",
    "\n",
    "array = []\n",
    "results = get_results(endpoint_url, query)\n",
    "\n",
    "for result in results[\"results\"][\"bindings\"]:\n",
    "    array.append(\n",
    "        (\n",
    "            result[\"film\"][\"value\"],\n",
    "            result[\"filmLabel\"][\"value\"],\n",
    "            result[\"image\"][\"value\"],\n",
    "        )\n",
    "    )"
   ]
  },
  {
   "cell_type": "code",
   "execution_count": 3,
   "id": "7e033627-6088-4c6d-8aaa-c7813895c416",
   "metadata": {
    "tags": []
   },
   "outputs": [
    {
     "data": {
      "text/html": [
       "<div>\n",
       "<style scoped>\n",
       "    .dataframe tbody tr th:only-of-type {\n",
       "        vertical-align: middle;\n",
       "    }\n",
       "\n",
       "    .dataframe tbody tr th {\n",
       "        vertical-align: top;\n",
       "    }\n",
       "\n",
       "    .dataframe thead th {\n",
       "        text-align: right;\n",
       "    }\n",
       "</style>\n",
       "<table border=\"1\" class=\"dataframe\">\n",
       "  <thead>\n",
       "    <tr style=\"text-align: right;\">\n",
       "      <th></th>\n",
       "      <th>ville</th>\n",
       "      <th>pays</th>\n",
       "      <th>image</th>\n",
       "    </tr>\n",
       "  </thead>\n",
       "  <tbody>\n",
       "    <tr>\n",
       "      <th>0</th>\n",
       "      <td>http://www.wikidata.org/entity/Q19866947</td>\n",
       "      <td>Le Cercle : Rings</td>\n",
       "      <td>http://commons.wikimedia.org/wiki/Special:File...</td>\n",
       "    </tr>\n",
       "    <tr>\n",
       "      <th>1</th>\n",
       "      <td>http://www.wikidata.org/entity/Q21028668</td>\n",
       "      <td>After Image</td>\n",
       "      <td>http://commons.wikimedia.org/wiki/Special:File...</td>\n",
       "    </tr>\n",
       "    <tr>\n",
       "      <th>2</th>\n",
       "      <td>http://www.wikidata.org/entity/Q13534614</td>\n",
       "      <td>Q13534614</td>\n",
       "      <td>http://commons.wikimedia.org/wiki/Special:File...</td>\n",
       "    </tr>\n",
       "    <tr>\n",
       "      <th>3</th>\n",
       "      <td>http://www.wikidata.org/entity/Q827105</td>\n",
       "      <td>Delicatessen</td>\n",
       "      <td>http://commons.wikimedia.org/wiki/Special:File...</td>\n",
       "    </tr>\n",
       "    <tr>\n",
       "      <th>4</th>\n",
       "      <td>http://www.wikidata.org/entity/Q126183</td>\n",
       "      <td>Working Girl</td>\n",
       "      <td>http://commons.wikimedia.org/wiki/Special:File...</td>\n",
       "    </tr>\n",
       "    <tr>\n",
       "      <th>...</th>\n",
       "      <td>...</td>\n",
       "      <td>...</td>\n",
       "      <td>...</td>\n",
       "    </tr>\n",
       "    <tr>\n",
       "      <th>95</th>\n",
       "      <td>http://www.wikidata.org/entity/Q1070554</td>\n",
       "      <td>Stuart Little 2</td>\n",
       "      <td>http://commons.wikimedia.org/wiki/Special:File...</td>\n",
       "    </tr>\n",
       "    <tr>\n",
       "      <th>96</th>\n",
       "      <td>http://www.wikidata.org/entity/Q846679</td>\n",
       "      <td>Karaté Kid</td>\n",
       "      <td>http://commons.wikimedia.org/wiki/Special:File...</td>\n",
       "    </tr>\n",
       "    <tr>\n",
       "      <th>97</th>\n",
       "      <td>http://www.wikidata.org/entity/Q20538737</td>\n",
       "      <td>Q20538737</td>\n",
       "      <td>http://commons.wikimedia.org/wiki/Special:File...</td>\n",
       "    </tr>\n",
       "    <tr>\n",
       "      <th>98</th>\n",
       "      <td>http://www.wikidata.org/entity/Q30602709</td>\n",
       "      <td>Jan Žižka</td>\n",
       "      <td>http://commons.wikimedia.org/wiki/Special:File...</td>\n",
       "    </tr>\n",
       "    <tr>\n",
       "      <th>99</th>\n",
       "      <td>http://www.wikidata.org/entity/Q238245</td>\n",
       "      <td>Quatre mois, trois semaines, deux jours</td>\n",
       "      <td>http://commons.wikimedia.org/wiki/Special:File...</td>\n",
       "    </tr>\n",
       "  </tbody>\n",
       "</table>\n",
       "<p>100 rows × 3 columns</p>\n",
       "</div>"
      ],
      "text/plain": [
       "                                       ville  \\\n",
       "0   http://www.wikidata.org/entity/Q19866947   \n",
       "1   http://www.wikidata.org/entity/Q21028668   \n",
       "2   http://www.wikidata.org/entity/Q13534614   \n",
       "3     http://www.wikidata.org/entity/Q827105   \n",
       "4     http://www.wikidata.org/entity/Q126183   \n",
       "..                                       ...   \n",
       "95   http://www.wikidata.org/entity/Q1070554   \n",
       "96    http://www.wikidata.org/entity/Q846679   \n",
       "97  http://www.wikidata.org/entity/Q20538737   \n",
       "98  http://www.wikidata.org/entity/Q30602709   \n",
       "99    http://www.wikidata.org/entity/Q238245   \n",
       "\n",
       "                                       pays  \\\n",
       "0                         Le Cercle : Rings   \n",
       "1                               After Image   \n",
       "2                                 Q13534614   \n",
       "3                              Delicatessen   \n",
       "4                              Working Girl   \n",
       "..                                      ...   \n",
       "95                          Stuart Little 2   \n",
       "96                               Karaté Kid   \n",
       "97                                Q20538737   \n",
       "98                                Jan Žižka   \n",
       "99  Quatre mois, trois semaines, deux jours   \n",
       "\n",
       "                                                image  \n",
       "0   http://commons.wikimedia.org/wiki/Special:File...  \n",
       "1   http://commons.wikimedia.org/wiki/Special:File...  \n",
       "2   http://commons.wikimedia.org/wiki/Special:File...  \n",
       "3   http://commons.wikimedia.org/wiki/Special:File...  \n",
       "4   http://commons.wikimedia.org/wiki/Special:File...  \n",
       "..                                                ...  \n",
       "95  http://commons.wikimedia.org/wiki/Special:File...  \n",
       "96  http://commons.wikimedia.org/wiki/Special:File...  \n",
       "97  http://commons.wikimedia.org/wiki/Special:File...  \n",
       "98  http://commons.wikimedia.org/wiki/Special:File...  \n",
       "99  http://commons.wikimedia.org/wiki/Special:File...  \n",
       "\n",
       "[100 rows x 3 columns]"
      ]
     },
     "execution_count": 3,
     "metadata": {},
     "output_type": "execute_result"
    }
   ],
   "source": [
    "dataframe = pd.DataFrame(array, columns=[\"ville\", \"pays\", \"image\"])\n",
    "dataframe = dataframe.astype(\n",
    "    dtype={\"ville\": \"<U200\", \"pays\": \"<U200\", \"image\": \"<U200\"}\n",
    ")\n",
    "dataframe"
   ]
  },
  {
   "cell_type": "code",
   "execution_count": 4,
   "id": "741647c7-53cb-46d9-8da6-3bc0acbf21a4",
   "metadata": {
    "tags": []
   },
   "outputs": [],
   "source": [
    "import requests\n",
    "import shutil\n",
    "import os\n",
    "\n",
    "def download_image(url, save_path=\"images\"):\n",
    "    \"\"\"\n",
    "    Télécharge une image depuis une URL et l'enregistre dans le dossier spécifié.\n",
    "    \n",
    "    :param url: URL de l'image à télécharger\n",
    "    :param save_path: Dossier où enregistrer l'image (par défaut \"images\")\n",
    "    :return: Chemin du fichier téléchargé si succès, None sinon\n",
    "    \"\"\"\n",
    "    headers = {\"User-Agent\": \"Mozilla/5.0\"}\n",
    "    \n",
    "    # Requête pour récupérer l'image\n",
    "    request = requests.get(url, allow_redirects=True, headers=headers, stream=True)\n",
    "\n",
    "    if request.status_code == 200:\n",
    "        # Crée le dossier s'il n'existe pas\n",
    "        os.makedirs(save_path, exist_ok=True)\n",
    "\n",
    "        # Récupère le nom de fichier depuis l'URL\n",
    "        filename = os.path.basename(url)\n",
    "        file_path = os.path.join(save_path, filename)\n",
    "\n",
    "        # Sauvegarde l'image\n",
    "        with open(file_path, \"wb\") as image:\n",
    "            request.raw.decode_content = True\n",
    "            shutil.copyfileobj(request.raw, image)\n",
    "        \n",
    "        print(f\"✅ Image téléchargée : {file_path}\")\n",
    "        return file_path  # Retourne le chemin de l'image sauvegardée\n",
    "\n",
    "    print(f\"❌ Échec du téléchargement : {url}\")\n",
    "    return None  # Retourne None en cas d'échec\n",
    "\n"
   ]
  },
  {
   "cell_type": "code",
   "execution_count": 5,
   "id": "8248addb-8c6a-4923-bfb7-e849c07653e2",
   "metadata": {
    "tags": []
   },
   "outputs": [
    {
     "name": "stdout",
     "output_type": "stream",
     "text": [
      "✅ Image téléchargée : images\\RIngsLogo.png\n",
      "✅ Image téléchargée : images\\After%20Image%202001.jpg\n",
      "✅ Image téléchargée : images\\Salinger%20Documentary%20Logo.jpg\n",
      "✅ Image téléchargée : images\\Delicatessen%20movie%20logo.png\n",
      "✅ Image téléchargée : images\\Working%20Girl.jpg\n",
      "✅ Image téléchargée : images\\The%20Silence%20of%20the%20Lambs.png\n",
      "✅ Image téléchargée : images\\Viridiana%20movie%20black%20logo.png\n",
      "✅ Image téléchargée : images\\Ghost-World.png\n",
      "✅ Image téléchargée : images\\Pink%20Panther%20logo-en.jpg\n",
      "✅ Image téléchargée : images\\The%20SpongeBob%20Movie%20Sponge%20Out%20of%20Water%20logo.png\n",
      "✅ Image téléchargée : images\\Fight%20Club%20logo1.png\n",
      "✅ Image téléchargée : images\\Predator%20logo.jpg\n",
      "✅ Image téléchargée : images\\D9%20Logo.jpg\n",
      "✅ Image téléchargée : images\\The%20Runaways%20logo.jpg\n",
      "✅ Image téléchargée : images\\On%20the%20Waterfront%20%28logo%29.png\n",
      "✅ Image téléchargée : images\\Open%20season%20logo.PNG\n",
      "✅ Image téléchargée : images\\X2x-menunitedlogo.jpg\n",
      "✅ Image téléchargée : images\\TotalRecall%202012%20logo.PNG\n",
      "✅ Image téléchargée : images\\Grossesse%20surprise%20logo.PNG\n",
      "✅ Image téléchargée : images\\Parkerlogo2013.png\n",
      "✅ Image téléchargée : images\\A%20Cinderella%20Story%20logo.png\n",
      "✅ Image téléchargée : images\\The%20Phantom%20of%20the%20Opera%20title%20card.jpg\n",
      "✅ Image téléchargée : images\\Ich%20bin%20dein%20Mensch%20Logo.png\n",
      "✅ Image téléchargée : images\\Das%20Haus%20der%20Peitschen%20Originalschriftzug.png\n",
      "✅ Image téléchargée : images\\Absurd%20Logo.png\n",
      "✅ Image téléchargée : images\\Child%27s%20Play%202.jpg\n",
      "✅ Image téléchargée : images\\The%20X-Files%20title%20logo.png\n",
      "✅ Image téléchargée : images\\X-Men%20Days%20of%20Future%20Past%20Title.png\n",
      "✅ Image téléchargée : images\\Superman-Returns-Logo.png\n",
      "✅ Image téléchargée : images\\The%20Lawless%20Frontier%20%281934%29%2001.png\n",
      "✅ Image téléchargée : images\\Thor.png\n",
      "✅ Image téléchargée : images\\Die%20Katze%201988.jpg\n",
      "✅ Image téléchargée : images\\The%20Voyage%20Home%20logo.png\n",
      "✅ Image téléchargée : images\\Schindlers%20List%20logo.png\n",
      "✅ Image téléchargée : images\\Meier%20M%C3%BCller-Schrift.jpg\n",
      "✅ Image téléchargée : images\\Fatal%20Attraction.png\n",
      "✅ Image téléchargée : images\\Mad%20Max%20%28logo%29.png\n",
      "✅ Image téléchargée : images\\The-spongebob-squarepants-movie-logo.png\n",
      "✅ Image téléchargée : images\\Sex%2C%20Lies%2C%20and%20Videotapes%20movie%20horizontal%20black%20logo.png\n",
      "✅ Image téléchargée : images\\2011-12-14-missionimpossible.jpg\n",
      "✅ Image téléchargée : images\\MEANGIRLS.jpg\n",
      "✅ Image téléchargée : images\\Thehobbittrilogy.png\n",
      "✅ Image téléchargée : images\\Blair-Witch-Project-logo.jpg\n",
      "✅ Image téléchargée : images\\Star%20Trek%20Insurrection%20Logo.png\n",
      "✅ Image téléchargée : images\\Friday%20the%2013th%20The%20New%20Blood%20logo.png\n",
      "✅ Image téléchargée : images\\The%20Equalizer.png\n",
      "✅ Image téléchargée : images\\Nightsesseion%20der%20film%20logo.jpg\n",
      "✅ Image téléchargée : images\\Logo%206%20%C3%80%20contre-courant%20Fr.png\n",
      "✅ Image téléchargée : images\\Logo%2013%20Grand-maman%20Fr.png\n",
      "✅ Image téléchargée : images\\Palm%20springs%20%282020%20film%29%20Logo.png\n",
      "✅ Image téléchargée : images\\Nightmare%206.jpg\n",
      "✅ Image téléchargée : images\\Weblogo.png\n",
      "✅ Image téléchargée : images\\Black%20Is%20King%20wordmark%20%28alt%29.png\n",
      "✅ Image téléchargée : images\\Spike%20Jonze%20-%20Her.jpg\n",
      "✅ Image téléchargée : images\\Subway-Film.jpg\n",
      "✅ Image téléchargée : images\\The%20Trail%20Beyond%20%281934%29%2001.png\n",
      "✅ Image téléchargée : images\\Fantastic%20Four%20Logo.png\n",
      "✅ Image téléchargée : images\\Lava%20logo.jpg\n",
      "✅ Image téléchargée : images\\The%20Mortal%20Instruments%20%28Logo%20film%29.png\n",
      "✅ Image téléchargée : images\\Hitch%20Logo.png\n",
      "✅ Image téléchargée : images\\The%20Game%20%28David%20Fincher%29%20logo.png\n",
      "✅ Image téléchargée : images\\Brothers%20%28film%29%20Logo.png\n",
      "✅ Image téléchargée : images\\Les%20Mis%C3%A9rables%20%28film%2C%202019%29%20-%20logo.png\n",
      "✅ Image téléchargée : images\\Rakta%20Charitra%20Logo%20-%20Flickr%20-%20rgvzoomin.jpg\n",
      "✅ Image téléchargée : images\\Logo%20La%20Soupe%20aux%20choux%20%28titre%20sur%20l%27affiche%29.png\n",
      "✅ Image téléchargée : images\\Schlo%C3%9F%20des%20Schreckens%20Logo.png\n",
      "✅ Image téléchargée : images\\Basket%20Case%202%20Logo.png\n",
      "✅ Image téléchargée : images\\Shin%20Ultraman%20logo.png\n",
      "✅ Image téléchargée : images\\Ferdinand%20Film%20Logo.png\n",
      "✅ Image téléchargée : images\\2001%20A%20Space%20Odyssey%20%28logo%29.png\n",
      "✅ Image téléchargée : images\\Mad%20Max%20%28logo%29.png\n",
      "✅ Image téléchargée : images\\Dobermann%20%28Film%29%20Logo.png\n",
      "✅ Image téléchargée : images\\Friday%20the%2013th%20Part%20II%20logo.png\n",
      "✅ Image téléchargée : images\\Don%27t%20Breathe%20Free%20Logo.png\n",
      "✅ Image téléchargée : images\\ThorLoveandThunder.png\n",
      "✅ Image téléchargée : images\\The%20Ghost%20and%20Mrs.%20Muir%20%281947%29%20trailer%20title.jpg\n",
      "✅ Image téléchargée : images\\Sisters%20%281973%29%20trailer%20title%20card.png\n",
      "✅ Image téléchargée : images\\Tank%20Girl%20logo.png\n",
      "✅ Image téléchargée : images\\Logo%20de%20Joy.png\n",
      "✅ Image téléchargée : images\\Tree%20of%20Life%20logo.png\n",
      "✅ Image téléchargée : images\\Gruft%20der%20Vampire%20Logo.png\n",
      "✅ Image téléchargée : images\\Thehobbittrilogy.png\n",
      "✅ Image téléchargée : images\\Powidoki%20logo.png\n",
      "✅ Image téléchargée : images\\West%20Side%20Story%20%282021%20film%20logo%20-%20alt%29.png\n",
      "✅ Image téléchargée : images\\Furious-7-logo.png\n",
      "✅ Image téléchargée : images\\Disney%27s%20Coco%20logo.png\n",
      "✅ Image téléchargée : images\\Federico%20Fellini%20-%20Amarcord.png\n",
      "✅ Image téléchargée : images\\Godzilla%201998%20logo.png\n",
      "✅ Image téléchargée : images\\Kamen%20Rider%20V3%20logo.webp\n",
      "✅ Image téléchargée : images\\Midnight%20Cowboy%20logo.png\n",
      "✅ Image téléchargée : images\\Ida%20%28movie%29%20logo.png\n",
      "✅ Image téléchargée : images\\Plaza%20Catedral%20Logo.png\n",
      "✅ Image téléchargée : images\\TheRingThing.jpeg\n",
      "✅ Image téléchargée : images\\Welcome%20Zindagi.jpg\n",
      "✅ Image téléchargée : images\\Coffy%20Logo.png\n",
      "✅ Image téléchargée : images\\Logo%20Stuart%20Little%202.JPG\n",
      "✅ Image téléchargée : images\\TheKarateKidLogo.png\n",
      "✅ Image téléchargée : images\\Murder%20Mestri.jpg\n",
      "✅ Image téléchargée : images\\Jan%20%C5%BDi%C5%BEka%20%28film%202022%29%20logo.png\n",
      "✅ Image téléchargée : images\\4%20luni%2C%203%20s%C4%83pt%C4%83m%C3%A2ni%20%C5%9Fi%202%20zile%20Sigl%C4%83.png\n"
     ]
    }
   ],
   "source": [
    "\n",
    "# Télécharger les images et stocker les chemins dans une nouvelle colonne\n",
    "dataframe[\"downloaded_image\"] = dataframe[\"image\"].apply(lambda url: download_image(url))\n",
    "\n"
   ]
  },
  {
   "cell_type": "code",
   "execution_count": 6,
   "id": "31d304fb-c2db-4579-b924-e069b6f8120b",
   "metadata": {
    "tags": []
   },
   "outputs": [
    {
     "name": "stdout",
     "output_type": "stream",
     "text": [
      "📂 Le dossier 'images' contient 98 éléments.\n"
     ]
    }
   ],
   "source": [
    "\n",
    "def count_files_in_folder(folder_path):\n",
    "    try:\n",
    "        return len(os.listdir(folder_path))  # Compte tous les fichiers et dossiers\n",
    "    except FileNotFoundError:\n",
    "        print(\"❌ Le dossier n'existe pas.\")\n",
    "        return 0\n",
    "\n",
    "# Exemple d'utilisation\n",
    "folder = \"images\"  # Remplace par ton dossier\n",
    "count = count_files_in_folder(folder)\n",
    "print(f\"📂 Le dossier '{folder}' contient {count} éléments.\")\n"
   ]
  },
  {
   "cell_type": "code",
   "execution_count": 7,
   "id": "a7f284c9-e3b7-4824-9f65-0d00dc3cfeaa",
   "metadata": {
    "tags": []
   },
   "outputs": [
    {
     "name": "stdout",
     "output_type": "stream",
     "text": [
      "Requirement already satisfied: pillow in c:\\users\\squin\\anaconda3\\lib\\site-packages (9.4.0)\n",
      "Requirement already satisfied: exifread in c:\\users\\squin\\anaconda3\\lib\\site-packages (3.0.0)\n",
      "Note: you may need to restart the kernel to use updated packages.\n"
     ]
    }
   ],
   "source": [
    "pip install pillow exifread\n"
   ]
  },
  {
   "cell_type": "code",
   "execution_count": 8,
   "id": "461fce0e-7e24-4872-a4bb-1d9147c84c3c",
   "metadata": {
    "tags": []
   },
   "outputs": [
    {
     "name": "stdout",
     "output_type": "stream",
     "text": [
      "                                             Filename  ExifOffset  \\\n",
      "0         2001%20A%20Space%20Odyssey%20%28logo%29.png         NaN   \n",
      "1                    2011-12-14-missionimpossible.jpg         NaN   \n",
      "2   4%20luni%2C%203%20s%C4%83pt%C4%83m%C3%A2ni%20%...         NaN   \n",
      "3                   A%20Cinderella%20Story%20logo.png         NaN   \n",
      "4                                   Absurd%20Logo.png         NaN   \n",
      "..                                                ...         ...   \n",
      "92                              Welcome%20Zindagi.jpg       164.0   \n",
      "93  West%20Side%20Story%20%282021%20film%20logo%20...         NaN   \n",
      "94                                 Working%20Girl.jpg         NaN   \n",
      "95      X-Men%20Days%20of%20Future%20Past%20Title.png         NaN   \n",
      "96                              X2x-menunitedlogo.jpg         NaN   \n",
      "\n",
      "                       Software  Orientation             DateTime Tag_59932  \\\n",
      "0                           NaN          NaN                  NaN       NaN   \n",
      "1                           NaN          NaN                  NaN       NaN   \n",
      "2                           NaN          NaN                  NaN       NaN   \n",
      "3                           NaN          NaN                  NaN       NaN   \n",
      "4                           NaN          NaN                  NaN       NaN   \n",
      "..                          ...          ...                  ...       ...   \n",
      "92  Adobe Photoshop CS3 Windows          1.0  2015:04:21 17:36:04       NaN   \n",
      "93                          NaN          NaN                  NaN       NaN   \n",
      "94                          NaN          NaN                  NaN       NaN   \n",
      "95                          NaN          NaN                  NaN       NaN   \n",
      "96                          NaN          NaN                  NaN       NaN   \n",
      "\n",
      "   ImageUniqueID Tag_769 Tag_771 Tag_20752  ...  XResolution  YResolution  \\\n",
      "0            NaN     NaN     NaN       NaN  ...          NaN          NaN   \n",
      "1            NaN     NaN     NaN       NaN  ...          NaN          NaN   \n",
      "2            NaN     NaN     NaN       NaN  ...          NaN          NaN   \n",
      "3            NaN     NaN     NaN       NaN  ...          NaN          NaN   \n",
      "4            NaN     NaN     NaN       NaN  ...          NaN          NaN   \n",
      "..           ...     ...     ...       ...  ...          ...          ...   \n",
      "92           NaN     NaN     NaN       NaN  ...         72.0         72.0   \n",
      "93           NaN     NaN     NaN       NaN  ...          NaN          NaN   \n",
      "94           NaN     NaN     NaN       NaN  ...          NaN          NaN   \n",
      "95           NaN     NaN     NaN       NaN  ...          NaN          NaN   \n",
      "96           NaN     NaN     NaN       NaN  ...          NaN          NaN   \n",
      "\n",
      "   ColorSpace ExifImageWidth  ExifImageHeight YCbCrPositioning SubsecTime  \\\n",
      "0         NaN            NaN              NaN              NaN        NaN   \n",
      "1         NaN            NaN              NaN              NaN        NaN   \n",
      "2         NaN            NaN              NaN              NaN        NaN   \n",
      "3         NaN            NaN              NaN              NaN        NaN   \n",
      "4         NaN            NaN              NaN              NaN        NaN   \n",
      "..        ...            ...              ...              ...        ...   \n",
      "92        1.0          678.0            677.0              NaN        NaN   \n",
      "93        NaN            NaN              NaN              NaN        NaN   \n",
      "94        NaN            NaN              NaN              NaN        NaN   \n",
      "95        NaN            NaN              NaN              NaN        NaN   \n",
      "96        NaN            NaN              NaN              NaN        NaN   \n",
      "\n",
      "    ImageWidth  ImageLength  BitsPerSample  \n",
      "0          NaN          NaN            NaN  \n",
      "1          NaN          NaN            NaN  \n",
      "2          NaN          NaN            NaN  \n",
      "3          NaN          NaN            NaN  \n",
      "4          NaN          NaN            NaN  \n",
      "..         ...          ...            ...  \n",
      "92         NaN          NaN            NaN  \n",
      "93         NaN          NaN            NaN  \n",
      "94         NaN          NaN            NaN  \n",
      "95         NaN          NaN            NaN  \n",
      "96         NaN          NaN            NaN  \n",
      "\n",
      "[97 rows x 25 columns]\n"
     ]
    }
   ],
   "source": [
    "import os\n",
    "import pandas as pd\n",
    "from PIL import Image\n",
    "from PIL.ExifTags import TAGS\n",
    "\n",
    "# Définir le chemin du dossier contenant les images\n",
    "image_folder = \"images/\"  # Modifiez ce chemin si nécessaire\n",
    "\n",
    "# Vérifier si le dossier existe\n",
    "if not os.path.exists(image_folder):\n",
    "    raise FileNotFoundError(f\"Le dossier '{image_folder}' n'existe pas.\")\n",
    "\n",
    "# Liste des fichiers image dans le dossier\n",
    "image_files = [f for f in os.listdir(image_folder) if f.lower().endswith(('.jpg', '.jpeg', '.tiff', '.bmp', '.png'))]\n",
    "\n",
    "# Liste pour stocker les données EXIF\n",
    "exif_data_list = []\n",
    "\n",
    "# Parcourir chaque image et extraire les métadonnées EXIF\n",
    "for image_file in image_files:\n",
    "    image_path = os.path.join(image_folder, image_file)\n",
    "    try:\n",
    "        img = Image.open(image_path)\n",
    "        exif_data = img._getexif()\n",
    "        \n",
    "        # Dictionnaire pour stocker les métadonnées de cette image\n",
    "        image_exif_dict = {'Filename': image_file}\n",
    "        \n",
    "        if exif_data:\n",
    "            for tag, value in exif_data.items():\n",
    "                tag_name = TAGS.get(tag, f\"Tag_{tag}\")  # Convertir le tag en nom lisible\n",
    "                image_exif_dict[tag_name] = value\n",
    "        \n",
    "        exif_data_list.append(image_exif_dict)\n",
    "    except Exception as e:\n",
    "        print(f\"Erreur lors du traitement de {image_file}: {e}\")\n",
    "\n",
    "# Création du DataFrame\n",
    "df_exif = pd.DataFrame(exif_data_list)\n",
    "\n",
    "# Afficher le DataFrame\n",
    "print(df_exif)\n",
    "\n",
    "# Sauvegarder les métadonnées EXIF dans un fichier CSV\n",
    "df_exif.to_csv(\"exif_metadata.csv\", index=False)\n"
   ]
  },
  {
   "cell_type": "code",
   "execution_count": 9,
   "id": "d106fe8a-7afc-4474-9490-9baad735420b",
   "metadata": {},
   "outputs": [
    {
     "name": "stdout",
     "output_type": "stream",
     "text": [
      "                                 Filename  ExifOffset  \\\n",
      "8                           MEANGIRLS.jpg       164.0   \n",
      "11                      Nightmare%206.jpg       146.0   \n",
      "12  Nightsesseion%20der%20film%20logo.jpg       172.0   \n",
      "16      Salinger%20Documentary%20Logo.jpg       156.0   \n",
      "17            Spike%20Jonze%20-%20Her.jpg       156.0   \n",
      "21              The%20Runaways%20logo.jpg       164.0   \n",
      "23                  Welcome%20Zindagi.jpg       164.0   \n",
      "\n",
      "                               Software  Orientation             DateTime  \\\n",
      "8           Adobe Photoshop CS3 Windows          1.0  2011:03:05 22:45:19   \n",
      "11                           GIMP 2.6.8          1.0  2011:03:15 19:48:58   \n",
      "12  Adobe Photoshop CC 2015 (Macintosh)          1.0  2016:03:20 07:41:19   \n",
      "16                 Adobe Photoshop 7.0           1.0  2013:07:26 18:30:39   \n",
      "17                 Adobe Photoshop 7.0           1.0  2013:08:20 17:38:22   \n",
      "21          Adobe Photoshop CS2 Windows          1.0  2010:01:15 14:30:18   \n",
      "23          Adobe Photoshop CS3 Windows          1.0  2015:04:21 17:36:04   \n",
      "\n",
      "   Tag_59932 ImageUniqueID Tag_769 Tag_771 Tag_20752  ...  WhitePoint  \\\n",
      "8        NaN           NaN     NaN     NaN       NaN  ...         NaN   \n",
      "11       NaN           NaN     NaN     NaN       NaN  ...         NaN   \n",
      "12       NaN           NaN     NaN     NaN       NaN  ...         NaN   \n",
      "16       NaN           NaN     NaN     NaN       NaN  ...         NaN   \n",
      "17       NaN           NaN     NaN     NaN       NaN  ...         NaN   \n",
      "21       NaN           NaN     NaN     NaN       NaN  ...         NaN   \n",
      "23       NaN           NaN     NaN     NaN       NaN  ...         NaN   \n",
      "\n",
      "    PrimaryChromaticities ResolutionUnit XResolution  YResolution ColorSpace  \\\n",
      "8                     NaN            2.0        72.0         72.0        1.0   \n",
      "11                    NaN            2.0       150.0        150.0    65535.0   \n",
      "12                    NaN            2.0       144.0        144.0        1.0   \n",
      "16                    NaN            2.0        72.0         72.0    65535.0   \n",
      "17                    NaN            2.0        72.0         72.0    65535.0   \n",
      "21                    NaN            2.0       300.0        300.0        1.0   \n",
      "23                    NaN            2.0        72.0         72.0        1.0   \n",
      "\n",
      "   ExifImageWidth  ExifImageHeight  YCbCrPositioning  SubsecTime  \n",
      "8           371.0            106.0               NaN         NaN  \n",
      "11          289.0             84.0               NaN         NaN  \n",
      "12          574.0            146.0               NaN         NaN  \n",
      "16          556.0            312.0               NaN         NaN  \n",
      "17          465.0            262.0               NaN         NaN  \n",
      "21         3637.0            293.0               NaN         NaN  \n",
      "23          678.0            677.0               NaN         NaN  \n",
      "\n",
      "[7 rows x 22 columns]\n"
     ]
    }
   ],
   "source": [
    "import os\n",
    "import pandas as pd\n",
    "from PIL import Image\n",
    "from PIL.ExifTags import TAGS\n",
    "\n",
    "# Définir le chemin du dossier contenant les images\n",
    "image_folder = \"images/\"  # Modifiez ce chemin si nécessaire\n",
    "\n",
    "# Vérifier si le dossier existe\n",
    "if not os.path.exists(image_folder):\n",
    "    raise FileNotFoundError(f\"Le dossier '{image_folder}' n'existe pas.\")\n",
    "\n",
    "# Liste des fichiers image dans le dossier\n",
    "image_files = [f for f in os.listdir(image_folder) if f.lower().endswith(('.jpg', '.jpeg', '.tiff', '.bmp', '.gif'))]\n",
    "\n",
    "# Liste pour stocker les données EXIF\n",
    "exif_data_list = []\n",
    "\n",
    "# Parcourir chaque image et extraire les métadonnées EXIF\n",
    "for image_file in image_files:\n",
    "    image_path = os.path.join(image_folder, image_file)\n",
    "    try:\n",
    "        img = Image.open(image_path)\n",
    "        exif_data = img._getexif()\n",
    "        \n",
    "        # Dictionnaire pour stocker les métadonnées de cette image\n",
    "        image_exif_dict = {'Filename': image_file}\n",
    "        \n",
    "        if exif_data:\n",
    "            for tag, value in exif_data.items():\n",
    "                tag_name = TAGS.get(tag, f\"Tag_{tag}\")  # Convertir le tag en nom lisible\n",
    "                image_exif_dict[tag_name] = value\n",
    "        \n",
    "        exif_data_list.append(image_exif_dict)\n",
    "    except Exception as e:\n",
    "        print(f\"Erreur lors du traitement de {image_file}: {e}\")\n",
    "\n",
    "# Création du DataFrame\n",
    "df_exif = pd.DataFrame(exif_data_list)\n",
    "\n",
    "# Filtrer les lignes en excluant celles ayant une majorité de valeurs NaN\n",
    "threshold = 0.5  # Seuil : une ligne est exclue si plus de 50% de ses valeurs sont NaN\n",
    "df_filtered = df_exif.dropna(thresh=int(threshold * df_exif.shape[1]))\n",
    "\n",
    "# Afficher le DataFrame filtré\n",
    "print(df_filtered)\n",
    "\n",
    "# Sauvegarder les métadonnées EXIF filtrées dans un fichier CSV\n",
    "df_filtered.to_csv(\"exif_metadata_filtered.csv\", index=False)\n"
   ]
  },
  {
   "cell_type": "code",
   "execution_count": 21,
   "id": "235eef06-9a2a-453e-bc83-0dd64c173db2",
   "metadata": {
    "tags": []
   },
   "outputs": [
    {
     "name": "stdout",
     "output_type": "stream",
     "text": [
      "Erreur lors du traitement de Blair-Witch-Project-logo.jpg: type object 'Exif' has no attribute 'IFDRational'\n",
      "Erreur lors du traitement de D9%20Logo.jpg: type object 'Exif' has no attribute 'IFDRational'\n",
      "Erreur lors du traitement de MEANGIRLS.jpg: type object 'Exif' has no attribute 'IFDRational'\n",
      "Erreur lors du traitement de Meier%20M%C3%BCller-Schrift.jpg: type object 'Exif' has no attribute 'IFDRational'\n",
      "Erreur lors du traitement de Nightmare%206.jpg: type object 'Exif' has no attribute 'IFDRational'\n",
      "Erreur lors du traitement de Nightsesseion%20der%20film%20logo.jpg: type object 'Exif' has no attribute 'IFDRational'\n",
      "Erreur lors du traitement de Salinger%20Documentary%20Logo.jpg: type object 'Exif' has no attribute 'IFDRational'\n",
      "Erreur lors du traitement de Spike%20Jonze%20-%20Her.jpg: type object 'Exif' has no attribute 'IFDRational'\n",
      "Erreur lors du traitement de Subway-Film.jpg: type object 'Exif' has no attribute 'IFDRational'\n",
      "Erreur lors du traitement de The%20Game%20%28David%20Fincher%29%20logo.png: type object 'Exif' has no attribute 'IFDRational'\n",
      "Erreur lors du traitement de The%20Ghost%20and%20Mrs.%20Muir%20%281947%29%20trailer%20title.jpg: type object 'Exif' has no attribute 'IFDRational'\n",
      "Erreur lors du traitement de The%20Runaways%20logo.jpg: type object 'Exif' has no attribute 'IFDRational'\n",
      "Erreur lors du traitement de Welcome%20Zindagi.jpg: type object 'Exif' has no attribute 'IFDRational'\n",
      "Fichier JSON sauvegardé sous : Projet Theotim x Daniel/exif_metadata.json\n"
     ]
    }
   ],
   "source": [
    "import os\n",
    "import json\n",
    "from PIL import Image\n",
    "from PIL.ExifTags import TAGS\n",
    "\n",
    "# Définir le chemin du dossier contenant les images\n",
    "image_folder = \"images/\"  # Modifiez ce chemin selon votre dossier\n",
    "\n",
    "# Vérifier si le dossier existe\n",
    "if not os.path.exists(image_folder):\n",
    "    raise FileNotFoundError(f\"Le dossier '{image_folder}' n'existe pas.\")\n",
    "\n",
    "# Liste des fichiers image dans le dossier\n",
    "image_files = [f for f in os.listdir(image_folder) if f.lower().endswith(('.jpg', '.jpeg', '.png', '.tiff', '.bmp', '.gif'))]\n",
    "\n",
    "# Liste pour stocker les données EXIF\n",
    "exif_data_list = []\n",
    "\n",
    "# Fonction pour convertir des valeurs EXIF en types sérialisables JSON\n",
    "def convert_exif_value(value):\n",
    "    if isinstance(value, bytes):\n",
    "        try:\n",
    "            return value.decode('utf-8', errors='ignore')\n",
    "        except Exception:\n",
    "            return str(value)\n",
    "    elif isinstance(value, tuple):  # Convertir tuple en liste\n",
    "        return list(value)\n",
    "    elif isinstance(value, Image.Exif.IFDRational):  # Convertir IFDRational en float\n",
    "        return float(value)\n",
    "    return value\n",
    "\n",
    "# Fonction pour déterminer l'orientation de l'image\n",
    "def get_orientation(width, height):\n",
    "    if width > height:\n",
    "        return \"Paysage\"\n",
    "    elif width < height:\n",
    "        return \"Portrait\"\n",
    "    else:\n",
    "        return \"Carré\"\n",
    "\n",
    "# Extraction des métadonnées de chaque image\n",
    "for image_file in image_files:\n",
    "    image_path = os.path.join(image_folder, image_file)\n",
    "    try:\n",
    "        img = Image.open(image_path)\n",
    "        width, height = img.size  # Taille de l'image\n",
    "        format_image = img.format  # Format de l'image\n",
    "\n",
    "        # Métadonnées EXIF\n",
    "        exif_data = img._getexif()\n",
    "        image_exif_dict = {\n",
    "            \"Nom du fichier\": image_file,\n",
    "            \"Taille\": f\"{width}x{height}\",\n",
    "            \"Format\": format_image,\n",
    "            \"Orientation\": get_orientation(width, height)\n",
    "        }\n",
    "        \n",
    "        if exif_data:\n",
    "            for tag, value in exif_data.items():\n",
    "                tag_name = TAGS.get(tag, f\"Tag_{tag}\")\n",
    "                image_exif_dict[tag_name] = convert_exif_value(value)\n",
    "        \n",
    "        # Ajout au JSON final\n",
    "        exif_data_list.append(image_exif_dict)\n",
    "\n",
    "    except Exception as e:\n",
    "        print(f\"Erreur lors du traitement de {image_file}: {e}\")\n",
    "\n",
    "# Sauvegarde des métadonnées dans un fichier JSON\n",
    "json_output_path = \"Projet Theotim x Daniel/exif_metadata.json\"\n",
    "\n",
    "with open(json_output_path, \"w\", encoding=\"utf-8\") as json_file:\n",
    "    json.dump(exif_data_list, json_file, indent=4, ensure_ascii=False)\n",
    "\n",
    "print(f\"Fichier JSON sauvegardé sous : {json_output_path}\")\n"
   ]
  },
  {
   "cell_type": "code",
   "execution_count": 24,
   "id": "acf50d2e-1ddc-426b-b24b-b0c6bfa85494",
   "metadata": {
    "tags": []
   },
   "outputs": [
    {
     "name": "stdout",
     "output_type": "stream",
     "text": [
      "\n",
      "🔍 Analyse de l'image : 2001%20A%20Space%20Odyssey%20%28logo%29.png\n"
     ]
    },
    {
     "name": "stderr",
     "output_type": "stream",
     "text": [
      "C:\\Users\\squin\\anaconda3\\Lib\\site-packages\\sklearn\\cluster\\_kmeans.py:1962: UserWarning: MiniBatchKMeans is known to have a memory leak on Windows with MKL, when there are less chunks than available threads. You can prevent it by setting batch_size >= 2048 or by setting the environment variable OMP_NUM_THREADS=4\n",
      "  warnings.warn(\n"
     ]
    },
    {
     "name": "stdout",
     "output_type": "stream",
     "text": [
      "Couleurs triées (RGB) : [(1, 1, 1), (250, 250, 250), (123, 123, 123)]\n",
      "(1, 1, 1)\n",
      "🌟 Couleur principale : [(250, 250, 250), (1, 1, 1), (123, 123, 123)]\n",
      "\n",
      "🔍 Analyse de l'image : 2011-12-14-missionimpossible.jpg\n"
     ]
    },
    {
     "name": "stderr",
     "output_type": "stream",
     "text": [
      "C:\\Users\\squin\\anaconda3\\Lib\\site-packages\\sklearn\\cluster\\_kmeans.py:1962: UserWarning: MiniBatchKMeans is known to have a memory leak on Windows with MKL, when there are less chunks than available threads. You can prevent it by setting batch_size >= 2048 or by setting the environment variable OMP_NUM_THREADS=4\n",
      "  warnings.warn(\n"
     ]
    },
    {
     "name": "stdout",
     "output_type": "stream",
     "text": [
      "Couleurs triées (RGB) : [(3, 3, 3), (67, 67, 70), (165, 165, 168)]\n",
      "(3, 3, 3)\n",
      "🌟 Couleur principale : [(3, 3, 3), (165, 165, 168), (67, 67, 70)]\n",
      "\n",
      "🔍 Analyse de l'image : 4%20luni%2C%203%20s%C4%83pt%C4%83m%C3%A2ni%20%C5%9Fi%202%20zile%20Sigl%C4%83.png\n"
     ]
    },
    {
     "name": "stderr",
     "output_type": "stream",
     "text": [
      "C:\\Users\\squin\\anaconda3\\Lib\\site-packages\\sklearn\\cluster\\_kmeans.py:1962: UserWarning: MiniBatchKMeans is known to have a memory leak on Windows with MKL, when there are less chunks than available threads. You can prevent it by setting batch_size >= 2048 or by setting the environment variable OMP_NUM_THREADS=4\n",
      "  warnings.warn(\n"
     ]
    },
    {
     "name": "stdout",
     "output_type": "stream",
     "text": [
      "Couleurs triées (RGB) : [(33, 23, 22), (255, 255, 255), (2, 1, 1)]\n",
      "(33, 23, 22)\n",
      "🌟 Couleur principale : [(33, 23, 22), (255, 255, 255), (2, 1, 1)]\n",
      "\n",
      "🔍 Analyse de l'image : A%20Cinderella%20Story%20logo.png\n"
     ]
    },
    {
     "name": "stderr",
     "output_type": "stream",
     "text": [
      "C:\\Users\\squin\\anaconda3\\Lib\\site-packages\\sklearn\\cluster\\_kmeans.py:1962: UserWarning: MiniBatchKMeans is known to have a memory leak on Windows with MKL, when there are less chunks than available threads. You can prevent it by setting batch_size >= 2048 or by setting the environment variable OMP_NUM_THREADS=4\n",
      "  warnings.warn(\n"
     ]
    },
    {
     "name": "stdout",
     "output_type": "stream",
     "text": [
      "Couleurs triées (RGB) : [(0, 0, 0), (73, 162, 222), (33, 84, 120)]\n",
      "(0, 0, 0)\n",
      "🌟 Couleur principale : [(73, 162, 222), (0, 0, 0), (33, 84, 120)]\n",
      "\n",
      "🔍 Analyse de l'image : Absurd%20Logo.png\n"
     ]
    },
    {
     "name": "stderr",
     "output_type": "stream",
     "text": [
      "C:\\Users\\squin\\anaconda3\\Lib\\site-packages\\sklearn\\cluster\\_kmeans.py:1962: UserWarning: MiniBatchKMeans is known to have a memory leak on Windows with MKL, when there are less chunks than available threads. You can prevent it by setting batch_size >= 2048 or by setting the environment variable OMP_NUM_THREADS=4\n",
      "  warnings.warn(\n"
     ]
    },
    {
     "name": "stdout",
     "output_type": "stream",
     "text": [
      "Couleurs triées (RGB) : [(247, 241, 41), (4, 3, 2), (128, 123, 29)]\n",
      "(247, 241, 41)\n",
      "🌟 Couleur principale : [(4, 3, 2), (247, 241, 41), (128, 123, 29)]\n",
      "\n",
      "🔍 Analyse de l'image : After%20Image%202001.jpg\n"
     ]
    },
    {
     "name": "stderr",
     "output_type": "stream",
     "text": [
      "C:\\Users\\squin\\anaconda3\\Lib\\site-packages\\sklearn\\cluster\\_kmeans.py:1962: UserWarning: MiniBatchKMeans is known to have a memory leak on Windows with MKL, when there are less chunks than available threads. You can prevent it by setting batch_size >= 2048 or by setting the environment variable OMP_NUM_THREADS=4\n",
      "  warnings.warn(\n"
     ]
    },
    {
     "name": "stdout",
     "output_type": "stream",
     "text": [
      "Couleurs triées (RGB) : [(48, 44, 23), (234, 232, 223), (147, 127, 92)]\n",
      "(48, 44, 23)\n",
      "🌟 Couleur principale : [(48, 44, 23), (234, 232, 223), (147, 127, 92)]\n",
      "\n",
      "🔍 Analyse de l'image : Basket%20Case%202%20Logo.png\n"
     ]
    },
    {
     "name": "stderr",
     "output_type": "stream",
     "text": [
      "C:\\Users\\squin\\anaconda3\\Lib\\site-packages\\sklearn\\cluster\\_kmeans.py:1962: UserWarning: MiniBatchKMeans is known to have a memory leak on Windows with MKL, when there are less chunks than available threads. You can prevent it by setting batch_size >= 2048 or by setting the environment variable OMP_NUM_THREADS=4\n",
      "  warnings.warn(\n"
     ]
    },
    {
     "name": "stdout",
     "output_type": "stream",
     "text": [
      "Couleurs triées (RGB) : [(2, 1, 1), (212, 15, 10), (103, 7, 8)]\n",
      "(2, 1, 1)\n",
      "🌟 Couleur principale : [(2, 1, 1), (212, 15, 10), (103, 7, 8)]\n",
      "\n",
      "🔍 Analyse de l'image : Black%20Is%20King%20wordmark%20%28alt%29.png\n"
     ]
    },
    {
     "name": "stderr",
     "output_type": "stream",
     "text": [
      "C:\\Users\\squin\\anaconda3\\Lib\\site-packages\\PIL\\Image.py:996: UserWarning: Palette images with Transparency expressed in bytes should be converted to RGBA images\n",
      "  warnings.warn(\n",
      "C:\\Users\\squin\\anaconda3\\Lib\\site-packages\\sklearn\\cluster\\_kmeans.py:1962: UserWarning: MiniBatchKMeans is known to have a memory leak on Windows with MKL, when there are less chunks than available threads. You can prevent it by setting batch_size >= 2048 or by setting the environment variable OMP_NUM_THREADS=4\n",
      "  warnings.warn(\n"
     ]
    },
    {
     "name": "stdout",
     "output_type": "stream",
     "text": [
      "Couleurs triées (RGB) : [(71, 111, 76), (201, 188, 181), (72, 111, 76)]\n",
      "(71, 111, 76)\n",
      "🌟 Couleur principale : [(72, 111, 76), (201, 188, 181), (71, 111, 76)]\n",
      "\n",
      "🔍 Analyse de l'image : Brothers%20%28film%29%20Logo.png\n"
     ]
    },
    {
     "name": "stderr",
     "output_type": "stream",
     "text": [
      "C:\\Users\\squin\\anaconda3\\Lib\\site-packages\\sklearn\\cluster\\_kmeans.py:1962: UserWarning: MiniBatchKMeans is known to have a memory leak on Windows with MKL, when there are less chunks than available threads. You can prevent it by setting batch_size >= 2048 or by setting the environment variable OMP_NUM_THREADS=4\n",
      "  warnings.warn(\n"
     ]
    },
    {
     "name": "stdout",
     "output_type": "stream",
     "text": [
      "Couleurs triées (RGB) : [(254, 252, 254), (226, 1, 26), (237, 101, 117)]\n",
      "(254, 252, 254)\n",
      "🌟 Couleur principale : [(226, 1, 26), (254, 252, 254), (237, 101, 117)]\n",
      "\n",
      "🔍 Analyse de l'image : Child%27s%20Play%202.jpg\n"
     ]
    },
    {
     "name": "stderr",
     "output_type": "stream",
     "text": [
      "C:\\Users\\squin\\anaconda3\\Lib\\site-packages\\sklearn\\cluster\\_kmeans.py:1962: UserWarning: MiniBatchKMeans is known to have a memory leak on Windows with MKL, when there are less chunks than available threads. You can prevent it by setting batch_size >= 2048 or by setting the environment variable OMP_NUM_THREADS=4\n",
      "  warnings.warn(\n"
     ]
    },
    {
     "name": "stdout",
     "output_type": "stream",
     "text": [
      "Couleurs triées (RGB) : [(0, 0, 0), (227, 31, 39), (251, 246, 246)]\n",
      "(0, 0, 0)\n",
      "🌟 Couleur principale : [(0, 0, 0), (251, 246, 246), (227, 31, 39)]\n",
      "\n",
      "🔍 Analyse de l'image : Coffy%20Logo.png\n"
     ]
    },
    {
     "name": "stderr",
     "output_type": "stream",
     "text": [
      "C:\\Users\\squin\\anaconda3\\Lib\\site-packages\\sklearn\\cluster\\_kmeans.py:1962: UserWarning: MiniBatchKMeans is known to have a memory leak on Windows with MKL, when there are less chunks than available threads. You can prevent it by setting batch_size >= 2048 or by setting the environment variable OMP_NUM_THREADS=4\n",
      "  warnings.warn(\n"
     ]
    },
    {
     "name": "stdout",
     "output_type": "stream",
     "text": [
      "Couleurs triées (RGB) : [(254, 253, 252), (117, 23, 3), (182, 152, 140)]\n",
      "(254, 253, 252)\n",
      "🌟 Couleur principale : [(254, 253, 252), (117, 23, 3), (182, 152, 140)]\n",
      "\n",
      "🔍 Analyse de l'image : Das%20Haus%20der%20Peitschen%20Originalschriftzug.png\n"
     ]
    },
    {
     "name": "stderr",
     "output_type": "stream",
     "text": [
      "C:\\Users\\squin\\anaconda3\\Lib\\site-packages\\sklearn\\cluster\\_kmeans.py:1962: UserWarning: MiniBatchKMeans is known to have a memory leak on Windows with MKL, when there are less chunks than available threads. You can prevent it by setting batch_size >= 2048 or by setting the environment variable OMP_NUM_THREADS=4\n",
      "  warnings.warn(\n"
     ]
    },
    {
     "name": "stdout",
     "output_type": "stream",
     "text": [
      "Couleurs triées (RGB) : [(7, 7, 8), (238, 225, 41), (129, 112, 27)]\n",
      "(7, 7, 8)\n",
      "🌟 Couleur principale : [(7, 7, 8), (238, 225, 41), (129, 112, 27)]\n",
      "\n",
      "🔍 Analyse de l'image : Delicatessen%20movie%20logo.png\n"
     ]
    },
    {
     "name": "stderr",
     "output_type": "stream",
     "text": [
      "C:\\Users\\squin\\anaconda3\\Lib\\site-packages\\sklearn\\cluster\\_kmeans.py:1962: UserWarning: MiniBatchKMeans is known to have a memory leak on Windows with MKL, when there are less chunks than available threads. You can prevent it by setting batch_size >= 2048 or by setting the environment variable OMP_NUM_THREADS=4\n",
      "  warnings.warn(\n"
     ]
    },
    {
     "name": "stdout",
     "output_type": "stream",
     "text": [
      "Couleurs triées (RGB) : [(2, 1, 0), (162, 120, 29), (94, 66, 19)]\n",
      "(2, 1, 0)\n",
      "🌟 Couleur principale : [(2, 1, 0), (162, 120, 29), (94, 66, 19)]\n",
      "\n",
      "🔍 Analyse de l'image : Die%20Katze%201988.jpg\n"
     ]
    },
    {
     "name": "stderr",
     "output_type": "stream",
     "text": [
      "C:\\Users\\squin\\anaconda3\\Lib\\site-packages\\sklearn\\cluster\\_kmeans.py:1962: UserWarning: MiniBatchKMeans is known to have a memory leak on Windows with MKL, when there are less chunks than available threads. You can prevent it by setting batch_size >= 2048 or by setting the environment variable OMP_NUM_THREADS=4\n",
      "  warnings.warn(\n"
     ]
    },
    {
     "name": "stdout",
     "output_type": "stream",
     "text": [
      "Couleurs triées (RGB) : [(0, 0, 0), (187, 0, 0), (84, 1, 1)]\n",
      "(0, 0, 0)\n",
      "🌟 Couleur principale : [(0, 0, 0), (187, 0, 0), (84, 1, 1)]\n",
      "\n",
      "🔍 Analyse de l'image : Disney%27s%20Coco%20logo.png\n"
     ]
    },
    {
     "name": "stderr",
     "output_type": "stream",
     "text": [
      "C:\\Users\\squin\\anaconda3\\Lib\\site-packages\\sklearn\\cluster\\_kmeans.py:1962: UserWarning: MiniBatchKMeans is known to have a memory leak on Windows with MKL, when there are less chunks than available threads. You can prevent it by setting batch_size >= 2048 or by setting the environment variable OMP_NUM_THREADS=4\n",
      "  warnings.warn(\n"
     ]
    },
    {
     "name": "stdout",
     "output_type": "stream",
     "text": [
      "Couleurs triées (RGB) : [(0, 0, 0), (241, 99, 72), (30, 142, 197)]\n",
      "(0, 0, 0)\n",
      "🌟 Couleur principale : [(241, 99, 72), (0, 0, 0), (30, 142, 197)]\n",
      "\n",
      "🔍 Analyse de l'image : Dobermann%20%28Film%29%20Logo.png\n"
     ]
    },
    {
     "name": "stderr",
     "output_type": "stream",
     "text": [
      "C:\\Users\\squin\\anaconda3\\Lib\\site-packages\\sklearn\\cluster\\_kmeans.py:1962: UserWarning: MiniBatchKMeans is known to have a memory leak on Windows with MKL, when there are less chunks than available threads. You can prevent it by setting batch_size >= 2048 or by setting the environment variable OMP_NUM_THREADS=4\n",
      "  warnings.warn(\n"
     ]
    },
    {
     "name": "stdout",
     "output_type": "stream",
     "text": [
      "Couleurs triées (RGB) : [(1, 1, 1), (111, 110, 103), (199, 196, 186)]\n",
      "(1, 1, 1)\n",
      "🌟 Couleur principale : [(1, 1, 1), (199, 196, 186), (111, 110, 103)]\n",
      "\n",
      "🔍 Analyse de l'image : Don%27t%20Breathe%20Free%20Logo.png\n"
     ]
    },
    {
     "name": "stderr",
     "output_type": "stream",
     "text": [
      "C:\\Users\\squin\\anaconda3\\Lib\\site-packages\\sklearn\\cluster\\_kmeans.py:1962: UserWarning: MiniBatchKMeans is known to have a memory leak on Windows with MKL, when there are less chunks than available threads. You can prevent it by setting batch_size >= 2048 or by setting the environment variable OMP_NUM_THREADS=4\n",
      "  warnings.warn(\n"
     ]
    },
    {
     "name": "stdout",
     "output_type": "stream",
     "text": [
      "Couleurs triées (RGB) : [(2, 2, 2), (234, 234, 234), (130, 130, 130)]\n",
      "(2, 2, 2)\n",
      "🌟 Couleur principale : [(234, 234, 234), (2, 2, 2), (130, 130, 130)]\n",
      "\n",
      "🔍 Analyse de l'image : Fantastic%20Four%20Logo.png\n"
     ]
    },
    {
     "name": "stderr",
     "output_type": "stream",
     "text": [
      "C:\\Users\\squin\\anaconda3\\Lib\\site-packages\\sklearn\\cluster\\_kmeans.py:1962: UserWarning: MiniBatchKMeans is known to have a memory leak on Windows with MKL, when there are less chunks than available threads. You can prevent it by setting batch_size >= 2048 or by setting the environment variable OMP_NUM_THREADS=4\n",
      "  warnings.warn(\n"
     ]
    },
    {
     "name": "stdout",
     "output_type": "stream",
     "text": [
      "Couleurs triées (RGB) : [(22, 42, 62), (65, 86, 108), (210, 218, 227)]\n",
      "(22, 42, 62)\n",
      "🌟 Couleur principale : [(22, 42, 62), (210, 218, 227), (65, 86, 108)]\n",
      "\n",
      "🔍 Analyse de l'image : Fatal%20Attraction.png\n"
     ]
    },
    {
     "name": "stderr",
     "output_type": "stream",
     "text": [
      "C:\\Users\\squin\\anaconda3\\Lib\\site-packages\\sklearn\\cluster\\_kmeans.py:1962: UserWarning: MiniBatchKMeans is known to have a memory leak on Windows with MKL, when there are less chunks than available threads. You can prevent it by setting batch_size >= 2048 or by setting the environment variable OMP_NUM_THREADS=4\n",
      "  warnings.warn(\n"
     ]
    },
    {
     "name": "stdout",
     "output_type": "stream",
     "text": [
      "Couleurs triées (RGB) : [(255, 255, 255), (54, 51, 52), (195, 9, 26)]\n",
      "(255, 255, 255)\n",
      "🌟 Couleur principale : [(255, 255, 255), (54, 51, 52), (195, 9, 26)]\n",
      "\n",
      "🔍 Analyse de l'image : Federico%20Fellini%20-%20Amarcord.png\n"
     ]
    },
    {
     "name": "stderr",
     "output_type": "stream",
     "text": [
      "C:\\Users\\squin\\anaconda3\\Lib\\site-packages\\sklearn\\cluster\\_kmeans.py:1962: UserWarning: MiniBatchKMeans is known to have a memory leak on Windows with MKL, when there are less chunks than available threads. You can prevent it by setting batch_size >= 2048 or by setting the environment variable OMP_NUM_THREADS=4\n",
      "  warnings.warn(\n"
     ]
    },
    {
     "name": "stdout",
     "output_type": "stream",
     "text": [
      "Couleurs triées (RGB) : [(0, 0, 0), (253, 253, 253), (131, 131, 131)]\n",
      "(0, 0, 0)\n",
      "🌟 Couleur principale : [(0, 0, 0), (253, 253, 253), (131, 131, 131)]\n",
      "\n",
      "🔍 Analyse de l'image : Ferdinand%20Film%20Logo.png\n"
     ]
    },
    {
     "name": "stderr",
     "output_type": "stream",
     "text": [
      "C:\\Users\\squin\\anaconda3\\Lib\\site-packages\\sklearn\\cluster\\_kmeans.py:1962: UserWarning: MiniBatchKMeans is known to have a memory leak on Windows with MKL, when there are less chunks than available threads. You can prevent it by setting batch_size >= 2048 or by setting the environment variable OMP_NUM_THREADS=4\n",
      "  warnings.warn(\n"
     ]
    },
    {
     "name": "stdout",
     "output_type": "stream",
     "text": [
      "Couleurs triées (RGB) : [(248, 248, 248), (6, 1, 1), (193, 35, 39)]\n",
      "(248, 248, 248)\n",
      "🌟 Couleur principale : [(6, 1, 1), (248, 248, 248), (193, 35, 39)]\n",
      "\n",
      "🔍 Analyse de l'image : Fight%20Club%20logo1.png\n"
     ]
    },
    {
     "name": "stderr",
     "output_type": "stream",
     "text": [
      "C:\\Users\\squin\\anaconda3\\Lib\\site-packages\\sklearn\\cluster\\_kmeans.py:1962: UserWarning: MiniBatchKMeans is known to have a memory leak on Windows with MKL, when there are less chunks than available threads. You can prevent it by setting batch_size >= 2048 or by setting the environment variable OMP_NUM_THREADS=4\n",
      "  warnings.warn(\n"
     ]
    },
    {
     "name": "stdout",
     "output_type": "stream",
     "text": [
      "Couleurs triées (RGB) : [(0, 0, 0)]\n",
      "(0, 0, 0)\n",
      "🌟 Couleur principale : [(0, 0, 0), (0, 0, 0), (0, 0, 0)]\n",
      "\n",
      "🔍 Analyse de l'image : Friday%20the%2013th%20Part%20II%20logo.png\n"
     ]
    },
    {
     "name": "stderr",
     "output_type": "stream",
     "text": [
      "C:\\Users\\squin\\anaconda3\\Lib\\site-packages\\sklearn\\cluster\\_kmeans.py:1962: UserWarning: MiniBatchKMeans is known to have a memory leak on Windows with MKL, when there are less chunks than available threads. You can prevent it by setting batch_size >= 2048 or by setting the environment variable OMP_NUM_THREADS=4\n",
      "  warnings.warn(\n"
     ]
    },
    {
     "name": "stdout",
     "output_type": "stream",
     "text": [
      "Couleurs triées (RGB) : [(2, 1, 2), (248, 248, 248), (171, 19, 30)]\n",
      "(2, 1, 2)\n",
      "🌟 Couleur principale : [(171, 19, 30), (248, 248, 248), (2, 1, 2)]\n",
      "\n",
      "🔍 Analyse de l'image : Friday%20the%2013th%20The%20New%20Blood%20logo.png\n"
     ]
    },
    {
     "name": "stderr",
     "output_type": "stream",
     "text": [
      "C:\\Users\\squin\\anaconda3\\Lib\\site-packages\\sklearn\\cluster\\_kmeans.py:1962: UserWarning: MiniBatchKMeans is known to have a memory leak on Windows with MKL, when there are less chunks than available threads. You can prevent it by setting batch_size >= 2048 or by setting the environment variable OMP_NUM_THREADS=4\n",
      "  warnings.warn(\n"
     ]
    },
    {
     "name": "stdout",
     "output_type": "stream",
     "text": [
      "Couleurs triées (RGB) : [(23, 9, 10), (217, 9, 40), (205, 159, 165)]\n",
      "(23, 9, 10)\n",
      "🌟 Couleur principale : [(23, 9, 10), (217, 9, 40), (205, 159, 165)]\n",
      "\n",
      "🔍 Analyse de l'image : Furious-7-logo.png\n"
     ]
    },
    {
     "name": "stderr",
     "output_type": "stream",
     "text": [
      "C:\\Users\\squin\\anaconda3\\Lib\\site-packages\\sklearn\\cluster\\_kmeans.py:1962: UserWarning: MiniBatchKMeans is known to have a memory leak on Windows with MKL, when there are less chunks than available threads. You can prevent it by setting batch_size >= 2048 or by setting the environment variable OMP_NUM_THREADS=4\n",
      "  warnings.warn(\n"
     ]
    },
    {
     "name": "stdout",
     "output_type": "stream",
     "text": [
      "Couleurs triées (RGB) : [(255, 255, 255), (0, 0, 0)]\n",
      "(255, 255, 255)\n",
      "🌟 Couleur principale : [(255, 255, 255), (0, 0, 0), (255, 255, 255)]\n",
      "\n",
      "🔍 Analyse de l'image : Ghost-World.png\n"
     ]
    },
    {
     "name": "stderr",
     "output_type": "stream",
     "text": [
      "C:\\Users\\squin\\anaconda3\\Lib\\site-packages\\sklearn\\cluster\\_kmeans.py:1962: UserWarning: MiniBatchKMeans is known to have a memory leak on Windows with MKL, when there are less chunks than available threads. You can prevent it by setting batch_size >= 2048 or by setting the environment variable OMP_NUM_THREADS=4\n",
      "  warnings.warn(\n"
     ]
    },
    {
     "name": "stdout",
     "output_type": "stream",
     "text": [
      "Couleurs triées (RGB) : [(255, 255, 255), (35, 30, 28), (36, 33, 30)]\n",
      "(255, 255, 255)\n",
      "🌟 Couleur principale : [(35, 30, 28), (255, 255, 255), (36, 33, 30)]\n",
      "\n",
      "🔍 Analyse de l'image : Godzilla%201998%20logo.png\n"
     ]
    },
    {
     "name": "stderr",
     "output_type": "stream",
     "text": [
      "C:\\Users\\squin\\anaconda3\\Lib\\site-packages\\sklearn\\cluster\\_kmeans.py:1962: UserWarning: MiniBatchKMeans is known to have a memory leak on Windows with MKL, when there are less chunks than available threads. You can prevent it by setting batch_size >= 2048 or by setting the environment variable OMP_NUM_THREADS=4\n",
      "  warnings.warn(\n"
     ]
    },
    {
     "name": "stdout",
     "output_type": "stream",
     "text": [
      "Couleurs triées (RGB) : [(0, 0, 0), (29, 119, 23), (212, 232, 156)]\n",
      "(0, 0, 0)\n",
      "🌟 Couleur principale : [(0, 0, 0), (212, 232, 156), (29, 119, 23)]\n",
      "\n",
      "🔍 Analyse de l'image : Grossesse%20surprise%20logo.PNG\n"
     ]
    },
    {
     "name": "stderr",
     "output_type": "stream",
     "text": [
      "C:\\Users\\squin\\anaconda3\\Lib\\site-packages\\sklearn\\cluster\\_kmeans.py:1962: UserWarning: MiniBatchKMeans is known to have a memory leak on Windows with MKL, when there are less chunks than available threads. You can prevent it by setting batch_size >= 2048 or by setting the environment variable OMP_NUM_THREADS=4\n",
      "  warnings.warn(\n"
     ]
    },
    {
     "name": "stdout",
     "output_type": "stream",
     "text": [
      "Couleurs triées (RGB) : [(254, 254, 253), (164, 25, 31), (20, 15, 14)]\n",
      "(254, 254, 253)\n",
      "🌟 Couleur principale : [(164, 25, 31), (254, 254, 253), (20, 15, 14)]\n",
      "\n",
      "🔍 Analyse de l'image : Gruft%20der%20Vampire%20Logo.png\n"
     ]
    },
    {
     "name": "stderr",
     "output_type": "stream",
     "text": [
      "C:\\Users\\squin\\anaconda3\\Lib\\site-packages\\sklearn\\cluster\\_kmeans.py:1962: UserWarning: MiniBatchKMeans is known to have a memory leak on Windows with MKL, when there are less chunks than available threads. You can prevent it by setting batch_size >= 2048 or by setting the environment variable OMP_NUM_THREADS=4\n",
      "  warnings.warn(\n"
     ]
    },
    {
     "name": "stdout",
     "output_type": "stream",
     "text": [
      "Couleurs triées (RGB) : [(47, 23, 32), (181, 81, 142), (114, 52, 87)]\n",
      "(47, 23, 32)\n",
      "🌟 Couleur principale : [(47, 23, 32), (181, 81, 142), (114, 52, 87)]\n",
      "\n",
      "🔍 Analyse de l'image : Hitch%20Logo.png\n"
     ]
    },
    {
     "name": "stderr",
     "output_type": "stream",
     "text": [
      "C:\\Users\\squin\\anaconda3\\Lib\\site-packages\\sklearn\\cluster\\_kmeans.py:1962: UserWarning: MiniBatchKMeans is known to have a memory leak on Windows with MKL, when there are less chunks than available threads. You can prevent it by setting batch_size >= 2048 or by setting the environment variable OMP_NUM_THREADS=4\n",
      "  warnings.warn(\n"
     ]
    },
    {
     "name": "stdout",
     "output_type": "stream",
     "text": [
      "Couleurs triées (RGB) : [(253, 253, 253), (229, 33, 38), (182, 116, 117)]\n",
      "(253, 253, 253)\n",
      "🌟 Couleur principale : [(253, 253, 253), (229, 33, 38), (182, 116, 117)]\n",
      "\n",
      "🔍 Analyse de l'image : Ich%20bin%20dein%20Mensch%20Logo.png\n"
     ]
    },
    {
     "name": "stderr",
     "output_type": "stream",
     "text": [
      "C:\\Users\\squin\\anaconda3\\Lib\\site-packages\\sklearn\\cluster\\_kmeans.py:1962: UserWarning: MiniBatchKMeans is known to have a memory leak on Windows with MKL, when there are less chunks than available threads. You can prevent it by setting batch_size >= 2048 or by setting the environment variable OMP_NUM_THREADS=4\n",
      "  warnings.warn(\n"
     ]
    },
    {
     "name": "stdout",
     "output_type": "stream",
     "text": [
      "Couleurs triées (RGB) : [(0, 0, 0), (221, 221, 221), (254, 254, 254)]\n",
      "(0, 0, 0)\n",
      "🌟 Couleur principale : [(254, 254, 254), (0, 0, 0), (221, 221, 221)]\n",
      "\n",
      "🔍 Analyse de l'image : Ida%20%28movie%29%20logo.png\n"
     ]
    },
    {
     "name": "stderr",
     "output_type": "stream",
     "text": [
      "C:\\Users\\squin\\anaconda3\\Lib\\site-packages\\sklearn\\cluster\\_kmeans.py:1962: UserWarning: MiniBatchKMeans is known to have a memory leak on Windows with MKL, when there are less chunks than available threads. You can prevent it by setting batch_size >= 2048 or by setting the environment variable OMP_NUM_THREADS=4\n",
      "  warnings.warn(\n"
     ]
    },
    {
     "name": "stdout",
     "output_type": "stream",
     "text": [
      "Couleurs triées (RGB) : [(0, 0, 0)]\n",
      "(0, 0, 0)\n",
      "🌟 Couleur principale : [(0, 0, 0), (0, 0, 0), (0, 0, 0)]\n",
      "\n",
      "🔍 Analyse de l'image : Jan%20%C5%BDi%C5%BEka%20%28film%202022%29%20logo.png\n"
     ]
    },
    {
     "name": "stderr",
     "output_type": "stream",
     "text": [
      "C:\\Users\\squin\\anaconda3\\Lib\\site-packages\\sklearn\\cluster\\_kmeans.py:1962: UserWarning: MiniBatchKMeans is known to have a memory leak on Windows with MKL, when there are less chunks than available threads. You can prevent it by setting batch_size >= 2048 or by setting the environment variable OMP_NUM_THREADS=4\n",
      "  warnings.warn(\n"
     ]
    },
    {
     "name": "stdout",
     "output_type": "stream",
     "text": [
      "Couleurs triées (RGB) : [(0, 0, 0)]\n",
      "(0, 0, 0)\n",
      "🌟 Couleur principale : [(0, 0, 0), (0, 0, 0), (0, 0, 0)]\n",
      "\n",
      "🔍 Analyse de l'image : Lava%20logo.jpg\n"
     ]
    },
    {
     "name": "stderr",
     "output_type": "stream",
     "text": [
      "C:\\Users\\squin\\anaconda3\\Lib\\site-packages\\sklearn\\cluster\\_kmeans.py:1962: UserWarning: MiniBatchKMeans is known to have a memory leak on Windows with MKL, when there are less chunks than available threads. You can prevent it by setting batch_size >= 2048 or by setting the environment variable OMP_NUM_THREADS=4\n",
      "  warnings.warn(\n"
     ]
    },
    {
     "name": "stdout",
     "output_type": "stream",
     "text": [
      "Couleurs triées (RGB) : [(254, 252, 252), (254, 180, 4), (225, 59, 9)]\n",
      "(254, 252, 252)\n",
      "🌟 Couleur principale : [(254, 252, 252), (254, 180, 4), (225, 59, 9)]\n",
      "\n",
      "🔍 Analyse de l'image : Les%20Mis%C3%A9rables%20%28film%2C%202019%29%20-%20logo.png\n"
     ]
    },
    {
     "name": "stderr",
     "output_type": "stream",
     "text": [
      "C:\\Users\\squin\\anaconda3\\Lib\\site-packages\\sklearn\\cluster\\_kmeans.py:1962: UserWarning: MiniBatchKMeans is known to have a memory leak on Windows with MKL, when there are less chunks than available threads. You can prevent it by setting batch_size >= 2048 or by setting the environment variable OMP_NUM_THREADS=4\n",
      "  warnings.warn(\n"
     ]
    },
    {
     "name": "stdout",
     "output_type": "stream",
     "text": [
      "Couleurs triées (RGB) : [(254, 254, 254), (23, 25, 20), (132, 147, 154)]\n",
      "(254, 254, 254)\n",
      "🌟 Couleur principale : [(254, 254, 254), (23, 25, 20), (132, 147, 154)]\n",
      "\n",
      "🔍 Analyse de l'image : Logo%2013%20Grand-maman%20Fr.png\n"
     ]
    },
    {
     "name": "stderr",
     "output_type": "stream",
     "text": [
      "C:\\Users\\squin\\anaconda3\\Lib\\site-packages\\sklearn\\cluster\\_kmeans.py:1962: UserWarning: MiniBatchKMeans is known to have a memory leak on Windows with MKL, when there are less chunks than available threads. You can prevent it by setting batch_size >= 2048 or by setting the environment variable OMP_NUM_THREADS=4\n",
      "  warnings.warn(\n"
     ]
    },
    {
     "name": "stdout",
     "output_type": "stream",
     "text": [
      "Couleurs triées (RGB) : [(254, 254, 254), (15, 23, 54), (145, 151, 166)]\n",
      "(254, 254, 254)\n",
      "🌟 Couleur principale : [(15, 23, 54), (254, 254, 254), (145, 151, 166)]\n",
      "\n",
      "🔍 Analyse de l'image : Logo%206%20%C3%80%20contre-courant%20Fr.png\n"
     ]
    },
    {
     "name": "stderr",
     "output_type": "stream",
     "text": [
      "C:\\Users\\squin\\anaconda3\\Lib\\site-packages\\sklearn\\cluster\\_kmeans.py:1962: UserWarning: MiniBatchKMeans is known to have a memory leak on Windows with MKL, when there are less chunks than available threads. You can prevent it by setting batch_size >= 2048 or by setting the environment variable OMP_NUM_THREADS=4\n",
      "  warnings.warn(\n"
     ]
    },
    {
     "name": "stdout",
     "output_type": "stream",
     "text": [
      "Couleurs triées (RGB) : [(254, 254, 254), (47, 38, 23), (192, 170, 59)]\n",
      "(254, 254, 254)\n",
      "🌟 Couleur principale : [(254, 254, 254), (47, 38, 23), (192, 170, 59)]\n",
      "\n",
      "🔍 Analyse de l'image : Logo%20de%20Joy.png\n"
     ]
    },
    {
     "name": "stderr",
     "output_type": "stream",
     "text": [
      "C:\\Users\\squin\\anaconda3\\Lib\\site-packages\\sklearn\\cluster\\_kmeans.py:1962: UserWarning: MiniBatchKMeans is known to have a memory leak on Windows with MKL, when there are less chunks than available threads. You can prevent it by setting batch_size >= 2048 or by setting the environment variable OMP_NUM_THREADS=4\n",
      "  warnings.warn(\n"
     ]
    },
    {
     "name": "stdout",
     "output_type": "stream",
     "text": [
      "Couleurs triées (RGB) : [(114, 193, 236), (0, 1, 1), (77, 131, 160)]\n",
      "(114, 193, 236)\n",
      "🌟 Couleur principale : [(114, 193, 236), (0, 1, 1), (77, 131, 160)]\n",
      "\n",
      "🔍 Analyse de l'image : Logo%20La%20Soupe%20aux%20choux%20%28titre%20sur%20l%27affiche%29.png\n"
     ]
    },
    {
     "name": "stderr",
     "output_type": "stream",
     "text": [
      "C:\\Users\\squin\\anaconda3\\Lib\\site-packages\\sklearn\\cluster\\_kmeans.py:1962: UserWarning: MiniBatchKMeans is known to have a memory leak on Windows with MKL, when there are less chunks than available threads. You can prevent it by setting batch_size >= 2048 or by setting the environment variable OMP_NUM_THREADS=4\n",
      "  warnings.warn(\n"
     ]
    },
    {
     "name": "stdout",
     "output_type": "stream",
     "text": [
      "Couleurs triées (RGB) : [(249, 235, 241), (134, 136, 114), (33, 44, 33)]\n",
      "(249, 235, 241)\n",
      "🌟 Couleur principale : [(33, 44, 33), (249, 235, 241), (134, 136, 114)]\n",
      "\n",
      "🔍 Analyse de l'image : Logo%20Stuart%20Little%202.JPG\n"
     ]
    },
    {
     "name": "stderr",
     "output_type": "stream",
     "text": [
      "C:\\Users\\squin\\anaconda3\\Lib\\site-packages\\sklearn\\cluster\\_kmeans.py:1962: UserWarning: MiniBatchKMeans is known to have a memory leak on Windows with MKL, when there are less chunks than available threads. You can prevent it by setting batch_size >= 2048 or by setting the environment variable OMP_NUM_THREADS=4\n",
      "  warnings.warn(\n"
     ]
    },
    {
     "name": "stdout",
     "output_type": "stream",
     "text": [
      "Couleurs triées (RGB) : [(51, 94, 186), (156, 58, 37), (245, 202, 61)]\n",
      "(51, 94, 186)\n",
      "🌟 Couleur principale : [(245, 202, 61), (51, 94, 186), (156, 58, 37)]\n",
      "\n",
      "🔍 Analyse de l'image : Mad%20Max%20%28logo%29.png\n"
     ]
    },
    {
     "name": "stderr",
     "output_type": "stream",
     "text": [
      "C:\\Users\\squin\\anaconda3\\Lib\\site-packages\\sklearn\\cluster\\_kmeans.py:1962: UserWarning: MiniBatchKMeans is known to have a memory leak on Windows with MKL, when there are less chunks than available threads. You can prevent it by setting batch_size >= 2048 or by setting the environment variable OMP_NUM_THREADS=4\n",
      "  warnings.warn(\n"
     ]
    },
    {
     "name": "stdout",
     "output_type": "stream",
     "text": [
      "Couleurs triées (RGB) : [(255, 255, 255), (47, 41, 43)]\n",
      "(255, 255, 255)\n",
      "🌟 Couleur principale : [(47, 41, 43), (255, 255, 255), (46, 41, 43)]\n",
      "\n",
      "🔍 Analyse de l'image : Midnight%20Cowboy%20logo.png\n"
     ]
    },
    {
     "name": "stderr",
     "output_type": "stream",
     "text": [
      "C:\\Users\\squin\\anaconda3\\Lib\\site-packages\\sklearn\\cluster\\_kmeans.py:1962: UserWarning: MiniBatchKMeans is known to have a memory leak on Windows with MKL, when there are less chunks than available threads. You can prevent it by setting batch_size >= 2048 or by setting the environment variable OMP_NUM_THREADS=4\n",
      "  warnings.warn(\n"
     ]
    },
    {
     "name": "stdout",
     "output_type": "stream",
     "text": [
      "Couleurs triées (RGB) : [(242, 223, 37), (255, 255, 255), (104, 95, 5)]\n",
      "(242, 223, 37)\n",
      "🌟 Couleur principale : [(242, 223, 37), (255, 255, 255), (104, 95, 5)]\n",
      "\n",
      "🔍 Analyse de l'image : Murder%20Mestri.jpg\n"
     ]
    },
    {
     "name": "stderr",
     "output_type": "stream",
     "text": [
      "C:\\Users\\squin\\anaconda3\\Lib\\site-packages\\sklearn\\cluster\\_kmeans.py:1962: UserWarning: MiniBatchKMeans is known to have a memory leak on Windows with MKL, when there are less chunks than available threads. You can prevent it by setting batch_size >= 2048 or by setting the environment variable OMP_NUM_THREADS=4\n",
      "  warnings.warn(\n"
     ]
    },
    {
     "name": "stdout",
     "output_type": "stream",
     "text": [
      "Couleurs triées (RGB) : [(212, 125, 19), (236, 210, 116), (30, 115, 139)]\n",
      "(212, 125, 19)\n",
      "🌟 Couleur principale : [(212, 125, 19), (30, 115, 139), (236, 210, 116)]\n",
      "\n",
      "🔍 Analyse de l'image : On%20the%20Waterfront%20%28logo%29.png\n"
     ]
    },
    {
     "name": "stderr",
     "output_type": "stream",
     "text": [
      "C:\\Users\\squin\\anaconda3\\Lib\\site-packages\\sklearn\\cluster\\_kmeans.py:1962: UserWarning: MiniBatchKMeans is known to have a memory leak on Windows with MKL, when there are less chunks than available threads. You can prevent it by setting batch_size >= 2048 or by setting the environment variable OMP_NUM_THREADS=4\n",
      "  warnings.warn(\n"
     ]
    },
    {
     "name": "stdout",
     "output_type": "stream",
     "text": [
      "Couleurs triées (RGB) : [(254, 254, 254), (243, 77, 47), (254, 211, 203)]\n",
      "(254, 254, 254)\n",
      "🌟 Couleur principale : [(254, 254, 254), (243, 77, 47), (254, 211, 203)]\n",
      "\n",
      "🔍 Analyse de l'image : Open%20season%20logo.PNG\n"
     ]
    },
    {
     "name": "stderr",
     "output_type": "stream",
     "text": [
      "C:\\Users\\squin\\anaconda3\\Lib\\site-packages\\sklearn\\cluster\\_kmeans.py:1962: UserWarning: MiniBatchKMeans is known to have a memory leak on Windows with MKL, when there are less chunks than available threads. You can prevent it by setting batch_size >= 2048 or by setting the environment variable OMP_NUM_THREADS=4\n",
      "  warnings.warn(\n"
     ]
    },
    {
     "name": "stdout",
     "output_type": "stream",
     "text": [
      "Couleurs triées (RGB) : [(251, 251, 250), (226, 145, 51), (141, 72, 20)]\n",
      "(251, 251, 250)\n",
      "🌟 Couleur principale : [(141, 72, 20), (251, 251, 250), (226, 145, 51)]\n",
      "\n",
      "🔍 Analyse de l'image : Palm%20springs%20%282020%20film%29%20Logo.png\n"
     ]
    },
    {
     "name": "stderr",
     "output_type": "stream",
     "text": [
      "C:\\Users\\squin\\anaconda3\\Lib\\site-packages\\sklearn\\cluster\\_kmeans.py:1962: UserWarning: MiniBatchKMeans is known to have a memory leak on Windows with MKL, when there are less chunks than available threads. You can prevent it by setting batch_size >= 2048 or by setting the environment variable OMP_NUM_THREADS=4\n",
      "  warnings.warn(\n"
     ]
    },
    {
     "name": "stdout",
     "output_type": "stream",
     "text": [
      "Couleurs triées (RGB) : [(241, 207, 172), (254, 254, 254), (8, 7, 6)]\n",
      "(241, 207, 172)\n",
      "🌟 Couleur principale : [(254, 254, 254), (8, 7, 6), (241, 207, 172)]\n",
      "\n",
      "🔍 Analyse de l'image : Parkerlogo2013.png\n"
     ]
    },
    {
     "name": "stderr",
     "output_type": "stream",
     "text": [
      "C:\\Users\\squin\\anaconda3\\Lib\\site-packages\\sklearn\\cluster\\_kmeans.py:1962: UserWarning: MiniBatchKMeans is known to have a memory leak on Windows with MKL, when there are less chunks than available threads. You can prevent it by setting batch_size >= 2048 or by setting the environment variable OMP_NUM_THREADS=4\n",
      "  warnings.warn(\n"
     ]
    },
    {
     "name": "stdout",
     "output_type": "stream",
     "text": [
      "Couleurs triées (RGB) : [(83, 14, 15), (134, 27, 29), (255, 255, 255)]\n",
      "(83, 14, 15)\n",
      "🌟 Couleur principale : [(134, 27, 29), (255, 255, 255), (83, 14, 15)]\n",
      "\n",
      "🔍 Analyse de l'image : Pink%20Panther%20logo-en.jpg\n"
     ]
    },
    {
     "name": "stderr",
     "output_type": "stream",
     "text": [
      "C:\\Users\\squin\\anaconda3\\Lib\\site-packages\\sklearn\\cluster\\_kmeans.py:1962: UserWarning: MiniBatchKMeans is known to have a memory leak on Windows with MKL, when there are less chunks than available threads. You can prevent it by setting batch_size >= 2048 or by setting the environment variable OMP_NUM_THREADS=4\n",
      "  warnings.warn(\n"
     ]
    },
    {
     "name": "stdout",
     "output_type": "stream",
     "text": [
      "Couleurs triées (RGB) : [(252, 252, 253), (116, 142, 187), (15, 16, 28)]\n",
      "(252, 252, 253)\n",
      "🌟 Couleur principale : [(252, 252, 253), (15, 16, 28), (116, 142, 187)]\n",
      "\n",
      "🔍 Analyse de l'image : Plaza%20Catedral%20Logo.png\n"
     ]
    },
    {
     "name": "stderr",
     "output_type": "stream",
     "text": [
      "C:\\Users\\squin\\anaconda3\\Lib\\site-packages\\sklearn\\cluster\\_kmeans.py:1962: UserWarning: MiniBatchKMeans is known to have a memory leak on Windows with MKL, when there are less chunks than available threads. You can prevent it by setting batch_size >= 2048 or by setting the environment variable OMP_NUM_THREADS=4\n",
      "  warnings.warn(\n"
     ]
    },
    {
     "name": "stdout",
     "output_type": "stream",
     "text": [
      "Couleurs triées (RGB) : [(255, 255, 255), (4, 4, 4), (253, 253, 253)]\n",
      "(255, 255, 255)\n",
      "🌟 Couleur principale : [(253, 253, 253), (4, 4, 4), (255, 255, 255)]\n",
      "\n",
      "🔍 Analyse de l'image : Powidoki%20logo.png\n"
     ]
    },
    {
     "name": "stderr",
     "output_type": "stream",
     "text": [
      "C:\\Users\\squin\\anaconda3\\Lib\\site-packages\\sklearn\\cluster\\_kmeans.py:1962: UserWarning: MiniBatchKMeans is known to have a memory leak on Windows with MKL, when there are less chunks than available threads. You can prevent it by setting batch_size >= 2048 or by setting the environment variable OMP_NUM_THREADS=4\n",
      "  warnings.warn(\n"
     ]
    },
    {
     "name": "stdout",
     "output_type": "stream",
     "text": [
      "Couleurs triées (RGB) : [(254, 254, 254), (4, 55, 91), (235, 83, 12)]\n",
      "(254, 254, 254)\n",
      "🌟 Couleur principale : [(254, 254, 254), (4, 55, 91), (235, 83, 12)]\n",
      "\n",
      "🔍 Analyse de l'image : Predator%20logo.jpg\n"
     ]
    },
    {
     "name": "stderr",
     "output_type": "stream",
     "text": [
      "C:\\Users\\squin\\anaconda3\\Lib\\site-packages\\sklearn\\cluster\\_kmeans.py:1962: UserWarning: MiniBatchKMeans is known to have a memory leak on Windows with MKL, when there are less chunks than available threads. You can prevent it by setting batch_size >= 2048 or by setting the environment variable OMP_NUM_THREADS=4\n",
      "  warnings.warn(\n"
     ]
    },
    {
     "name": "stdout",
     "output_type": "stream",
     "text": [
      "Couleurs triées (RGB) : [(198, 36, 11), (20, 12, 14), (122, 27, 17)]\n",
      "(198, 36, 11)\n",
      "🌟 Couleur principale : [(198, 36, 11), (20, 12, 14), (122, 27, 17)]\n",
      "\n",
      "🔍 Analyse de l'image : Rakta%20Charitra%20Logo%20-%20Flickr%20-%20rgvzoomin.jpg\n"
     ]
    },
    {
     "name": "stderr",
     "output_type": "stream",
     "text": [
      "C:\\Users\\squin\\anaconda3\\Lib\\site-packages\\sklearn\\cluster\\_kmeans.py:1962: UserWarning: MiniBatchKMeans is known to have a memory leak on Windows with MKL, when there are less chunks than available threads. You can prevent it by setting batch_size >= 2048 or by setting the environment variable OMP_NUM_THREADS=4\n",
      "  warnings.warn(\n"
     ]
    },
    {
     "name": "stdout",
     "output_type": "stream",
     "text": [
      "Couleurs triées (RGB) : [(0, 0, 0), (214, 1, 34), (122, 4, 19)]\n",
      "(0, 0, 0)\n",
      "🌟 Couleur principale : [(214, 1, 34), (0, 0, 0), (122, 4, 19)]\n",
      "\n",
      "🔍 Analyse de l'image : RIngsLogo.png\n"
     ]
    },
    {
     "name": "stderr",
     "output_type": "stream",
     "text": [
      "C:\\Users\\squin\\anaconda3\\Lib\\site-packages\\sklearn\\cluster\\_kmeans.py:1962: UserWarning: MiniBatchKMeans is known to have a memory leak on Windows with MKL, when there are less chunks than available threads. You can prevent it by setting batch_size >= 2048 or by setting the environment variable OMP_NUM_THREADS=4\n",
      "  warnings.warn(\n"
     ]
    },
    {
     "name": "stdout",
     "output_type": "stream",
     "text": [
      "Couleurs triées (RGB) : [(3, 3, 3), (246, 246, 246), (126, 126, 126)]\n",
      "(3, 3, 3)\n",
      "🌟 Couleur principale : [(3, 3, 3), (246, 246, 246), (126, 126, 126)]\n",
      "\n",
      "🔍 Analyse de l'image : Schindlers%20List%20logo.png\n"
     ]
    },
    {
     "name": "stderr",
     "output_type": "stream",
     "text": [
      "C:\\Users\\squin\\anaconda3\\Lib\\site-packages\\sklearn\\cluster\\_kmeans.py:1962: UserWarning: MiniBatchKMeans is known to have a memory leak on Windows with MKL, when there are less chunks than available threads. You can prevent it by setting batch_size >= 2048 or by setting the environment variable OMP_NUM_THREADS=4\n",
      "  warnings.warn(\n"
     ]
    },
    {
     "name": "stdout",
     "output_type": "stream",
     "text": [
      "Couleurs triées (RGB) : [(0, 0, 0), (107, 107, 107), (197, 197, 197)]\n",
      "(0, 0, 0)\n",
      "🌟 Couleur principale : [(0, 0, 0), (197, 197, 197), (107, 107, 107)]\n",
      "\n",
      "🔍 Analyse de l'image : Schlo%C3%9F%20des%20Schreckens%20Logo.png\n"
     ]
    },
    {
     "name": "stderr",
     "output_type": "stream",
     "text": [
      "C:\\Users\\squin\\anaconda3\\Lib\\site-packages\\sklearn\\cluster\\_kmeans.py:1962: UserWarning: MiniBatchKMeans is known to have a memory leak on Windows with MKL, when there are less chunks than available threads. You can prevent it by setting batch_size >= 2048 or by setting the environment variable OMP_NUM_THREADS=4\n",
      "  warnings.warn(\n"
     ]
    },
    {
     "name": "stdout",
     "output_type": "stream",
     "text": [
      "Couleurs triées (RGB) : [(18, 3, 3), (232, 205, 38), (120, 100, 35)]\n",
      "(18, 3, 3)\n",
      "🌟 Couleur principale : [(18, 3, 3), (232, 205, 38), (120, 100, 35)]\n",
      "\n",
      "🔍 Analyse de l'image : Sex%2C%20Lies%2C%20and%20Videotapes%20movie%20horizontal%20black%20logo.png\n"
     ]
    },
    {
     "name": "stderr",
     "output_type": "stream",
     "text": [
      "C:\\Users\\squin\\anaconda3\\Lib\\site-packages\\sklearn\\cluster\\_kmeans.py:1962: UserWarning: MiniBatchKMeans is known to have a memory leak on Windows with MKL, when there are less chunks than available threads. You can prevent it by setting batch_size >= 2048 or by setting the environment variable OMP_NUM_THREADS=4\n",
      "  warnings.warn(\n"
     ]
    },
    {
     "name": "stdout",
     "output_type": "stream",
     "text": [
      "Couleurs triées (RGB) : [(5, 5, 5), (98, 98, 98), (195, 195, 196)]\n",
      "(5, 5, 5)\n",
      "🌟 Couleur principale : [(5, 5, 5), (195, 195, 196), (98, 98, 98)]\n",
      "\n",
      "🔍 Analyse de l'image : Shin%20Ultraman%20logo.png\n"
     ]
    },
    {
     "name": "stderr",
     "output_type": "stream",
     "text": [
      "C:\\Users\\squin\\anaconda3\\Lib\\site-packages\\PIL\\Image.py:996: UserWarning: Palette images with Transparency expressed in bytes should be converted to RGBA images\n",
      "  warnings.warn(\n",
      "C:\\Users\\squin\\anaconda3\\Lib\\site-packages\\sklearn\\cluster\\_kmeans.py:1962: UserWarning: MiniBatchKMeans is known to have a memory leak on Windows with MKL, when there are less chunks than available threads. You can prevent it by setting batch_size >= 2048 or by setting the environment variable OMP_NUM_THREADS=4\n",
      "  warnings.warn(\n"
     ]
    },
    {
     "name": "stdout",
     "output_type": "stream",
     "text": [
      "Couleurs triées (RGB) : [(254, 254, 254), (221, 7, 19), (237, 142, 146)]\n",
      "(254, 254, 254)\n",
      "🌟 Couleur principale : [(221, 7, 19), (254, 254, 254), (237, 142, 146)]\n",
      "\n",
      "🔍 Analyse de l'image : Sisters%20%281973%29%20trailer%20title%20card.png\n"
     ]
    },
    {
     "name": "stderr",
     "output_type": "stream",
     "text": [
      "C:\\Users\\squin\\anaconda3\\Lib\\site-packages\\sklearn\\cluster\\_kmeans.py:1962: UserWarning: MiniBatchKMeans is known to have a memory leak on Windows with MKL, when there are less chunks than available threads. You can prevent it by setting batch_size >= 2048 or by setting the environment variable OMP_NUM_THREADS=4\n",
      "  warnings.warn(\n"
     ]
    },
    {
     "name": "stdout",
     "output_type": "stream",
     "text": [
      "Couleurs triées (RGB) : [(16, 5, 9), (126, 51, 68), (192, 176, 183)]\n",
      "(16, 5, 9)\n",
      "🌟 Couleur principale : [(16, 5, 9), (192, 176, 183), (126, 51, 68)]\n",
      "\n",
      "🔍 Analyse de l'image : Star%20Trek%20Insurrection%20Logo.png\n"
     ]
    },
    {
     "name": "stderr",
     "output_type": "stream",
     "text": [
      "C:\\Users\\squin\\anaconda3\\Lib\\site-packages\\sklearn\\cluster\\_kmeans.py:1962: UserWarning: MiniBatchKMeans is known to have a memory leak on Windows with MKL, when there are less chunks than available threads. You can prevent it by setting batch_size >= 2048 or by setting the environment variable OMP_NUM_THREADS=4\n",
      "  warnings.warn(\n"
     ]
    },
    {
     "name": "stdout",
     "output_type": "stream",
     "text": [
      "Couleurs triées (RGB) : [(0, 0, 0), (247, 196, 67), (252, 252, 252)]\n",
      "(0, 0, 0)\n",
      "🌟 Couleur principale : [(0, 0, 0), (247, 196, 67), (252, 252, 252)]\n",
      "\n",
      "🔍 Analyse de l'image : Superman-Returns-Logo.png\n"
     ]
    },
    {
     "name": "stderr",
     "output_type": "stream",
     "text": [
      "C:\\Users\\squin\\anaconda3\\Lib\\site-packages\\sklearn\\cluster\\_kmeans.py:1962: UserWarning: MiniBatchKMeans is known to have a memory leak on Windows with MKL, when there are less chunks than available threads. You can prevent it by setting batch_size >= 2048 or by setting the environment variable OMP_NUM_THREADS=4\n",
      "  warnings.warn(\n"
     ]
    },
    {
     "name": "stdout",
     "output_type": "stream",
     "text": [
      "Couleurs triées (RGB) : [(254, 253, 254), (25, 24, 26), (142, 141, 143)]\n",
      "(254, 253, 254)\n",
      "🌟 Couleur principale : [(254, 253, 254), (25, 24, 26), (142, 141, 143)]\n",
      "\n",
      "🔍 Analyse de l'image : Tank%20Girl%20logo.png\n"
     ]
    },
    {
     "name": "stderr",
     "output_type": "stream",
     "text": [
      "C:\\Users\\squin\\anaconda3\\Lib\\site-packages\\sklearn\\cluster\\_kmeans.py:1962: UserWarning: MiniBatchKMeans is known to have a memory leak on Windows with MKL, when there are less chunks than available threads. You can prevent it by setting batch_size >= 2048 or by setting the environment variable OMP_NUM_THREADS=4\n",
      "  warnings.warn(\n"
     ]
    },
    {
     "name": "stdout",
     "output_type": "stream",
     "text": [
      "Couleurs triées (RGB) : [(247, 126, 41), (254, 254, 254), (4, 3, 0)]\n",
      "(247, 126, 41)\n",
      "🌟 Couleur principale : [(247, 126, 41), (254, 254, 254), (4, 3, 0)]\n",
      "\n",
      "🔍 Analyse de l'image : The%20Equalizer.png\n"
     ]
    },
    {
     "name": "stderr",
     "output_type": "stream",
     "text": [
      "C:\\Users\\squin\\anaconda3\\Lib\\site-packages\\sklearn\\cluster\\_kmeans.py:1962: UserWarning: MiniBatchKMeans is known to have a memory leak on Windows with MKL, when there are less chunks than available threads. You can prevent it by setting batch_size >= 2048 or by setting the environment variable OMP_NUM_THREADS=4\n",
      "  warnings.warn(\n"
     ]
    },
    {
     "name": "stdout",
     "output_type": "stream",
     "text": [
      "Couleurs triées (RGB) : [(238, 50, 34), (0, 0, 0)]\n",
      "(238, 50, 34)\n",
      "🌟 Couleur principale : [(238, 50, 34), (0, 0, 0), (238, 50, 34)]\n",
      "\n",
      "🔍 Analyse de l'image : The%20Lawless%20Frontier%20%281934%29%2001.png\n"
     ]
    },
    {
     "name": "stderr",
     "output_type": "stream",
     "text": [
      "C:\\Users\\squin\\anaconda3\\Lib\\site-packages\\sklearn\\cluster\\_kmeans.py:1962: UserWarning: MiniBatchKMeans is known to have a memory leak on Windows with MKL, when there are less chunks than available threads. You can prevent it by setting batch_size >= 2048 or by setting the environment variable OMP_NUM_THREADS=4\n",
      "  warnings.warn(\n"
     ]
    },
    {
     "name": "stdout",
     "output_type": "stream",
     "text": [
      "Couleurs triées (RGB) : [(54, 54, 54), (214, 214, 214), (122, 122, 122)]\n",
      "(54, 54, 54)\n",
      "🌟 Couleur principale : [(54, 54, 54), (214, 214, 214), (122, 122, 122)]\n",
      "\n",
      "🔍 Analyse de l'image : The%20Mortal%20Instruments%20%28Logo%20film%29.png\n"
     ]
    },
    {
     "name": "stderr",
     "output_type": "stream",
     "text": [
      "C:\\Users\\squin\\anaconda3\\Lib\\site-packages\\sklearn\\cluster\\_kmeans.py:1962: UserWarning: MiniBatchKMeans is known to have a memory leak on Windows with MKL, when there are less chunks than available threads. You can prevent it by setting batch_size >= 2048 or by setting the environment variable OMP_NUM_THREADS=4\n",
      "  warnings.warn(\n"
     ]
    },
    {
     "name": "stdout",
     "output_type": "stream",
     "text": [
      "Couleurs triées (RGB) : [(248, 251, 251), (135, 142, 145), (9, 9, 9)]\n",
      "(248, 251, 251)\n",
      "🌟 Couleur principale : [(9, 9, 9), (248, 251, 251), (135, 142, 145)]\n",
      "\n",
      "🔍 Analyse de l'image : The%20Phantom%20of%20the%20Opera%20title%20card.jpg\n"
     ]
    },
    {
     "name": "stderr",
     "output_type": "stream",
     "text": [
      "C:\\Users\\squin\\anaconda3\\Lib\\site-packages\\sklearn\\cluster\\_kmeans.py:1962: UserWarning: MiniBatchKMeans is known to have a memory leak on Windows with MKL, when there are less chunks than available threads. You can prevent it by setting batch_size >= 2048 or by setting the environment variable OMP_NUM_THREADS=4\n",
      "  warnings.warn(\n"
     ]
    },
    {
     "name": "stdout",
     "output_type": "stream",
     "text": [
      "Couleurs triées (RGB) : [(1, 1, 2), (223, 235, 241), (102, 147, 166)]\n",
      "(1, 1, 2)\n",
      "🌟 Couleur principale : [(1, 1, 2), (223, 235, 241), (102, 147, 166)]\n",
      "\n",
      "🔍 Analyse de l'image : The%20Silence%20of%20the%20Lambs.png\n"
     ]
    },
    {
     "name": "stderr",
     "output_type": "stream",
     "text": [
      "C:\\Users\\squin\\anaconda3\\Lib\\site-packages\\sklearn\\cluster\\_kmeans.py:1962: UserWarning: MiniBatchKMeans is known to have a memory leak on Windows with MKL, when there are less chunks than available threads. You can prevent it by setting batch_size >= 2048 or by setting the environment variable OMP_NUM_THREADS=4\n",
      "  warnings.warn(\n"
     ]
    },
    {
     "name": "stdout",
     "output_type": "stream",
     "text": [
      "Couleurs triées (RGB) : [(254, 254, 254), (236, 49, 54), (58, 51, 52)]\n",
      "(254, 254, 254)\n",
      "🌟 Couleur principale : [(236, 49, 54), (254, 254, 254), (58, 51, 52)]\n",
      "\n",
      "🔍 Analyse de l'image : The%20SpongeBob%20Movie%20Sponge%20Out%20of%20Water%20logo.png\n"
     ]
    },
    {
     "name": "stderr",
     "output_type": "stream",
     "text": [
      "C:\\Users\\squin\\anaconda3\\Lib\\site-packages\\sklearn\\cluster\\_kmeans.py:1962: UserWarning: MiniBatchKMeans is known to have a memory leak on Windows with MKL, when there are less chunks than available threads. You can prevent it by setting batch_size >= 2048 or by setting the environment variable OMP_NUM_THREADS=4\n",
      "  warnings.warn(\n"
     ]
    },
    {
     "name": "stdout",
     "output_type": "stream",
     "text": [
      "Couleurs triées (RGB) : [(238, 214, 31), (0, 0, 0), (18, 61, 88)]\n",
      "(238, 214, 31)\n",
      "🌟 Couleur principale : [(18, 61, 88), (238, 214, 31), (0, 0, 0)]\n",
      "\n",
      "🔍 Analyse de l'image : The%20Trail%20Beyond%20%281934%29%2001.png\n"
     ]
    },
    {
     "name": "stderr",
     "output_type": "stream",
     "text": [
      "C:\\Users\\squin\\anaconda3\\Lib\\site-packages\\sklearn\\cluster\\_kmeans.py:1962: UserWarning: MiniBatchKMeans is known to have a memory leak on Windows with MKL, when there are less chunks than available threads. You can prevent it by setting batch_size >= 2048 or by setting the environment variable OMP_NUM_THREADS=4\n",
      "  warnings.warn(\n"
     ]
    },
    {
     "name": "stdout",
     "output_type": "stream",
     "text": [
      "Couleurs triées (RGB) : [(53, 53, 53), (122, 122, 122), (205, 205, 205)]\n",
      "(53, 53, 53)\n",
      "🌟 Couleur principale : [(205, 205, 205), (53, 53, 53), (122, 122, 122)]\n",
      "\n",
      "🔍 Analyse de l'image : The%20Voyage%20Home%20logo.png\n"
     ]
    },
    {
     "name": "stderr",
     "output_type": "stream",
     "text": [
      "C:\\Users\\squin\\anaconda3\\Lib\\site-packages\\sklearn\\cluster\\_kmeans.py:1962: UserWarning: MiniBatchKMeans is known to have a memory leak on Windows with MKL, when there are less chunks than available threads. You can prevent it by setting batch_size >= 2048 or by setting the environment variable OMP_NUM_THREADS=4\n",
      "  warnings.warn(\n"
     ]
    },
    {
     "name": "stdout",
     "output_type": "stream",
     "text": [
      "Couleurs triées (RGB) : [(68, 148, 192), (0, 0, 0), (247, 250, 252)]\n",
      "(68, 148, 192)\n",
      "🌟 Couleur principale : [(247, 250, 252), (0, 0, 0), (68, 148, 192)]\n",
      "\n",
      "🔍 Analyse de l'image : The%20X-Files%20title%20logo.png\n"
     ]
    },
    {
     "name": "stderr",
     "output_type": "stream",
     "text": [
      "C:\\Users\\squin\\anaconda3\\Lib\\site-packages\\sklearn\\cluster\\_kmeans.py:1962: UserWarning: MiniBatchKMeans is known to have a memory leak on Windows with MKL, when there are less chunks than available threads. You can prevent it by setting batch_size >= 2048 or by setting the environment variable OMP_NUM_THREADS=4\n",
      "  warnings.warn(\n"
     ]
    },
    {
     "name": "stdout",
     "output_type": "stream",
     "text": [
      "Couleurs triées (RGB) : [(254, 254, 254), (6, 0, 0), (253, 252, 252)]\n",
      "(254, 254, 254)\n",
      "🌟 Couleur principale : [(253, 252, 252), (6, 0, 0), (254, 254, 254)]\n",
      "\n",
      "🔍 Analyse de l'image : The-spongebob-squarepants-movie-logo.png\n"
     ]
    },
    {
     "name": "stderr",
     "output_type": "stream",
     "text": [
      "C:\\Users\\squin\\anaconda3\\Lib\\site-packages\\sklearn\\cluster\\_kmeans.py:1962: UserWarning: MiniBatchKMeans is known to have a memory leak on Windows with MKL, when there are less chunks than available threads. You can prevent it by setting batch_size >= 2048 or by setting the environment variable OMP_NUM_THREADS=4\n",
      "  warnings.warn(\n"
     ]
    },
    {
     "name": "stdout",
     "output_type": "stream",
     "text": [
      "Couleurs triées (RGB) : [(254, 254, 254), (22, 71, 95), (246, 216, 5)]\n",
      "(254, 254, 254)\n",
      "🌟 Couleur principale : [(246, 216, 5), (254, 254, 254), (22, 71, 95)]\n",
      "\n",
      "🔍 Analyse de l'image : Thehobbittrilogy.png\n"
     ]
    },
    {
     "name": "stderr",
     "output_type": "stream",
     "text": [
      "C:\\Users\\squin\\anaconda3\\Lib\\site-packages\\sklearn\\cluster\\_kmeans.py:1962: UserWarning: MiniBatchKMeans is known to have a memory leak on Windows with MKL, when there are less chunks than available threads. You can prevent it by setting batch_size >= 2048 or by setting the environment variable OMP_NUM_THREADS=4\n",
      "  warnings.warn(\n"
     ]
    },
    {
     "name": "stdout",
     "output_type": "stream",
     "text": [
      "Couleurs triées (RGB) : [(0, 0, 0), (205, 135, 34), (110, 54, 20)]\n",
      "(0, 0, 0)\n",
      "🌟 Couleur principale : [(0, 0, 0), (205, 135, 34), (110, 54, 20)]\n",
      "\n",
      "🔍 Analyse de l'image : TheKarateKidLogo.png\n"
     ]
    },
    {
     "name": "stderr",
     "output_type": "stream",
     "text": [
      "C:\\Users\\squin\\anaconda3\\Lib\\site-packages\\sklearn\\cluster\\_kmeans.py:1962: UserWarning: MiniBatchKMeans is known to have a memory leak on Windows with MKL, when there are less chunks than available threads. You can prevent it by setting batch_size >= 2048 or by setting the environment variable OMP_NUM_THREADS=4\n",
      "  warnings.warn(\n"
     ]
    },
    {
     "name": "stdout",
     "output_type": "stream",
     "text": [
      "Couleurs triées (RGB) : [(254, 254, 254), (36, 32, 33), (147, 145, 146)]\n",
      "(254, 254, 254)\n",
      "🌟 Couleur principale : [(254, 254, 254), (36, 32, 33), (147, 145, 146)]\n",
      "\n",
      "🔍 Analyse de l'image : TheRingThing.jpeg\n"
     ]
    },
    {
     "name": "stderr",
     "output_type": "stream",
     "text": [
      "C:\\Users\\squin\\anaconda3\\Lib\\site-packages\\sklearn\\cluster\\_kmeans.py:1962: UserWarning: MiniBatchKMeans is known to have a memory leak on Windows with MKL, when there are less chunks than available threads. You can prevent it by setting batch_size >= 2048 or by setting the environment variable OMP_NUM_THREADS=4\n",
      "  warnings.warn(\n"
     ]
    },
    {
     "name": "stdout",
     "output_type": "stream",
     "text": [
      "Couleurs triées (RGB) : [(5, 2, 0), (80, 40, 23), (184, 171, 150)]\n",
      "(5, 2, 0)\n",
      "🌟 Couleur principale : [(5, 2, 0), (184, 171, 150), (80, 40, 23)]\n",
      "\n",
      "🔍 Analyse de l'image : Thor.png\n"
     ]
    },
    {
     "name": "stderr",
     "output_type": "stream",
     "text": [
      "C:\\Users\\squin\\anaconda3\\Lib\\site-packages\\sklearn\\cluster\\_kmeans.py:1962: UserWarning: MiniBatchKMeans is known to have a memory leak on Windows with MKL, when there are less chunks than available threads. You can prevent it by setting batch_size >= 2048 or by setting the environment variable OMP_NUM_THREADS=4\n",
      "  warnings.warn(\n"
     ]
    },
    {
     "name": "stdout",
     "output_type": "stream",
     "text": [
      "Couleurs triées (RGB) : [(250, 250, 246), (169, 161, 135), (48, 43, 33)]\n",
      "(250, 250, 246)\n",
      "🌟 Couleur principale : [(250, 250, 246), (48, 43, 33), (169, 161, 135)]\n",
      "\n",
      "🔍 Analyse de l'image : ThorLoveandThunder.png\n"
     ]
    },
    {
     "name": "stderr",
     "output_type": "stream",
     "text": [
      "C:\\Users\\squin\\anaconda3\\Lib\\site-packages\\sklearn\\cluster\\_kmeans.py:1962: UserWarning: MiniBatchKMeans is known to have a memory leak on Windows with MKL, when there are less chunks than available threads. You can prevent it by setting batch_size >= 2048 or by setting the environment variable OMP_NUM_THREADS=4\n",
      "  warnings.warn(\n"
     ]
    },
    {
     "name": "stdout",
     "output_type": "stream",
     "text": [
      "Couleurs triées (RGB) : [(7, 4, 6), (97, 64, 76), (153, 198, 200)]\n",
      "(7, 4, 6)\n",
      "🌟 Couleur principale : [(7, 4, 6), (153, 198, 200), (97, 64, 76)]\n",
      "\n",
      "🔍 Analyse de l'image : TotalRecall%202012%20logo.PNG\n"
     ]
    },
    {
     "name": "stderr",
     "output_type": "stream",
     "text": [
      "C:\\Users\\squin\\anaconda3\\Lib\\site-packages\\sklearn\\cluster\\_kmeans.py:1962: UserWarning: MiniBatchKMeans is known to have a memory leak on Windows with MKL, when there are less chunks than available threads. You can prevent it by setting batch_size >= 2048 or by setting the environment variable OMP_NUM_THREADS=4\n",
      "  warnings.warn(\n"
     ]
    },
    {
     "name": "stdout",
     "output_type": "stream",
     "text": [
      "Couleurs triées (RGB) : [(1, 1, 4), (0, 0, 2), (241, 231, 231)]\n",
      "(1, 1, 4)\n",
      "🌟 Couleur principale : [(1, 1, 4), (241, 231, 231), (0, 0, 2)]\n",
      "\n",
      "🔍 Analyse de l'image : Tree%20of%20Life%20logo.png\n"
     ]
    },
    {
     "name": "stderr",
     "output_type": "stream",
     "text": [
      "C:\\Users\\squin\\anaconda3\\Lib\\site-packages\\sklearn\\cluster\\_kmeans.py:1962: UserWarning: MiniBatchKMeans is known to have a memory leak on Windows with MKL, when there are less chunks than available threads. You can prevent it by setting batch_size >= 2048 or by setting the environment variable OMP_NUM_THREADS=4\n",
      "  warnings.warn(\n"
     ]
    },
    {
     "name": "stdout",
     "output_type": "stream",
     "text": [
      "Couleurs triées (RGB) : [(0, 0, 0), (255, 255, 255), (80, 80, 80)]\n",
      "(0, 0, 0)\n",
      "🌟 Couleur principale : [(0, 0, 0), (255, 255, 255), (80, 80, 80)]\n",
      "\n",
      "🔍 Analyse de l'image : Viridiana%20movie%20black%20logo.png\n"
     ]
    },
    {
     "name": "stderr",
     "output_type": "stream",
     "text": [
      "C:\\Users\\squin\\anaconda3\\Lib\\site-packages\\sklearn\\cluster\\_kmeans.py:1962: UserWarning: MiniBatchKMeans is known to have a memory leak on Windows with MKL, when there are less chunks than available threads. You can prevent it by setting batch_size >= 2048 or by setting the environment variable OMP_NUM_THREADS=4\n",
      "  warnings.warn(\n"
     ]
    },
    {
     "name": "stdout",
     "output_type": "stream",
     "text": [
      "Couleurs triées (RGB) : [(1, 1, 1), (193, 193, 193), (109, 109, 109)]\n",
      "(1, 1, 1)\n",
      "🌟 Couleur principale : [(1, 1, 1), (109, 109, 109), (193, 193, 193)]\n",
      "\n",
      "🔍 Analyse de l'image : Weblogo.png\n"
     ]
    },
    {
     "name": "stderr",
     "output_type": "stream",
     "text": [
      "C:\\Users\\squin\\anaconda3\\Lib\\site-packages\\sklearn\\cluster\\_kmeans.py:1962: UserWarning: MiniBatchKMeans is known to have a memory leak on Windows with MKL, when there are less chunks than available threads. You can prevent it by setting batch_size >= 2048 or by setting the environment variable OMP_NUM_THREADS=4\n",
      "  warnings.warn(\n"
     ]
    },
    {
     "name": "stdout",
     "output_type": "stream",
     "text": [
      "Couleurs triées (RGB) : [(208, 231, 239), (27, 144, 237), (2, 4, 6)]\n",
      "(208, 231, 239)\n",
      "🌟 Couleur principale : [(27, 144, 237), (2, 4, 6), (208, 231, 239)]\n",
      "\n",
      "🔍 Analyse de l'image : West%20Side%20Story%20%282021%20film%20logo%20-%20alt%29.png\n"
     ]
    },
    {
     "name": "stderr",
     "output_type": "stream",
     "text": [
      "C:\\Users\\squin\\anaconda3\\Lib\\site-packages\\sklearn\\cluster\\_kmeans.py:1962: UserWarning: MiniBatchKMeans is known to have a memory leak on Windows with MKL, when there are less chunks than available threads. You can prevent it by setting batch_size >= 2048 or by setting the environment variable OMP_NUM_THREADS=4\n",
      "  warnings.warn(\n"
     ]
    },
    {
     "name": "stdout",
     "output_type": "stream",
     "text": [
      "Couleurs triées (RGB) : [(253, 253, 253), (1, 1, 1), (147, 147, 147)]\n",
      "(253, 253, 253)\n",
      "🌟 Couleur principale : [(253, 253, 253), (1, 1, 1), (147, 147, 147)]\n",
      "\n",
      "🔍 Analyse de l'image : Working%20Girl.jpg\n"
     ]
    },
    {
     "name": "stderr",
     "output_type": "stream",
     "text": [
      "C:\\Users\\squin\\anaconda3\\Lib\\site-packages\\sklearn\\cluster\\_kmeans.py:1962: UserWarning: MiniBatchKMeans is known to have a memory leak on Windows with MKL, when there are less chunks than available threads. You can prevent it by setting batch_size >= 2048 or by setting the environment variable OMP_NUM_THREADS=4\n",
      "  warnings.warn(\n"
     ]
    },
    {
     "name": "stdout",
     "output_type": "stream",
     "text": [
      "Couleurs triées (RGB) : [(4, 1, 1), (153, 39, 60), (88, 40, 47)]\n",
      "(4, 1, 1)\n",
      "🌟 Couleur principale : [(4, 1, 1), (153, 39, 60), (88, 40, 47)]\n",
      "\n",
      "🔍 Analyse de l'image : X-Men%20Days%20of%20Future%20Past%20Title.png\n"
     ]
    },
    {
     "name": "stderr",
     "output_type": "stream",
     "text": [
      "C:\\Users\\squin\\anaconda3\\Lib\\site-packages\\sklearn\\cluster\\_kmeans.py:1962: UserWarning: MiniBatchKMeans is known to have a memory leak on Windows with MKL, when there are less chunks than available threads. You can prevent it by setting batch_size >= 2048 or by setting the environment variable OMP_NUM_THREADS=4\n",
      "  warnings.warn(\n"
     ]
    },
    {
     "name": "stdout",
     "output_type": "stream",
     "text": [
      "Couleurs triées (RGB) : [(0, 0, 0), (3, 2, 2), (0, 0, 0)]\n",
      "(0, 0, 0)\n",
      "🌟 Couleur principale : [(0, 0, 0), (3, 2, 2), (0, 0, 0)]\n",
      "\n",
      "🔍 Analyse de l'image : X2x-menunitedlogo.jpg\n"
     ]
    },
    {
     "name": "stderr",
     "output_type": "stream",
     "text": [
      "C:\\Users\\squin\\anaconda3\\Lib\\site-packages\\sklearn\\cluster\\_kmeans.py:1962: UserWarning: MiniBatchKMeans is known to have a memory leak on Windows with MKL, when there are less chunks than available threads. You can prevent it by setting batch_size >= 2048 or by setting the environment variable OMP_NUM_THREADS=4\n",
      "  warnings.warn(\n"
     ]
    },
    {
     "name": "stdout",
     "output_type": "stream",
     "text": [
      "Couleurs triées (RGB) : [(245, 247, 250), (154, 170, 194), (43, 48, 65)]\n",
      "(245, 247, 250)\n",
      "🌟 Couleur principale : [(154, 170, 194), (43, 48, 65), (245, 247, 250)]\n",
      "✅ Mise à jour du JSON terminée !\n"
     ]
    }
   ],
   "source": [
    "import os\n",
    "import json\n",
    "import numpy as np\n",
    "from PIL import Image\n",
    "from sklearn.cluster import MiniBatchKMeans\n",
    "\n",
    "# 📂 Chemins des fichiers\n",
    "image_folder = \"images\"\n",
    "json_file_path = \"Projet Theotim x Daniel/exif_metadata.json\"\n",
    "\n",
    "# 📖 Charger le fichier JSON existant\n",
    "with open(json_file_path, \"r\", encoding=\"utf-8\") as file:\n",
    "    metadata = json.load(file)\n",
    "\n",
    "# 🔄 Créer un set des images présentes dans le JSON\n",
    "json_images = {img_data[\"Nom du fichier\"] for img_data in metadata}\n",
    "\n",
    "# 🔄 Lister les images du dossier qui existent aussi dans le JSON\n",
    "image_files = [f for f in os.listdir(image_folder) if f in json_images]\n",
    "\n",
    "# 🔍 Traiter chaque image du dossier SI ELLE EXISTE DANS LE JSON\n",
    "for img_name in image_files:\n",
    "    img_path = os.path.join(image_folder, img_name)\n",
    "    print(f\"\\n🔍 Analyse de l'image : {img_name}\")\n",
    "\n",
    "    # 📸 Ouvrir l'image et la convertir en tableau numpy\n",
    "    img = Image.open(img_path).convert(\"RGB\")\n",
    "    img_array = np.array(img).reshape(-1, 3)  # Transformer en liste de pixels (RGB)\n",
    "\n",
    "    # 🎯 Appliquer K-Means pour trouver les 5 couleurs dominantes\n",
    "    cluster_count = 3\n",
    "    kmeans = MiniBatchKMeans(n_clusters=cluster_count, n_init=10, random_state=0)\n",
    "    kmeans.fit(img_array)\n",
    "    # Récupérer les couleurs des clusters\n",
    "    cluster_centers = kmeans.cluster_centers_.astype(int)\n",
    "    \n",
    "    # Obtenir les labels des pixels\n",
    "    labels, counts = np.unique(kmeans.labels_, return_counts=True)\n",
    "    \n",
    "    # Trier les clusters par fréquence d'apparition (du plus fréquent au moins fréquent)\n",
    "    sorted_indices = np.argsort(-counts)  # Trie en ordre décroissant\n",
    "    \n",
    "    # Réorganiser les couleurs et les fréquences selon ce tri\n",
    "    sorted_cluster_centers = cluster_centers[sorted_indices]\n",
    "    sorted_colors = [tuple(color) for color in sorted_cluster_centers]    \n",
    "    # Afficher les résultats\n",
    "    print(\"Couleurs triées (RGB) :\", [tuple(color) for color in sorted_cluster_centers])\n",
    "   # print(\"Nombre de pixels par cluster :\", sorted_counts)\n",
    "    print(sorted_colors[0])\n",
    "\n",
    "    # 🔝 Conserver le format RGB sous forme de tuples\n",
    "    rgb_colors = [tuple(color) for color in cluster_centers]\n",
    "    \n",
    "    # 🔄 Mettre à jour le JSON avec les couleurs\n",
    "    for img_data in metadata:\n",
    "        if img_data[\"Nom du fichier\"] == img_name:\n",
    "            img_data[\"dominant_colors\"] = f\"{sorted_colors[0][0]} {sorted_colors[0][1]} {sorted_colors[0][2]}\"\n",
    "            break  # Une fois mis à jour, on passe à l'image suivante\n",
    "\n",
    "    # 🎨 Afficher la couleur la plus dominante\n",
    "    print(f\"🌟 Couleur principale : {rgb_colors}\")\n",
    "\n",
    "# 💾 Sauvegarder le JSON mis à jour\n",
    "with open(json_file_path, \"w\", encoding=\"utf-8\") as file:\n",
    "    json.dump(metadata, file, indent=4, ensure_ascii=False)\n",
    "\n",
    "print(\"✅ Mise à jour du JSON terminée !\")\n"
   ]
  },
  {
   "cell_type": "code",
   "execution_count": 11,
   "id": "e4606ab5-1885-4de0-966f-b4ea4b65d987",
   "metadata": {
    "tags": []
   },
   "outputs": [
    {
     "name": "stdout",
     "output_type": "stream",
     "text": [
      "\n",
      "📂 Images disponibles :\n",
      "1. 2011-12-14-missionimpossible.jpg\n",
      "2. After%20Image%202001.jpg\n",
      "3. Blair-Witch-Project-logo.jpg\n",
      "4. Child%27s%20Play%202.jpg\n",
      "5. D9%20Logo.jpg\n",
      "6. Die%20Katze%201988.jpg\n",
      "7. Lava%20logo.jpg\n",
      "8. Logo%20Stuart%20Little%202.JPG\n",
      "9. MEANGIRLS.jpg\n",
      "10. Meier%20M%C3%BCller-Schrift.jpg\n",
      "11. Murder%20Mestri.jpg\n",
      "12. Nightmare%206.jpg\n",
      "13. Nightsesseion%20der%20film%20logo.jpg\n",
      "14. Pink%20Panther%20logo-en.jpg\n",
      "15. Predator%20logo.jpg\n",
      "16. Rakta%20Charitra%20Logo%20-%20Flickr%20-%20rgvzoomin.jpg\n",
      "17. Salinger%20Documentary%20Logo.jpg\n",
      "18. Spike%20Jonze%20-%20Her.jpg\n",
      "19. Subway-Film.jpg\n",
      "20. The%20Ghost%20and%20Mrs.%20Muir%20%281947%29%20trailer%20title.jpg\n",
      "21. The%20Phantom%20of%20the%20Opera%20title%20card.jpg\n",
      "22. The%20Runaways%20logo.jpg\n",
      "23. TheRingThing.jpeg\n",
      "24. Welcome%20Zindagi.jpg\n",
      "25. Working%20Girl.jpg\n",
      "26. X2x-menunitedlogo.jpg\n"
     ]
    },
    {
     "name": "stdin",
     "output_type": "stream",
     "text": [
      "\n",
      "Entrez le numéro de l'image à modifier :  23\n"
     ]
    },
    {
     "ename": "UnidentifiedImageError",
     "evalue": "cannot identify image file 'images\\\\TheRingThing.jpeg'",
     "output_type": "error",
     "traceback": [
      "\u001b[1;31m---------------------------------------------------------------------------\u001b[0m",
      "\u001b[1;31mUnidentifiedImageError\u001b[0m                    Traceback (most recent call last)",
      "Cell \u001b[1;32mIn[11], line 39\u001b[0m\n\u001b[0;32m     37\u001b[0m \u001b[38;5;66;03m# Charger l'image sélectionnée\u001b[39;00m\n\u001b[0;32m     38\u001b[0m image_path \u001b[38;5;241m=\u001b[39m os\u001b[38;5;241m.\u001b[39mpath\u001b[38;5;241m.\u001b[39mjoin(image_folder, image_name)\n\u001b[1;32m---> 39\u001b[0m img \u001b[38;5;241m=\u001b[39m Image\u001b[38;5;241m.\u001b[39mopen(image_path)\n\u001b[0;32m     41\u001b[0m \u001b[38;5;66;03m# Demander les tags à l'utilisateur\u001b[39;00m\n\u001b[0;32m     42\u001b[0m tags \u001b[38;5;241m=\u001b[39m \u001b[38;5;28minput\u001b[39m(\u001b[38;5;124m\"\u001b[39m\u001b[38;5;130;01m\\n\u001b[39;00m\u001b[38;5;124mEntrez les tags (séparés par des virgules) : \u001b[39m\u001b[38;5;124m\"\u001b[39m)\u001b[38;5;241m.\u001b[39mstrip()\n",
      "File \u001b[1;32m~\\anaconda3\\Lib\\site-packages\\PIL\\Image.py:3283\u001b[0m, in \u001b[0;36mopen\u001b[1;34m(fp, mode, formats)\u001b[0m\n\u001b[0;32m   3281\u001b[0m     warnings\u001b[38;5;241m.\u001b[39mwarn(message)\n\u001b[0;32m   3282\u001b[0m msg \u001b[38;5;241m=\u001b[39m \u001b[38;5;124m\"\u001b[39m\u001b[38;5;124mcannot identify image file \u001b[39m\u001b[38;5;132;01m%r\u001b[39;00m\u001b[38;5;124m\"\u001b[39m \u001b[38;5;241m%\u001b[39m (filename \u001b[38;5;28;01mif\u001b[39;00m filename \u001b[38;5;28;01melse\u001b[39;00m fp)\n\u001b[1;32m-> 3283\u001b[0m \u001b[38;5;28;01mraise\u001b[39;00m UnidentifiedImageError(msg)\n",
      "\u001b[1;31mUnidentifiedImageError\u001b[0m: cannot identify image file 'images\\\\TheRingThing.jpeg'"
     ]
    }
   ],
   "source": [
    "import os\n",
    "from PIL import Image\n",
    "from PIL.ExifTags import TAGS\n",
    "from PIL import TiffImagePlugin\n",
    "\n",
    "# Définir le dossier contenant les images\n",
    "image_folder = \"images\"  # Modifiez ce chemin selon votre dossier\n",
    "\n",
    "# Vérifier si le dossier existe\n",
    "if not os.path.exists(image_folder):\n",
    "    raise FileNotFoundError(f\"Le dossier '{image_folder}' n'existe pas.\")\n",
    "\n",
    "# Liste des fichiers image JPEG et TIFF dans le dossier\n",
    "image_files = [f for f in os.listdir(image_folder) if f.lower().endswith(('.jpg', '.jpeg', '.tiff'))]\n",
    "\n",
    "if not image_files:\n",
    "    print(\"❌ Aucune image JPEG ou TIFF trouvée dans le dossier.\")\n",
    "    exit()\n",
    "\n",
    "# Afficher la liste des images disponibles\n",
    "print(\"\\n📂 Images disponibles :\")\n",
    "for idx, img in enumerate(image_files, 1):\n",
    "    print(f\"{idx}. {img}\")\n",
    "\n",
    "# Demander à l'utilisateur de choisir une image\n",
    "while True:\n",
    "    try:\n",
    "        choice = int(input(\"\\nEntrez le numéro de l'image à modifier : \")) - 1\n",
    "        if 0 <= choice < len(image_files):\n",
    "            image_name = image_files[choice]\n",
    "            break\n",
    "        else:\n",
    "            print(\"❌ Numéro invalide, essayez encore.\")\n",
    "    except ValueError:\n",
    "        print(\"❌ Veuillez entrer un nombre.\")\n",
    "\n",
    "# Charger l'image sélectionnée\n",
    "image_path = os.path.join(image_folder, image_name)\n",
    "img = Image.open(image_path)\n",
    "\n",
    "# Demander les tags à l'utilisateur\n",
    "tags = input(\"\\nEntrez les tags (séparés par des virgules) : \").strip()\n",
    "if not tags:\n",
    "    print(\"❌ Aucun tag fourni, opération annulée.\")\n",
    "    exit()\n",
    "\n",
    "# Vérifier et récupérer les métadonnées EXIF existantes\n",
    "if \"exif\" in img.info:\n",
    "    exif_dict = img.getexif()\n",
    "else:\n",
    "    exif_dict = TiffImagePlugin.ImageFileDirectory_v2()\n",
    "\n",
    "# Ajouter les tags sous forme de description\n",
    "exif_dict[270] = tags  # 270 = ImageDescription en EXIF\n",
    "\n",
    "# Convertir les EXIF en bytes\n",
    "exif_bytes = exif_dict.tobytes()\n",
    "\n",
    "# Sauvegarde en remplaçant l'image existante\n",
    "img.save(image_path, exif=exif_bytes)\n",
    "print(f\"\\n✅ Tags ajoutés avec succès à {image_name} !\")\n"
   ]
  },
  {
   "cell_type": "code",
   "execution_count": 12,
   "id": "d4f4cfc3-e37c-4433-aed9-9400eb41cff5",
   "metadata": {
    "tags": []
   },
   "outputs": [
    {
     "name": "stdout",
     "output_type": "stream",
     "text": [
      "\n",
      "📂 Images disponibles :\n",
      "1. 2011-12-14-missionimpossible.jpg\n",
      "2. After%20Image%202001.jpg\n",
      "3. Blair-Witch-Project-logo.jpg\n",
      "4. Child%27s%20Play%202.jpg\n",
      "5. D9%20Logo.jpg\n",
      "6. Die%20Katze%201988.jpg\n",
      "7. Lava%20logo.jpg\n",
      "8. Logo%20Stuart%20Little%202.JPG\n",
      "9. MEANGIRLS.jpg\n",
      "10. Meier%20M%C3%BCller-Schrift.jpg\n",
      "11. Murder%20Mestri.jpg\n",
      "12. Nightmare%206.jpg\n",
      "13. Nightsesseion%20der%20film%20logo.jpg\n",
      "14. Pink%20Panther%20logo-en.jpg\n",
      "15. Predator%20logo.jpg\n",
      "16. Rakta%20Charitra%20Logo%20-%20Flickr%20-%20rgvzoomin.jpg\n",
      "17. Salinger%20Documentary%20Logo.jpg\n",
      "18. Spike%20Jonze%20-%20Her.jpg\n",
      "19. Subway-Film.jpg\n",
      "20. The%20Ghost%20and%20Mrs.%20Muir%20%281947%29%20trailer%20title.jpg\n",
      "21. The%20Phantom%20of%20the%20Opera%20title%20card.jpg\n",
      "22. The%20Runaways%20logo.jpg\n",
      "23. TheRingThing.jpeg\n",
      "24. Welcome%20Zindagi.jpg\n",
      "25. Working%20Girl.jpg\n",
      "26. X2x-menunitedlogo.jpg\n",
      "❌ Erreur lors du traitement de 2011-12-14-missionimpossible.jpg: cannot identify image file 'images\\\\2011-12-14-missionimpossible.jpg'\n",
      "❌ Erreur lors du traitement de The%20Phantom%20of%20the%20Opera%20title%20card.jpg: cannot identify image file 'images\\\\The%20Phantom%20of%20the%20Opera%20title%20card.jpg'\n",
      "❌ Erreur lors du traitement de TheRingThing.jpeg: cannot identify image file 'images\\\\TheRingThing.jpeg'\n",
      "❌ Erreur lors du traitement de X2x-menunitedlogo.jpg: cannot identify image file 'images\\\\X2x-menunitedlogo.jpg'\n"
     ]
    },
    {
     "data": {
      "text/html": [
       "<div>\n",
       "<style scoped>\n",
       "    .dataframe tbody tr th:only-of-type {\n",
       "        vertical-align: middle;\n",
       "    }\n",
       "\n",
       "    .dataframe tbody tr th {\n",
       "        vertical-align: top;\n",
       "    }\n",
       "\n",
       "    .dataframe thead th {\n",
       "        text-align: right;\n",
       "    }\n",
       "</style>\n",
       "<table border=\"1\" class=\"dataframe\">\n",
       "  <thead>\n",
       "    <tr style=\"text-align: right;\">\n",
       "      <th></th>\n",
       "      <th>Nom du fichier</th>\n",
       "      <th>Tags</th>\n",
       "    </tr>\n",
       "  </thead>\n",
       "  <tbody>\n",
       "    <tr>\n",
       "      <th>0</th>\n",
       "      <td>After%20Image%202001.jpg</td>\n",
       "      <td></td>\n",
       "    </tr>\n",
       "    <tr>\n",
       "      <th>1</th>\n",
       "      <td>Blair-Witch-Project-logo.jpg</td>\n",
       "      <td></td>\n",
       "    </tr>\n",
       "    <tr>\n",
       "      <th>2</th>\n",
       "      <td>Child%27s%20Play%202.jpg</td>\n",
       "      <td></td>\n",
       "    </tr>\n",
       "    <tr>\n",
       "      <th>3</th>\n",
       "      <td>D9%20Logo.jpg</td>\n",
       "      <td></td>\n",
       "    </tr>\n",
       "    <tr>\n",
       "      <th>4</th>\n",
       "      <td>Die%20Katze%201988.jpg</td>\n",
       "      <td></td>\n",
       "    </tr>\n",
       "    <tr>\n",
       "      <th>5</th>\n",
       "      <td>Lava%20logo.jpg</td>\n",
       "      <td></td>\n",
       "    </tr>\n",
       "    <tr>\n",
       "      <th>6</th>\n",
       "      <td>Logo%20Stuart%20Little%202.JPG</td>\n",
       "      <td></td>\n",
       "    </tr>\n",
       "    <tr>\n",
       "      <th>7</th>\n",
       "      <td>MEANGIRLS.jpg</td>\n",
       "      <td>test,test</td>\n",
       "    </tr>\n",
       "    <tr>\n",
       "      <th>8</th>\n",
       "      <td>Meier%20M%C3%BCller-Schrift.jpg</td>\n",
       "      <td></td>\n",
       "    </tr>\n",
       "    <tr>\n",
       "      <th>9</th>\n",
       "      <td>Murder%20Mestri.jpg</td>\n",
       "      <td></td>\n",
       "    </tr>\n",
       "    <tr>\n",
       "      <th>10</th>\n",
       "      <td>Nightmare%206.jpg</td>\n",
       "      <td></td>\n",
       "    </tr>\n",
       "    <tr>\n",
       "      <th>11</th>\n",
       "      <td>Nightsesseion%20der%20film%20logo.jpg</td>\n",
       "      <td></td>\n",
       "    </tr>\n",
       "    <tr>\n",
       "      <th>12</th>\n",
       "      <td>Pink%20Panther%20logo-en.jpg</td>\n",
       "      <td></td>\n",
       "    </tr>\n",
       "    <tr>\n",
       "      <th>13</th>\n",
       "      <td>Predator%20logo.jpg</td>\n",
       "      <td></td>\n",
       "    </tr>\n",
       "    <tr>\n",
       "      <th>14</th>\n",
       "      <td>Rakta%20Charitra%20Logo%20-%20Flickr%20-%20rgv...</td>\n",
       "      <td></td>\n",
       "    </tr>\n",
       "    <tr>\n",
       "      <th>15</th>\n",
       "      <td>Salinger%20Documentary%20Logo.jpg</td>\n",
       "      <td></td>\n",
       "    </tr>\n",
       "    <tr>\n",
       "      <th>16</th>\n",
       "      <td>Spike%20Jonze%20-%20Her.jpg</td>\n",
       "      <td>test</td>\n",
       "    </tr>\n",
       "    <tr>\n",
       "      <th>17</th>\n",
       "      <td>Subway-Film.jpg</td>\n",
       "      <td>horror</td>\n",
       "    </tr>\n",
       "    <tr>\n",
       "      <th>18</th>\n",
       "      <td>The%20Ghost%20and%20Mrs.%20Muir%20%281947%29%2...</td>\n",
       "      <td></td>\n",
       "    </tr>\n",
       "    <tr>\n",
       "      <th>19</th>\n",
       "      <td>The%20Runaways%20logo.jpg</td>\n",
       "      <td></td>\n",
       "    </tr>\n",
       "    <tr>\n",
       "      <th>20</th>\n",
       "      <td>Welcome%20Zindagi.jpg</td>\n",
       "      <td></td>\n",
       "    </tr>\n",
       "    <tr>\n",
       "      <th>21</th>\n",
       "      <td>Working%20Girl.jpg</td>\n",
       "      <td></td>\n",
       "    </tr>\n",
       "  </tbody>\n",
       "</table>\n",
       "</div>"
      ],
      "text/plain": [
       "                                       Nom du fichier       Tags\n",
       "0                            After%20Image%202001.jpg           \n",
       "1                        Blair-Witch-Project-logo.jpg           \n",
       "2                            Child%27s%20Play%202.jpg           \n",
       "3                                       D9%20Logo.jpg           \n",
       "4                              Die%20Katze%201988.jpg           \n",
       "5                                     Lava%20logo.jpg           \n",
       "6                      Logo%20Stuart%20Little%202.JPG           \n",
       "7                                       MEANGIRLS.jpg  test,test\n",
       "8                     Meier%20M%C3%BCller-Schrift.jpg           \n",
       "9                                 Murder%20Mestri.jpg           \n",
       "10                                  Nightmare%206.jpg           \n",
       "11              Nightsesseion%20der%20film%20logo.jpg           \n",
       "12                       Pink%20Panther%20logo-en.jpg           \n",
       "13                                Predator%20logo.jpg           \n",
       "14  Rakta%20Charitra%20Logo%20-%20Flickr%20-%20rgv...           \n",
       "15                  Salinger%20Documentary%20Logo.jpg           \n",
       "16                        Spike%20Jonze%20-%20Her.jpg       test\n",
       "17                                    Subway-Film.jpg     horror\n",
       "18  The%20Ghost%20and%20Mrs.%20Muir%20%281947%29%2...           \n",
       "19                          The%20Runaways%20logo.jpg           \n",
       "20                              Welcome%20Zindagi.jpg           \n",
       "21                                 Working%20Girl.jpg           "
      ]
     },
     "execution_count": 12,
     "metadata": {},
     "output_type": "execute_result"
    }
   ],
   "source": [
    "import os\n",
    "import pandas as pd\n",
    "from PIL import Image\n",
    "from PIL.ExifTags import TAGS\n",
    "\n",
    "\n",
    "image_folder = \"images\"  # Modifiez ce chemin selon votre dossier\n",
    "\n",
    "# Vérifier si le dossier existe\n",
    "if not os.path.exists(image_folder):\n",
    "    raise FileNotFoundError(f\"Le dossier '{image_folder}' n'existe pas.\")\n",
    "\n",
    "# Liste des fichiers image JPEG et TIFF dans le dossier\n",
    "image_files = [f for f in os.listdir(image_folder) if f.lower().endswith(('.jpg', '.jpeg', '.tiff'))]\n",
    "\n",
    "# Afficher la liste des images disponibles\n",
    "print(\"\\n📂 Images disponibles :\")\n",
    "for idx, img in enumerate(image_files, 1):\n",
    "    print(f\"{idx}. {img}\")\n",
    "    \n",
    "# Liste pour stocker les données\n",
    "data = []\n",
    "\n",
    "# Extraction des tags de chaque image\n",
    "for image_file in image_files:\n",
    "    image_path = os.path.join(image_folder, image_file)\n",
    "    try:\n",
    "        img = Image.open(image_path)\n",
    "        \n",
    "        # Vérifier si l'image contient des métadonnées EXIF\n",
    "        exif_data = img.getexif()\n",
    "        image_tags = \"\"\n",
    "\n",
    "        if exif_data:\n",
    "            image_tags = exif_data.get(270, \"\")  # 270 = ImageDescription (où les tags sont stockés)\n",
    "\n",
    "        # Ajouter les données à la liste\n",
    "        data.append({\"Nom du fichier\": image_file, \"Tags\": image_tags})\n",
    "\n",
    "    except Exception as e:\n",
    "        print(f\"❌ Erreur lors du traitement de {image_file}: {e}\")\n",
    "\n",
    "# Création du DataFrame\n",
    "df_tags = pd.DataFrame(data)\n",
    "\n",
    "# Affichage du DataFrame\n",
    "df_tags\n"
   ]
  },
  {
   "cell_type": "code",
   "execution_count": 21,
   "id": "a57cb187-4064-4f9d-a5ab-ca52dd24bc42",
   "metadata": {},
   "outputs": [
    {
     "name": "stdout",
     "output_type": "stream",
     "text": [
      "\n",
      "📂 Images disponibles :\n",
      "1. 2001%20A%20Space%20Odyssey%20%28logo%29.png\n",
      "2. 2011-12-14-missionimpossible.jpg\n",
      "3. A%20Cinderella%20Story%20logo.png\n",
      "4. Absurd%20Logo.png\n",
      "5. After%20Image%202001.jpg\n",
      "6. Basket%20Case%202%20Logo.png\n",
      "7. Black%20Is%20King%20wordmark%20%28alt%29.png\n",
      "8. Blade-runner-2049-logo%202.png\n",
      "9. Blair-Witch-Project-logo.jpg\n",
      "10. Brothers%20%28film%29%20Logo.png\n",
      "11. Child%27s%20Play%202.jpg\n",
      "12. Coffy%20Logo.png\n",
      "13. D9%20Logo.jpg\n",
      "14. Das%20Haus%20der%20Peitschen%20Originalschriftzug.png\n",
      "15. Delicatessen%20movie%20logo.png\n",
      "16. Die%20Katze%201988.jpg\n",
      "17. Disney%27s%20Coco%20logo.png\n",
      "18. Dobermann%20%28Film%29%20Logo.png\n",
      "19. Don%27t%20Breathe%20Free%20Logo.png\n",
      "20. Fantastic%20Four%20Logo.png\n",
      "21. Fatal%20Attraction.png\n",
      "22. Federico%20Fellini%20-%20Amarcord.png\n",
      "23. Ferdinand%20Film%20Logo.png\n",
      "24. Fight%20Club%20logo1.png\n",
      "25. Friday%20the%2013th%20Part%20II%20logo.png\n",
      "26. Friday%20the%2013th%20The%20New%20Blood%20logo.png\n",
      "27. Furious-7-logo.png\n",
      "28. Ghost-World.png\n",
      "29. Godzilla%201998%20logo.png\n",
      "30. Grossesse%20surprise%20logo.PNG\n",
      "31. Gruft%20der%20Vampire%20Logo.png\n",
      "32. Hitch%20Logo.png\n",
      "33. Ich%20bin%20dein%20Mensch%20Logo.png\n",
      "34. Ida%20%28movie%29%20logo.png\n",
      "35. Lava%20logo.jpg\n",
      "36. Les%20Mis%C3%A9rables%20%28film%2C%202019%29%20-%20logo.png\n",
      "37. Logo%2013%20Grand-maman%20Fr.png\n",
      "38. Logo%206%20%C3%80%20contre-courant%20Fr.png\n",
      "39. Logo%20de%20Joy.png\n",
      "40. Logo%20La%20Soupe%20aux%20choux%20%28titre%20sur%20l%27affiche%29.png\n",
      "41. Logo%20Stuart%20Little%202.JPG\n",
      "42. Mad%20Max%20%28logo%29.png\n",
      "43. MEANGIRLS.jpg\n",
      "44. Meier%20M%C3%BCller-Schrift.jpg\n",
      "45. Midnight%20Cowboy%20logo.png\n",
      "46. Murder%20Mestri.jpg\n",
      "47. Nightmare%206.jpg\n",
      "48. Nightsesseion%20der%20film%20logo.jpg\n",
      "49. On%20the%20Waterfront%20%28logo%29.png\n",
      "50. Open%20season%20logo.PNG\n",
      "51. Palm%20springs%20%282020%20film%29%20Logo.png\n",
      "52. Parkerlogo2013.png\n",
      "53. Pink%20Panther%20logo-en.jpg\n",
      "54. Plaza%20Catedral%20Logo.png\n",
      "55. Powidoki%20logo.png\n",
      "56. Predator%20logo.jpg\n",
      "57. Rakta%20Charitra%20Logo%20-%20Flickr%20-%20rgvzoomin.jpg\n",
      "58. RIngsLogo.png\n",
      "59. Salinger%20Documentary%20Logo.jpg\n",
      "60. Schindlers%20List%20logo.png\n",
      "61. Schlo%C3%9F%20des%20Schreckens%20Logo.png\n",
      "62. Sex%2C%20Lies%2C%20and%20Videotapes%20movie%20horizontal%20black%20logo.png\n",
      "63. Shin%20Ultraman%20logo.png\n",
      "64. Sisters%20%281973%29%20trailer%20title%20card.png\n",
      "65. Spike%20Jonze%20-%20Her.jpg\n",
      "66. Star%20Trek%20Insurrection%20Logo.png\n",
      "67. Subway-Film.jpg\n",
      "68. Superman-Returns-Logo.png\n",
      "69. Tank%20Girl%20logo.png\n",
      "70. The%20Equalizer.png\n",
      "71. The%20Game%20%28David%20Fincher%29%20logo.png\n",
      "72. The%20Ghost%20and%20Mrs.%20Muir%20%281947%29%20trailer%20title.jpg\n",
      "73. The%20Lawless%20Frontier%20%281934%29%2001.png\n",
      "74. The%20Mortal%20Instruments%20%28Logo%20film%29.png\n",
      "75. The%20Runaways%20logo.jpg\n",
      "76. The%20Silence%20of%20the%20Lambs.png\n",
      "77. The%20SpongeBob%20Movie%20Sponge%20Out%20of%20Water%20logo.png\n",
      "78. The%20SpongeBob%20Movie-%20Sponge%20on%20the%20Run%20logo.png\n",
      "79. The%20Trail%20Beyond%20%281934%29%2001.png\n",
      "80. The%20Voyage%20Home%20logo.png\n",
      "81. The%20wolf%20of%20Wall%20Street%202013%20logo.PNG\n",
      "82. The%20X-Files%20title%20logo.png\n",
      "83. The-spongebob-squarepants-movie-logo.png\n",
      "84. Thehobbittrilogy.png\n",
      "85. TheKarateKidLogo.png\n",
      "86. Thor.png\n",
      "87. ThorLoveandThunder.png\n",
      "88. TotalRecall%202012%20logo.PNG\n",
      "89. Tree%20of%20Life%20logo.png\n",
      "90. Viridiana%20movie%20black%20logo.png\n",
      "91. Weblogo.png\n",
      "92. Welcome%20Zindagi.jpg\n",
      "93. Working%20Girl.jpg\n",
      "94. X-Men%20Days%20of%20Future%20Past%20Title.png\n"
     ]
    },
    {
     "name": "stdin",
     "output_type": "stream",
     "text": [
      "\n",
      "Entrez les numéros des images à analyser (séparés par des virgules) :  90,91,92,93,94\n",
      "Entrez les tags pour 'Viridiana%20movie%20black%20logo.png' (séparés par des virgules) :  bleu,couleur\n",
      "Entrez les tags pour 'Weblogo.png' (séparés par des virgules) :  rouge,couleur\n",
      "Entrez les tags pour 'Welcome%20Zindagi.jpg' (séparés par des virgules) :  noir,couleur\n",
      "Entrez les tags pour 'Working%20Girl.jpg' (séparés par des virgules) :  film,taille\n",
      "Entrez les tags pour 'X-Men%20Days%20of%20Future%20Past%20Title.png' (séparés par des virgules) :  film,taille\n"
     ]
    },
    {
     "name": "stdout",
     "output_type": "stream",
     "text": [
      "\n",
      "✅ Images sélectionnées avec tags enregistrés !\n"
     ]
    }
   ],
   "source": [
    "import os\n",
    "from PIL import Image\n",
    "from PIL.ExifTags import TAGS\n",
    "import random\n",
    "\n",
    "# Définir le dossier des images\n",
    "image_folder = \"images\"\n",
    "\n",
    "# Vérifier l'existence du dossier\n",
    "if not os.path.exists(image_folder):\n",
    "    raise FileNotFoundError(f\"Le dossier '{image_folder}' n'existe pas.\")\n",
    "\n",
    "# Liste des fichiers image\n",
    "image_files = [f for f in os.listdir(image_folder) if f.lower().endswith(('.jpg', '.jpeg', '.tiff', '.png'))]\n",
    "\n",
    "if not image_files:\n",
    "    print(\"❌ Aucune image trouvée.\")\n",
    "    exit()\n",
    "\n",
    "# Afficher la liste des images\n",
    "print(\"\\n📂 Images disponibles :\")\n",
    "for idx, img in enumerate(image_files, 1):\n",
    "    print(f\"{idx}. {img}\")\n",
    "\n",
    "# Sélection d'images par l'utilisateur\n",
    "selected_images = []\n",
    "while True:\n",
    "    try:\n",
    "        choices = input(\"\\nEntrez les numéros des images à analyser (séparés par des virgules) : \")\n",
    "        selected_images = [image_files[int(i)-1] for i in choices.split(\",\")]\n",
    "        break\n",
    "    except (ValueError, IndexError):\n",
    "        print(\"❌ Sélection invalide. Réessayez.\")\n",
    "\n",
    "# Demander les tags pour chaque image sélectionnée\n",
    "image_data = {}\n",
    "for img_name in selected_images:\n",
    "    tags = input(f\"Entrez les tags pour '{img_name}' (séparés par des virgules) : \").strip().split(\",\")\n",
    "    image_data[img_name] = {\"tags\": [tag.strip() for tag in tags]}\n",
    "\n",
    "print(\"\\n✅ Images sélectionnées avec tags enregistrés !\")\n"
   ]
  },
  {
   "cell_type": "code",
   "execution_count": 22,
   "id": "22970c92-ab49-41c1-b6f3-b47434ffe90a",
   "metadata": {
    "tags": []
   },
   "outputs": [
    {
     "name": "stdout",
     "output_type": "stream",
     "text": [
      "\n",
      "✅ Caractéristiques des images analysées !\n"
     ]
    },
    {
     "data": {
      "text/html": [
       "<div>\n",
       "<style scoped>\n",
       "    .dataframe tbody tr th:only-of-type {\n",
       "        vertical-align: middle;\n",
       "    }\n",
       "\n",
       "    .dataframe tbody tr th {\n",
       "        vertical-align: top;\n",
       "    }\n",
       "\n",
       "    .dataframe thead th {\n",
       "        text-align: right;\n",
       "    }\n",
       "</style>\n",
       "<table border=\"1\" class=\"dataframe\">\n",
       "  <thead>\n",
       "    <tr style=\"text-align: right;\">\n",
       "      <th></th>\n",
       "      <th>Viridiana%20movie%20black%20logo.png</th>\n",
       "      <th>Weblogo.png</th>\n",
       "      <th>Welcome%20Zindagi.jpg</th>\n",
       "      <th>Working%20Girl.jpg</th>\n",
       "      <th>X-Men%20Days%20of%20Future%20Past%20Title.png</th>\n",
       "    </tr>\n",
       "  </thead>\n",
       "  <tbody>\n",
       "    <tr>\n",
       "      <th>tags</th>\n",
       "      <td>[bleu, couleur]</td>\n",
       "      <td>[rouge, couleur]</td>\n",
       "      <td>[noir, couleur]</td>\n",
       "      <td>[film, taille]</td>\n",
       "      <td>[film, taille]</td>\n",
       "    </tr>\n",
       "    <tr>\n",
       "      <th>size</th>\n",
       "      <td>1920x745</td>\n",
       "      <td>300x300</td>\n",
       "      <td>678x677</td>\n",
       "      <td>336x103</td>\n",
       "      <td>1600x408</td>\n",
       "    </tr>\n",
       "    <tr>\n",
       "      <th>orientation</th>\n",
       "      <td>Paysage</td>\n",
       "      <td>Paysage</td>\n",
       "      <td>Paysage</td>\n",
       "      <td>Paysage</td>\n",
       "      <td>Paysage</td>\n",
       "    </tr>\n",
       "    <tr>\n",
       "      <th>dominant_color</th>\n",
       "      <td>[10, 10, 10]</td>\n",
       "      <td>[81, 128, 163]</td>\n",
       "      <td>[241, 210, 216]</td>\n",
       "      <td>[20, 6, 8]</td>\n",
       "      <td>[0, 0, 0]</td>\n",
       "    </tr>\n",
       "  </tbody>\n",
       "</table>\n",
       "</div>"
      ],
      "text/plain": [
       "               Viridiana%20movie%20black%20logo.png       Weblogo.png  \\\n",
       "tags                                [bleu, couleur]  [rouge, couleur]   \n",
       "size                                       1920x745           300x300   \n",
       "orientation                                 Paysage           Paysage   \n",
       "dominant_color                         [10, 10, 10]    [81, 128, 163]   \n",
       "\n",
       "               Welcome%20Zindagi.jpg Working%20Girl.jpg  \\\n",
       "tags                 [noir, couleur]     [film, taille]   \n",
       "size                         678x677            336x103   \n",
       "orientation                  Paysage            Paysage   \n",
       "dominant_color       [241, 210, 216]         [20, 6, 8]   \n",
       "\n",
       "               X-Men%20Days%20of%20Future%20Past%20Title.png  \n",
       "tags                                          [film, taille]  \n",
       "size                                                1600x408  \n",
       "orientation                                          Paysage  \n",
       "dominant_color                                     [0, 0, 0]  "
      ]
     },
     "execution_count": 22,
     "metadata": {},
     "output_type": "execute_result"
    }
   ],
   "source": [
    "import numpy as np\n",
    "import cv2\n",
    "from sklearn.cluster import KMeans\n",
    "\n",
    "def get_image_features(image_folder, image_data):\n",
    "    for img_name in image_data.keys():\n",
    "        image_path = os.path.join(image_folder, img_name)\n",
    "        img = Image.open(image_path)\n",
    "        \n",
    "        # 📏 Taille et orientation\n",
    "        width, height = img.size\n",
    "        image_data[img_name][\"size\"] = f\"{width}x{height}\"\n",
    "        image_data[img_name][\"orientation\"] = \"Portrait\" if height > width else \"Paysage\"\n",
    "\n",
    "        # 🎨 Extraction de la couleur dominante\n",
    "        img_cv = cv2.imread(image_path)\n",
    "        img_cv = cv2.cvtColor(img_cv, cv2.COLOR_BGR2RGB)\n",
    "        img_cv = img_cv.reshape((-1, 3))  # Conversion en liste de pixels\n",
    "\n",
    "        kmeans = KMeans(n_clusters=1, n_init=10)\n",
    "        kmeans.fit(img_cv)\n",
    "        dominant_color = kmeans.cluster_centers_[0].astype(int).tolist()\n",
    "\n",
    "        image_data[img_name][\"dominant_color\"] = dominant_color\n",
    "\n",
    "    return image_data\n",
    "\n",
    "# Extraction des caractéristiques des images\n",
    "image_data = get_image_features(image_folder, image_data)\n",
    "print(\"\\n✅ Caractéristiques des images analysées !\")\n",
    "image_dataframe = pd.DataFrame(image_data)\n",
    "image_dataframe\n",
    "\n"
   ]
  },
  {
   "cell_type": "code",
   "execution_count": 29,
   "id": "290ab2fc-2301-469b-a852-b58a95b001a5",
   "metadata": {
    "tags": []
   },
   "outputs": [
    {
     "name": "stdout",
     "output_type": "stream",
     "text": [
      "\n",
      "✅ Utilisateurs générés avec leurs préférences !\n"
     ]
    },
    {
     "data": {
      "text/html": [
       "<div>\n",
       "<style scoped>\n",
       "    .dataframe tbody tr th:only-of-type {\n",
       "        vertical-align: middle;\n",
       "    }\n",
       "\n",
       "    .dataframe tbody tr th {\n",
       "        vertical-align: top;\n",
       "    }\n",
       "\n",
       "    .dataframe thead th {\n",
       "        text-align: right;\n",
       "    }\n",
       "</style>\n",
       "<table border=\"1\" class=\"dataframe\">\n",
       "  <thead>\n",
       "    <tr style=\"text-align: right;\">\n",
       "      <th></th>\n",
       "      <th>User_1</th>\n",
       "      <th>User_2</th>\n",
       "      <th>User_3</th>\n",
       "      <th>User_4</th>\n",
       "      <th>User_5</th>\n",
       "      <th>User_6</th>\n",
       "      <th>User_7</th>\n",
       "    </tr>\n",
       "  </thead>\n",
       "  <tbody>\n",
       "    <tr>\n",
       "      <th>preferred_images</th>\n",
       "      <td>[Welcome%20Zindagi.jpg, Weblogo.png, Viridiana...</td>\n",
       "      <td>[Working%20Girl.jpg, Viridiana%20movie%20black...</td>\n",
       "      <td>[Working%20Girl.jpg, Viridiana%20movie%20black...</td>\n",
       "      <td>[X-Men%20Days%20of%20Future%20Past%20Title.png...</td>\n",
       "      <td>[Working%20Girl.jpg, Welcome%20Zindagi.jpg, Vi...</td>\n",
       "      <td>[Welcome%20Zindagi.jpg, X-Men%20Days%20of%20Fu...</td>\n",
       "      <td>[Weblogo.png, X-Men%20Days%20of%20Future%20Pas...</td>\n",
       "    </tr>\n",
       "    <tr>\n",
       "      <th>preferred_colors</th>\n",
       "      <td>[[241, 210, 216], [81, 128, 163], [10, 10, 10]]</td>\n",
       "      <td>[[20, 6, 8], [10, 10, 10], [81, 128, 163]]</td>\n",
       "      <td>[[20, 6, 8], [10, 10, 10], [0, 0, 0]]</td>\n",
       "      <td>[[0, 0, 0], [241, 210, 216], [10, 10, 10]]</td>\n",
       "      <td>[[20, 6, 8], [241, 210, 216], [10, 10, 10]]</td>\n",
       "      <td>[[241, 210, 216], [0, 0, 0], [81, 128, 163]]</td>\n",
       "      <td>[[81, 128, 163], [0, 0, 0], [20, 6, 8]]</td>\n",
       "    </tr>\n",
       "    <tr>\n",
       "      <th>preferred_orientation</th>\n",
       "      <td>[Paysage, Paysage, Paysage]</td>\n",
       "      <td>[Paysage, Paysage, Paysage]</td>\n",
       "      <td>[Paysage, Paysage, Paysage]</td>\n",
       "      <td>[Paysage, Paysage, Paysage]</td>\n",
       "      <td>[Paysage, Paysage, Paysage]</td>\n",
       "      <td>[Paysage, Paysage, Paysage]</td>\n",
       "      <td>[Paysage, Paysage, Paysage]</td>\n",
       "    </tr>\n",
       "    <tr>\n",
       "      <th>preferred_tags</th>\n",
       "      <td>[noir, couleur, rouge, couleur, bleu, couleur]</td>\n",
       "      <td>[film, taille, bleu, couleur, rouge, couleur]</td>\n",
       "      <td>[film, taille, bleu, couleur, film, taille]</td>\n",
       "      <td>[film, taille, noir, couleur, bleu, couleur]</td>\n",
       "      <td>[film, taille, noir, couleur, bleu, couleur]</td>\n",
       "      <td>[noir, couleur, film, taille, rouge, couleur]</td>\n",
       "      <td>[rouge, couleur, film, taille, film, taille]</td>\n",
       "    </tr>\n",
       "  </tbody>\n",
       "</table>\n",
       "</div>"
      ],
      "text/plain": [
       "                                                                  User_1  \\\n",
       "preferred_images       [Welcome%20Zindagi.jpg, Weblogo.png, Viridiana...   \n",
       "preferred_colors         [[241, 210, 216], [81, 128, 163], [10, 10, 10]]   \n",
       "preferred_orientation                        [Paysage, Paysage, Paysage]   \n",
       "preferred_tags            [noir, couleur, rouge, couleur, bleu, couleur]   \n",
       "\n",
       "                                                                  User_2  \\\n",
       "preferred_images       [Working%20Girl.jpg, Viridiana%20movie%20black...   \n",
       "preferred_colors              [[20, 6, 8], [10, 10, 10], [81, 128, 163]]   \n",
       "preferred_orientation                        [Paysage, Paysage, Paysage]   \n",
       "preferred_tags             [film, taille, bleu, couleur, rouge, couleur]   \n",
       "\n",
       "                                                                  User_3  \\\n",
       "preferred_images       [Working%20Girl.jpg, Viridiana%20movie%20black...   \n",
       "preferred_colors                   [[20, 6, 8], [10, 10, 10], [0, 0, 0]]   \n",
       "preferred_orientation                        [Paysage, Paysage, Paysage]   \n",
       "preferred_tags               [film, taille, bleu, couleur, film, taille]   \n",
       "\n",
       "                                                                  User_4  \\\n",
       "preferred_images       [X-Men%20Days%20of%20Future%20Past%20Title.png...   \n",
       "preferred_colors              [[0, 0, 0], [241, 210, 216], [10, 10, 10]]   \n",
       "preferred_orientation                        [Paysage, Paysage, Paysage]   \n",
       "preferred_tags              [film, taille, noir, couleur, bleu, couleur]   \n",
       "\n",
       "                                                                  User_5  \\\n",
       "preferred_images       [Working%20Girl.jpg, Welcome%20Zindagi.jpg, Vi...   \n",
       "preferred_colors             [[20, 6, 8], [241, 210, 216], [10, 10, 10]]   \n",
       "preferred_orientation                        [Paysage, Paysage, Paysage]   \n",
       "preferred_tags              [film, taille, noir, couleur, bleu, couleur]   \n",
       "\n",
       "                                                                  User_6  \\\n",
       "preferred_images       [Welcome%20Zindagi.jpg, X-Men%20Days%20of%20Fu...   \n",
       "preferred_colors            [[241, 210, 216], [0, 0, 0], [81, 128, 163]]   \n",
       "preferred_orientation                        [Paysage, Paysage, Paysage]   \n",
       "preferred_tags             [noir, couleur, film, taille, rouge, couleur]   \n",
       "\n",
       "                                                                  User_7  \n",
       "preferred_images       [Weblogo.png, X-Men%20Days%20of%20Future%20Pas...  \n",
       "preferred_colors                 [[81, 128, 163], [0, 0, 0], [20, 6, 8]]  \n",
       "preferred_orientation                        [Paysage, Paysage, Paysage]  \n",
       "preferred_tags              [rouge, couleur, film, taille, film, taille]  "
      ]
     },
     "execution_count": 29,
     "metadata": {},
     "output_type": "execute_result"
    }
   ],
   "source": [
    "import random\n",
    "\n",
    "# Nombre d'utilisateurs fictifs\n",
    "N_USERS = 7 \n",
    "\n",
    "def generate_users(n, image_data):\n",
    "    users = {}\n",
    "\n",
    "    for i in range(n):\n",
    "        user_id = f\"User_{i+1}\"\n",
    "        selected_images = random.sample(list(image_data.keys()), k=min(3, len(image_data)))  # 3 images max\n",
    "        user_preferences = {\n",
    "            \"preferred_images\": selected_images,\n",
    "            \"preferred_colors\": [image_data[img][\"dominant_color\"] for img in selected_images],\n",
    "            \"preferred_orientation\": [image_data[img][\"orientation\"] for img in selected_images],\n",
    "            \"preferred_tags\": [tag for img in selected_images for tag in image_data[img][\"tags\"]]\n",
    "        }\n",
    "        users[user_id] = user_preferences\n",
    "\n",
    "    return users\n",
    "\n",
    "# Création des utilisateurs aléatoires\n",
    "users_data = generate_users(N_USERS, image_data)\n",
    "print(\"\\n✅ Utilisateurs générés avec leurs préférences !\")\n",
    "users_dataframe = pd.DataFrame(users_data)\n",
    "users_dataframe"
   ]
  },
  {
   "cell_type": "code",
   "execution_count": 30,
   "id": "28a5bb61-8c28-4f88-8180-7a6e7fad3531",
   "metadata": {
    "tags": []
   },
   "outputs": [
    {
     "name": "stderr",
     "output_type": "stream",
     "text": [
      "C:\\Users\\squin\\anaconda3\\Lib\\site-packages\\sklearn\\cluster\\_kmeans.py:1436: UserWarning: KMeans is known to have a memory leak on Windows with MKL, when there are less chunks than available threads. You can avoid it by setting the environment variable OMP_NUM_THREADS=1.\n",
      "  warnings.warn(\n"
     ]
    },
    {
     "name": "stdout",
     "output_type": "stream",
     "text": [
      "🟢 Cluster 1: ['User_2', 'User_3', 'User_7']\n",
      "🟢 Cluster 2: ['User_1', 'User_6']\n",
      "🟢 Cluster 3: ['User_4', 'User_5']\n"
     ]
    },
    {
     "data": {
      "image/png": "[encoded data removed]",
      "text/plain": [
       "<Figure size 640x480 with 1 Axes>"
      ]
     },
     "metadata": {},
     "output_type": "display_data"
    }
   ],
   "source": [
    "from sklearn.cluster import KMeans\n",
    "import matplotlib.pyplot as plt\n",
    "from collections import Counter\n",
    "\n",
    "# Convertir les préférences en format numérique\n",
    "user_features = []\n",
    "user_ids = []\n",
    "\n",
    "for user, prefs in users_data.items():\n",
    "    avg_color = np.mean(prefs[\"preferred_colors\"], axis=0)\n",
    "    orientation_counts = Counter(prefs[\"preferred_orientation\"])\n",
    "    portrait_ratio = orientation_counts.get(\"Portrait\", 0) / sum(orientation_counts.values())\n",
    "\n",
    "    user_features.append(list(avg_color) + [portrait_ratio])\n",
    "    user_ids.append(user)\n",
    "\n",
    "# Clustering des utilisateurs\n",
    "num_clusters = 3\n",
    "kmeans = KMeans(n_clusters=num_clusters, n_init=10)\n",
    "clusters = kmeans.fit_predict(user_features)\n",
    "\n",
    "# Associer les utilisateurs aux clusters\n",
    "user_clusters = {user_ids[i]: clusters[i] for i in range(len(user_ids))}\n",
    "\n",
    "# Affichage des résultats\n",
    "for cluster_id in range(num_clusters):\n",
    "    cluster_members = [user for user, cluster in user_clusters.items() if cluster == cluster_id]\n",
    "    print(f\"🟢 Cluster {cluster_id+1}: {cluster_members}\")\n",
    "\n",
    "# Visualisation des clusters\n",
    "plt.scatter([f[0] for f in user_features], [f[1] for f in user_features], c=clusters, cmap='viridis')\n",
    "plt.xlabel(\"Couleur dominante (moyenne de R)\")\n",
    "plt.ylabel(\"Ratio Portrait/Paysage\")\n",
    "plt.title(\"Regroupement des utilisateurs selon leurs préférences\")\n",
    "plt.show()\n"
   ]
  },
  {
   "cell_type": "code",
   "execution_count": null,
   "id": "1a6fc48b-ef9c-42a3-b745-cca3a80b714e",
   "metadata": {},
   "outputs": [],
   "source": []
  }
 ],
 "metadata": {
  "kernelspec": {
   "display_name": "Python 3 (ipykernel)",
   "language": "python",
   "name": "python3"
  },
  "language_info": {
   "codemirror_mode": {
    "name": "ipython",
    "version": 3
   },
   "file_extension": ".py",
   "mimetype": "text/x-python",
   "name": "python",
   "nbconvert_exporter": "python",
   "pygments_lexer": "ipython3",
   "version": "3.11.5"
  }
 },
 "nbformat": 4,
 "nbformat_minor": 5
}
