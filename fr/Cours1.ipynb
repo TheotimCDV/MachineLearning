{
 "cells": [
  {
   "cell_type": "markdown",
   "id": "7d7377e6-06d6-46d0-b2be-d13cba0a6c33",
   "metadata": {},
   "source": [
    "Pour utiliser wikidata\n",
    "\n",
    "SELECT ?montagne ?pic ?label ?taille ?range ?rangelabel WHERE {\n",
    "  ?montagne wdt:P31 wd:Q8502;\n",
    "    wdt:P17 wd:Q142;\n",
    "    wdt:P18 ?pic;\n",
    "    rdfs:label ?label;\n",
    "    wdt:P2044 ?taille;\n",
    "    wdt:P4552 ?range.\n",
    "    ?range rdfs:label ?rangelabel \n",
    "  FILTER(lang(?label)=\"fr\" && lang(?rangelabel)=\"fr\").\n",
    "}\n",
    "LIMIT 100\n",
    "\n"
   ]
  },
  {
   "cell_type": "markdown",
   "id": "99902cc1-b329-4dc1-a5b3-7014e4612f39",
   "metadata": {},
   "source": [
    "SELECT DISTINCT ?film ?label (GROUP_CONCAT(DISTINCT ?originname; separator=\", \") AS ?origins) WHERE {\n",
    "  ?film wdt:P31 wd:Q11424;  # Instance de film\n",
    "        wdt:P166 wd:Q102427;  # A gagné un Oscar\n",
    "        wdt:P495 ?origin;  # Pays d'origine\n",
    "        rdfs:label ?label.\n",
    "  \n",
    "  ?origin rdfs:label ?originname.\n",
    "\n",
    "  FILTER(lang(?label)=\"en\" && lang(?originname)=\"en\")\n",
    "}\n",
    "GROUP BY ?film ?label\n",
    "LIMIT 100\n",
    "\n",
    "#liste des films ayant gagne l'oscar"
   ]
  }
 ],
 "metadata": {
  "kernelspec": {
   "display_name": "Python 3 (ipykernel)",
   "language": "python",
   "name": "python3"
  },
  "language_info": {
   "codemirror_mode": {
    "name": "ipython",
    "version": 3
   },
   "file_extension": ".py",
   "mimetype": "text/x-python",
   "name": "python",
   "nbconvert_exporter": "python",
   "pygments_lexer": "ipython3",
   "version": "3.11.5"
  }
 },
 "nbformat": 4,
 "nbformat_minor": 5
}
